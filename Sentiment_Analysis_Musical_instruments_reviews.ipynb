{
 "cells": [
  {
   "cell_type": "markdown",
   "metadata": {},
   "source": [
    "# Importing Necessary Libraries and Packages"
   ]
  },
  {
   "cell_type": "code",
   "execution_count": 1,
   "metadata": {},
   "outputs": [],
   "source": [
    "import pandas as pd\n",
    "import random\n",
    "import string\n",
    "import nltk\n",
    "from nltk.tokenize import WhitespaceTokenizer\n",
    "from nltk.corpus import stopwords\n",
    "from nltk import classify\n",
    "from nltk import NaiveBayesClassifier\n",
    "import seaborn as sns\n",
    "import matplotlib.pyplot as plt\n",
    "from nltk.sentiment.vader import SentimentIntensityAnalyzer\n",
    "from nltk import sent_tokenize, pos_tag\n",
    "from nltk.tokenize import TreebankWordTokenizer\n",
    "from nltk.stem import WordNetLemmatizer\n",
    "from nltk.corpus import wordnet as wn\n",
    "from nltk.corpus import sentiwordnet as swn\n",
    "from nltk.sentiment.util import mark_negation\n",
    "from string import punctuation\n",
    "from IPython.display import display\n",
    "import pandas as pd\n",
    "import numpy as np\n",
    "import seaborn as sns\n",
    "import matplotlib.pyplot as plt\n",
    "pd.set_option('display.max_columns', None)\n",
    "pd.set_option('display.max_colwidth', None)"
   ]
  },
  {
   "cell_type": "code",
   "execution_count": 2,
   "metadata": {},
   "outputs": [],
   "source": [
    "import pandas as pd"
   ]
  },
  {
   "cell_type": "code",
   "execution_count": 3,
   "metadata": {},
   "outputs": [
    {
     "data": {
      "text/plain": [
       "'E:\\\\Users\\\\ganesh\\\\year_3\\\\NLP'"
      ]
     },
     "execution_count": 3,
     "metadata": {},
     "output_type": "execute_result"
    }
   ],
   "source": [
    "import os\n",
    "os.getcwd()"
   ]
  },
  {
   "cell_type": "code",
   "execution_count": 4,
   "metadata": {
    "scrolled": true
   },
   "outputs": [],
   "source": [
    "df = pd.read_json('./FA_2022/Musical_Instruments_5.json',lines=True)"
   ]
  },
  {
   "cell_type": "code",
   "execution_count": 5,
   "metadata": {},
   "outputs": [
    {
     "data": {
      "text/plain": [
       "(10261, 9)"
      ]
     },
     "execution_count": 5,
     "metadata": {},
     "output_type": "execute_result"
    }
   ],
   "source": [
    "df.shape"
   ]
  },
  {
   "cell_type": "code",
   "execution_count": 6,
   "metadata": {},
   "outputs": [
    {
     "data": {
      "text/html": [
       "<div>\n",
       "<style scoped>\n",
       "    .dataframe tbody tr th:only-of-type {\n",
       "        vertical-align: middle;\n",
       "    }\n",
       "\n",
       "    .dataframe tbody tr th {\n",
       "        vertical-align: top;\n",
       "    }\n",
       "\n",
       "    .dataframe thead th {\n",
       "        text-align: right;\n",
       "    }\n",
       "</style>\n",
       "<table border=\"1\" class=\"dataframe\">\n",
       "  <thead>\n",
       "    <tr style=\"text-align: right;\">\n",
       "      <th></th>\n",
       "      <th>reviewerID</th>\n",
       "      <th>asin</th>\n",
       "      <th>reviewerName</th>\n",
       "      <th>helpful</th>\n",
       "      <th>reviewText</th>\n",
       "      <th>overall</th>\n",
       "      <th>summary</th>\n",
       "      <th>unixReviewTime</th>\n",
       "      <th>reviewTime</th>\n",
       "    </tr>\n",
       "  </thead>\n",
       "  <tbody>\n",
       "    <tr>\n",
       "      <th>0</th>\n",
       "      <td>A2IBPI20UZIR0U</td>\n",
       "      <td>1384719342</td>\n",
       "      <td>cassandra tu \"Yeah, well, that's just like, u...</td>\n",
       "      <td>[0, 0]</td>\n",
       "      <td>Not much to write about here, but it does exactly what it's supposed to. filters out the pop sounds. now my recordings are much more crisp. it is one of the lowest prices pop filters on amazon so might as well buy it, they honestly work the same despite their pricing,</td>\n",
       "      <td>5</td>\n",
       "      <td>good</td>\n",
       "      <td>1393545600</td>\n",
       "      <td>02 28, 2014</td>\n",
       "    </tr>\n",
       "    <tr>\n",
       "      <th>1</th>\n",
       "      <td>A14VAT5EAX3D9S</td>\n",
       "      <td>1384719342</td>\n",
       "      <td>Jake</td>\n",
       "      <td>[13, 14]</td>\n",
       "      <td>The product does exactly as it should and is quite affordable.I did not realized it was double screened until it arrived, so it was even better than I had expected.As an added bonus, one of the screens carries a small hint of the smell of an old grape candy I used to buy, so for reminiscent's sake, I cannot stop putting the pop filter next to my nose and smelling it after recording. :DIf you needed a pop filter, this will work just as well as the expensive ones, and it may even come with a pleasing aroma like mine did!Buy this product! :]</td>\n",
       "      <td>5</td>\n",
       "      <td>Jake</td>\n",
       "      <td>1363392000</td>\n",
       "      <td>03 16, 2013</td>\n",
       "    </tr>\n",
       "    <tr>\n",
       "      <th>2</th>\n",
       "      <td>A195EZSQDW3E21</td>\n",
       "      <td>1384719342</td>\n",
       "      <td>Rick Bennette \"Rick Bennette\"</td>\n",
       "      <td>[1, 1]</td>\n",
       "      <td>The primary job of this device is to block the breath that would otherwise produce a popping sound, while allowing your voice to pass through with no noticeable reduction of volume or high frequencies. The double cloth filter blocks the pops and lets the voice through with no coloration. The metal clamp mount attaches to the mike stand secure enough to keep it attached. The goose neck needs a little coaxing to stay where you put it.</td>\n",
       "      <td>5</td>\n",
       "      <td>It Does The Job Well</td>\n",
       "      <td>1377648000</td>\n",
       "      <td>08 28, 2013</td>\n",
       "    </tr>\n",
       "    <tr>\n",
       "      <th>3</th>\n",
       "      <td>A2C00NNG1ZQQG2</td>\n",
       "      <td>1384719342</td>\n",
       "      <td>RustyBill \"Sunday Rocker\"</td>\n",
       "      <td>[0, 0]</td>\n",
       "      <td>Nice windscreen protects my MXL mic and prevents pops. Only thing is that the gooseneck is only marginally able to hold the screen in position and requires careful positioning of the clamp to avoid sagging.</td>\n",
       "      <td>5</td>\n",
       "      <td>GOOD WINDSCREEN FOR THE MONEY</td>\n",
       "      <td>1392336000</td>\n",
       "      <td>02 14, 2014</td>\n",
       "    </tr>\n",
       "    <tr>\n",
       "      <th>4</th>\n",
       "      <td>A94QU4C90B1AX</td>\n",
       "      <td>1384719342</td>\n",
       "      <td>SEAN MASLANKA</td>\n",
       "      <td>[0, 0]</td>\n",
       "      <td>This pop filter is great. It looks and performs like a studio filter. If you're recording vocals this will eliminate the pops that gets recorded when you sing.</td>\n",
       "      <td>5</td>\n",
       "      <td>No more pops when I record my vocals.</td>\n",
       "      <td>1392940800</td>\n",
       "      <td>02 21, 2014</td>\n",
       "    </tr>\n",
       "    <tr>\n",
       "      <th>...</th>\n",
       "      <td>...</td>\n",
       "      <td>...</td>\n",
       "      <td>...</td>\n",
       "      <td>...</td>\n",
       "      <td>...</td>\n",
       "      <td>...</td>\n",
       "      <td>...</td>\n",
       "      <td>...</td>\n",
       "      <td>...</td>\n",
       "    </tr>\n",
       "    <tr>\n",
       "      <th>10256</th>\n",
       "      <td>A14B2YH83ZXMPP</td>\n",
       "      <td>B00JBIVXGC</td>\n",
       "      <td>Lonnie M. Adams</td>\n",
       "      <td>[0, 0]</td>\n",
       "      <td>Great, just as expected.  Thank to all.</td>\n",
       "      <td>5</td>\n",
       "      <td>Five Stars</td>\n",
       "      <td>1405814400</td>\n",
       "      <td>07 20, 2014</td>\n",
       "    </tr>\n",
       "    <tr>\n",
       "      <th>10257</th>\n",
       "      <td>A1RPTVW5VEOSI</td>\n",
       "      <td>B00JBIVXGC</td>\n",
       "      <td>Michael J. Edelman</td>\n",
       "      <td>[0, 0]</td>\n",
       "      <td>I've been thinking about trying the Nanoweb strings for a while, but I was a bit put off by the high price (they cost about twice as much as the uncharted strings I've been buying)  and the comments of some reviewers that the tone of coated strings is noticeably duller. I was intrigued by the promise of long life, though; I have a Taylor Big Baby that I bought used, and which came with a set of Nanowebs that had probably been on it for a year- and they didn't sound at all like old strings. This review set gave me a chance to finally see for myself how they sound when new.I'd just changed the strings on my 1970s Gibson Gospel a week ago, so I decided that would be my reference. The Nanowebs went on my 1970s Guild D-35. Both are well broken in, solid spruce top guitars. The Gospel is a bit brighter sounding, but I'm pretty familiar with the sound of both guitars. If they D-35 sounded dull, I'd notice.As I was unwrapping the Nanowebs I noticed that while they were labeled \"Light\" gauge, they had a 0.013\" E string- something you'd be more likely to find on a set of medium gauge strings. The B was a .017, compared to the .016 of the D'Addarios I usually play. The rest of the strings were there usual light gauges. Turns out that these are \"HD Light\" gauge, designed to have a slightly more tension and better articulation at the high end. The difference shouldn't be enough to require any truss rod adjustment so I went ahead and installed them on the D-35.So how do they sound? The unwound E and B don't sound different from any other plain steel string, of course. The E does feel a tiny bit stiffer, when I switch between the D-35 and the Gospel. Sound-wise, I'd say they sound like a good set that have been on a guitar for a day. I wouldn't call them dull by any stretch of the imagination. If I didn't know that they were coated strings I certainly wouldn't be able to tell from playing them. So they're good sounding strings, and they last a long time. That leaves the question of cost- are they worth twice the price of uncoated strings?Here's the way I see it: If you're a heavy strummer, or playing gigs every night, maybe not. You're probably breaking strings or losing them to metal fatigue long before they'd go dull from corrosion or contamination. But if you're a finger picker, or a light strummer, a coated string will probably save you a lot of money in the long run. And if you're a hobby player who keeps a guitar around the house, and picks it up once in a while to entertain friends or family, coated strings are probably an excellent choice. For myself, I'm going to leave these on the D-35 for as long as they still sound good. I'll update this review when I find out just how long they do last.Follow up: After playing these for a few days, I actually went out and bought a set in the same gauge for my Loar LH-350, an arch top guitar with a carved top that gets played more than any of my other guitars. They sound great on the Loar, and now I have two guitars to do a long term test on.</td>\n",
       "      <td>5</td>\n",
       "      <td>Long life, and for some players, a good economic choice, too</td>\n",
       "      <td>1404259200</td>\n",
       "      <td>07 2, 2014</td>\n",
       "    </tr>\n",
       "    <tr>\n",
       "      <th>10258</th>\n",
       "      <td>AWCJ12KBO5VII</td>\n",
       "      <td>B00JBIVXGC</td>\n",
       "      <td>Michael L. Knapp</td>\n",
       "      <td>[0, 0]</td>\n",
       "      <td>I have tried coated strings in the past ( including Elixirs) and have never been very fond of them. Whenever I tried them I felt a certain disconnect from my guitar. Somewhat reminiscent of wearing condom. Not that I hated them, just didn't really love them. These are the best ones I've tried so far. I still don't like them as much as regular strings but because of the type of gigs I mostly do these seem to be a reasonable trade off. If you need a longer lasting string for whatever the reason these are really the best out there. After a dozen or so gigs with them, they still sound the same as when I put them on.</td>\n",
       "      <td>4</td>\n",
       "      <td>Good for coated.</td>\n",
       "      <td>1405987200</td>\n",
       "      <td>07 22, 2014</td>\n",
       "    </tr>\n",
       "    <tr>\n",
       "      <th>10259</th>\n",
       "      <td>A2Z7S8B5U4PAKJ</td>\n",
       "      <td>B00JBIVXGC</td>\n",
       "      <td>Rick Langdon \"Scriptor\"</td>\n",
       "      <td>[0, 0]</td>\n",
       "      <td>Well, MADE by Elixir and DEVELOPED with Taylor Guitars ... these strings were designed for the new 800 (Rosewood) series guitars that came out this year (2014) ... the promise is a &amp;#34;bolder high end, fuller low end&amp;#34; ... I am a long-time Taylor owner and favor their 800 series (Rosewood/Spruce is my favorite combo in tone woods) ... I have almost always used Elixir Nanoweb Phosphor Bronze lights on my guitars ... I like not only the tone but the feel and longevity of these strings ... I have never had any issues with Elixir Nanowebs ... I recently picked up an 812ce First Edition 12-Fret ... such a fine instrument and it came with the Elixir HD's ... took some getting used to as far as feel (due to the slightly higher gauges of the treble strings - E, B &amp; G) ... but as far as sound, they are great ... the D, A &amp; low E strings are no different from the regular Elixir PB Lights so I am not sure about the claim of &amp;#34;fuller low end&amp;#34; ... compared to what?  Unless the extra string tension of the treble strings also contributes to a little more bass response ... I am not sure how these strings will perform on guitars other than Taylor's but what anyone should notice is more volume and clarity from the treble strings ... that is what I notice most from the HD's compared to the regular ... I still find no fault with the regular Elixir Nanaweb PB's but will most likely continue to run the HD's on my 12-fret ... I may also try them on my older 814ce just to see if there is any difference/improvement ... so far I find the set well balanced with good clarity and sustain ... try them out and make your own decision ...</td>\n",
       "      <td>4</td>\n",
       "      <td>Taylor Made</td>\n",
       "      <td>1404172800</td>\n",
       "      <td>07 1, 2014</td>\n",
       "    </tr>\n",
       "    <tr>\n",
       "      <th>10260</th>\n",
       "      <td>A2WA8TDCTGUADI</td>\n",
       "      <td>B00JBIVXGC</td>\n",
       "      <td>TheTerrorBeyond</td>\n",
       "      <td>[0, 0]</td>\n",
       "      <td>These strings are really quite good, but I wouldn't call them perfect.  The unwound strings are not quite as bright as I am accustomed to, but they still ring nicely.  This is the only complaint I have about these strings.  If the unwound strings were a tiny bit brighter, these would be 5-star strings.  As it stands, I give them 4.5 stars... not a big knock, actually.The low-end on the wound strings is very nice and quite warm.  I put these on a jumbo and it definitely accentuates the &amp;#34;jumbo&amp;#34; aspect of my acoustic.  The sound is very big, full, and nice.Definitely a recommended product!4.5/5 stars</td>\n",
       "      <td>4</td>\n",
       "      <td>These strings are really quite good, but I wouldn't call them perfect</td>\n",
       "      <td>1405468800</td>\n",
       "      <td>07 16, 2014</td>\n",
       "    </tr>\n",
       "  </tbody>\n",
       "</table>\n",
       "<p>10261 rows × 9 columns</p>\n",
       "</div>"
      ],
      "text/plain": [
       "           reviewerID        asin  \\\n",
       "0      A2IBPI20UZIR0U  1384719342   \n",
       "1      A14VAT5EAX3D9S  1384719342   \n",
       "2      A195EZSQDW3E21  1384719342   \n",
       "3      A2C00NNG1ZQQG2  1384719342   \n",
       "4       A94QU4C90B1AX  1384719342   \n",
       "...               ...         ...   \n",
       "10256  A14B2YH83ZXMPP  B00JBIVXGC   \n",
       "10257   A1RPTVW5VEOSI  B00JBIVXGC   \n",
       "10258   AWCJ12KBO5VII  B00JBIVXGC   \n",
       "10259  A2Z7S8B5U4PAKJ  B00JBIVXGC   \n",
       "10260  A2WA8TDCTGUADI  B00JBIVXGC   \n",
       "\n",
       "                                           reviewerName   helpful  \\\n",
       "0      cassandra tu \"Yeah, well, that's just like, u...    [0, 0]   \n",
       "1                                                  Jake  [13, 14]   \n",
       "2                         Rick Bennette \"Rick Bennette\"    [1, 1]   \n",
       "3                             RustyBill \"Sunday Rocker\"    [0, 0]   \n",
       "4                                         SEAN MASLANKA    [0, 0]   \n",
       "...                                                 ...       ...   \n",
       "10256                                   Lonnie M. Adams    [0, 0]   \n",
       "10257                                Michael J. Edelman    [0, 0]   \n",
       "10258                                  Michael L. Knapp    [0, 0]   \n",
       "10259                           Rick Langdon \"Scriptor\"    [0, 0]   \n",
       "10260                                   TheTerrorBeyond    [0, 0]   \n",
       "\n",
       "                                                                                                                                                                                                                                                                                                                                                                                                                                                                                                                                                                                                                                                                                                                                                                                                                                                                                                                                                                                                                                                                                                                                                                                                                                                                                                                                                                                                                                                                                                                                                                                                                                                                                                                                                                                                                                                                                                                                                                                                                                                                                                                                                                                                                                                                                                                                                                                                                                                                                                                                                                                                                                                                                                                                                                                                                                                                                                                                                                                                                                                                                                                                                reviewText  \\\n",
       "0                                                                                                                                                                                                                                                                                                                                                                                                                                                                                                                                                                                                                                                                                                                                                                                                                                                                                                                                                                                                                                                                                                                                                                                                                                                                                                                                                                                                                                                                                                                                                                                                                                                                                                                                                                                                                                                                                                                                                                                                                                                                                                                                                                                                                                                                                                                                                                                                                                                                                                                                                                                                                                                                                                                                                                                                                                                                             Not much to write about here, but it does exactly what it's supposed to. filters out the pop sounds. now my recordings are much more crisp. it is one of the lowest prices pop filters on amazon so might as well buy it, they honestly work the same despite their pricing,   \n",
       "1                                                                                                                                                                                                                                                                                                                                                                                                                                                                                                                                                                                                                                                                                                                                                                                                                                                                                                                                                                                                                                                                                                                                                                                                                                                                                                                                                                                                                                                                                                                                                                                                                                                                                                                                                                                                                                                                                                                                                                                                                                                                                                                                                                                                                                                                                                                                                                                                                                                                                                                                                                                         The product does exactly as it should and is quite affordable.I did not realized it was double screened until it arrived, so it was even better than I had expected.As an added bonus, one of the screens carries a small hint of the smell of an old grape candy I used to buy, so for reminiscent's sake, I cannot stop putting the pop filter next to my nose and smelling it after recording. :DIf you needed a pop filter, this will work just as well as the expensive ones, and it may even come with a pleasing aroma like mine did!Buy this product! :]   \n",
       "2                                                                                                                                                                                                                                                                                                                                                                                                                                                                                                                                                                                                                                                                                                                                                                                                                                                                                                                                                                                                                                                                                                                                                                                                                                                                                                                                                                                                                                                                                                                                                                                                                                                                                                                                                                                                                                                                                                                                                                                                                                                                                                                                                                                                                                                                                                                                                                                                                                                                                                                                                                                                                                                                                                     The primary job of this device is to block the breath that would otherwise produce a popping sound, while allowing your voice to pass through with no noticeable reduction of volume or high frequencies. The double cloth filter blocks the pops and lets the voice through with no coloration. The metal clamp mount attaches to the mike stand secure enough to keep it attached. The goose neck needs a little coaxing to stay where you put it.   \n",
       "3                                                                                                                                                                                                                                                                                                                                                                                                                                                                                                                                                                                                                                                                                                                                                                                                                                                                                                                                                                                                                                                                                                                                                                                                                                                                                                                                                                                                                                                                                                                                                                                                                                                                                                                                                                                                                                                                                                                                                                                                                                                                                                                                                                                                                                                                                                                                                                                                                                                                                                                                                                                                                                                                                                                                                                                                                                                                                                                                           Nice windscreen protects my MXL mic and prevents pops. Only thing is that the gooseneck is only marginally able to hold the screen in position and requires careful positioning of the clamp to avoid sagging.   \n",
       "4                                                                                                                                                                                                                                                                                                                                                                                                                                                                                                                                                                                                                                                                                                                                                                                                                                                                                                                                                                                                                                                                                                                                                                                                                                                                                                                                                                                                                                                                                                                                                                                                                                                                                                                                                                                                                                                                                                                                                                                                                                                                                                                                                                                                                                                                                                                                                                                                                                                                                                                                                                                                                                                                                                                                                                                                                                                                                                                                                                                          This pop filter is great. It looks and performs like a studio filter. If you're recording vocals this will eliminate the pops that gets recorded when you sing.   \n",
       "...                                                                                                                                                                                                                                                                                                                                                                                                                                                                                                                                                                                                                                                                                                                                                                                                                                                                                                                                                                                                                                                                                                                                                                                                                                                                                                                                                                                                                                                                                                                                                                                                                                                                                                                                                                                                                                                                                                                                                                                                                                                                                                                                                                                                                                                                                                                                                                                                                                                                                                                                                                                                                                                                                                                                                                                                                                                                                                                                                                                                                                                                                                                                                    ...   \n",
       "10256                                                                                                                                                                                                                                                                                                                                                                                                                                                                                                                                                                                                                                                                                                                                                                                                                                                                                                                                                                                                                                                                                                                                                                                                                                                                                                                                                                                                                                                                                                                                                                                                                                                                                                                                                                                                                                                                                                                                                                                                                                                                                                                                                                                                                                                                                                                                                                                                                                                                                                                                                                                                                                                                                                                                                                                                                                                                                                                                                                                                                                                                                                              Great, just as expected.  Thank to all.   \n",
       "10257  I've been thinking about trying the Nanoweb strings for a while, but I was a bit put off by the high price (they cost about twice as much as the uncharted strings I've been buying)  and the comments of some reviewers that the tone of coated strings is noticeably duller. I was intrigued by the promise of long life, though; I have a Taylor Big Baby that I bought used, and which came with a set of Nanowebs that had probably been on it for a year- and they didn't sound at all like old strings. This review set gave me a chance to finally see for myself how they sound when new.I'd just changed the strings on my 1970s Gibson Gospel a week ago, so I decided that would be my reference. The Nanowebs went on my 1970s Guild D-35. Both are well broken in, solid spruce top guitars. The Gospel is a bit brighter sounding, but I'm pretty familiar with the sound of both guitars. If they D-35 sounded dull, I'd notice.As I was unwrapping the Nanowebs I noticed that while they were labeled \"Light\" gauge, they had a 0.013\" E string- something you'd be more likely to find on a set of medium gauge strings. The B was a .017, compared to the .016 of the D'Addarios I usually play. The rest of the strings were there usual light gauges. Turns out that these are \"HD Light\" gauge, designed to have a slightly more tension and better articulation at the high end. The difference shouldn't be enough to require any truss rod adjustment so I went ahead and installed them on the D-35.So how do they sound? The unwound E and B don't sound different from any other plain steel string, of course. The E does feel a tiny bit stiffer, when I switch between the D-35 and the Gospel. Sound-wise, I'd say they sound like a good set that have been on a guitar for a day. I wouldn't call them dull by any stretch of the imagination. If I didn't know that they were coated strings I certainly wouldn't be able to tell from playing them. So they're good sounding strings, and they last a long time. That leaves the question of cost- are they worth twice the price of uncoated strings?Here's the way I see it: If you're a heavy strummer, or playing gigs every night, maybe not. You're probably breaking strings or losing them to metal fatigue long before they'd go dull from corrosion or contamination. But if you're a finger picker, or a light strummer, a coated string will probably save you a lot of money in the long run. And if you're a hobby player who keeps a guitar around the house, and picks it up once in a while to entertain friends or family, coated strings are probably an excellent choice. For myself, I'm going to leave these on the D-35 for as long as they still sound good. I'll update this review when I find out just how long they do last.Follow up: After playing these for a few days, I actually went out and bought a set in the same gauge for my Loar LH-350, an arch top guitar with a carved top that gets played more than any of my other guitars. They sound great on the Loar, and now I have two guitars to do a long term test on.   \n",
       "10258                                                                                                                                                                                                                                                                                                                                                                                                                                                                                                                                                                                                                                                                                                                                                                                                                                                                                                                                                                                                                                                                                                                                                                                                                                                                                                                                                                                                                                                                                                                                                                                                                                                                                                                                                                                                                                                                                                                                                                                                                                                                                                                                                                                                                                                                                                                                                                                                                                                                                                          I have tried coated strings in the past ( including Elixirs) and have never been very fond of them. Whenever I tried them I felt a certain disconnect from my guitar. Somewhat reminiscent of wearing condom. Not that I hated them, just didn't really love them. These are the best ones I've tried so far. I still don't like them as much as regular strings but because of the type of gigs I mostly do these seem to be a reasonable trade off. If you need a longer lasting string for whatever the reason these are really the best out there. After a dozen or so gigs with them, they still sound the same as when I put them on.   \n",
       "10259                                                                                                                                                                                                                                                                                                                                                                                                                                                                                                                                                                                                                                                                                                                                                                                                                                                                                                                                                                                                                                                                                                                                                                                                                                                                                                                                                                                                                                         Well, MADE by Elixir and DEVELOPED with Taylor Guitars ... these strings were designed for the new 800 (Rosewood) series guitars that came out this year (2014) ... the promise is a &#34;bolder high end, fuller low end&#34; ... I am a long-time Taylor owner and favor their 800 series (Rosewood/Spruce is my favorite combo in tone woods) ... I have almost always used Elixir Nanoweb Phosphor Bronze lights on my guitars ... I like not only the tone but the feel and longevity of these strings ... I have never had any issues with Elixir Nanowebs ... I recently picked up an 812ce First Edition 12-Fret ... such a fine instrument and it came with the Elixir HD's ... took some getting used to as far as feel (due to the slightly higher gauges of the treble strings - E, B & G) ... but as far as sound, they are great ... the D, A & low E strings are no different from the regular Elixir PB Lights so I am not sure about the claim of &#34;fuller low end&#34; ... compared to what?  Unless the extra string tension of the treble strings also contributes to a little more bass response ... I am not sure how these strings will perform on guitars other than Taylor's but what anyone should notice is more volume and clarity from the treble strings ... that is what I notice most from the HD's compared to the regular ... I still find no fault with the regular Elixir Nanaweb PB's but will most likely continue to run the HD's on my 12-fret ... I may also try them on my older 814ce just to see if there is any difference/improvement ... so far I find the set well balanced with good clarity and sustain ... try them out and make your own decision ...   \n",
       "10260                                                                                                                                                                                                                                                                                                                                                                                                                                                                                                                                                                                                                                                                                                                                                                                                                                                                                                                                                                                                                                                                                                                                                                                                                                                                                                                                                                                                                                                                                                                                                                                                                                                                                                                                                                                                                                                                                                                                                                                                                                                                                                                                                                                                                                                                                                                                                                                                                                                                                                                 These strings are really quite good, but I wouldn't call them perfect.  The unwound strings are not quite as bright as I am accustomed to, but they still ring nicely.  This is the only complaint I have about these strings.  If the unwound strings were a tiny bit brighter, these would be 5-star strings.  As it stands, I give them 4.5 stars... not a big knock, actually.The low-end on the wound strings is very nice and quite warm.  I put these on a jumbo and it definitely accentuates the &#34;jumbo&#34; aspect of my acoustic.  The sound is very big, full, and nice.Definitely a recommended product!4.5/5 stars   \n",
       "\n",
       "       overall  \\\n",
       "0            5   \n",
       "1            5   \n",
       "2            5   \n",
       "3            5   \n",
       "4            5   \n",
       "...        ...   \n",
       "10256        5   \n",
       "10257        5   \n",
       "10258        4   \n",
       "10259        4   \n",
       "10260        4   \n",
       "\n",
       "                                                                     summary  \\\n",
       "0                                                                       good   \n",
       "1                                                                       Jake   \n",
       "2                                                       It Does The Job Well   \n",
       "3                                              GOOD WINDSCREEN FOR THE MONEY   \n",
       "4                                      No more pops when I record my vocals.   \n",
       "...                                                                      ...   \n",
       "10256                                                             Five Stars   \n",
       "10257           Long life, and for some players, a good economic choice, too   \n",
       "10258                                                       Good for coated.   \n",
       "10259                                                            Taylor Made   \n",
       "10260  These strings are really quite good, but I wouldn't call them perfect   \n",
       "\n",
       "       unixReviewTime   reviewTime  \n",
       "0          1393545600  02 28, 2014  \n",
       "1          1363392000  03 16, 2013  \n",
       "2          1377648000  08 28, 2013  \n",
       "3          1392336000  02 14, 2014  \n",
       "4          1392940800  02 21, 2014  \n",
       "...               ...          ...  \n",
       "10256      1405814400  07 20, 2014  \n",
       "10257      1404259200   07 2, 2014  \n",
       "10258      1405987200  07 22, 2014  \n",
       "10259      1404172800   07 1, 2014  \n",
       "10260      1405468800  07 16, 2014  \n",
       "\n",
       "[10261 rows x 9 columns]"
      ]
     },
     "execution_count": 6,
     "metadata": {},
     "output_type": "execute_result"
    }
   ],
   "source": [
    "df"
   ]
  },
  {
   "cell_type": "code",
   "execution_count": 7,
   "metadata": {},
   "outputs": [],
   "source": [
    "df=df.dropna(axis=0)"
   ]
  },
  {
   "cell_type": "code",
   "execution_count": 8,
   "metadata": {},
   "outputs": [
    {
     "data": {
      "text/plain": [
       "(10234, 9)"
      ]
     },
     "execution_count": 8,
     "metadata": {},
     "output_type": "execute_result"
    }
   ],
   "source": [
    "df.shape"
   ]
  },
  {
   "cell_type": "code",
   "execution_count": 9,
   "metadata": {
    "scrolled": true
   },
   "outputs": [
    {
     "data": {
      "text/html": [
       "<div>\n",
       "<style scoped>\n",
       "    .dataframe tbody tr th:only-of-type {\n",
       "        vertical-align: middle;\n",
       "    }\n",
       "\n",
       "    .dataframe tbody tr th {\n",
       "        vertical-align: top;\n",
       "    }\n",
       "\n",
       "    .dataframe thead th {\n",
       "        text-align: right;\n",
       "    }\n",
       "</style>\n",
       "<table border=\"1\" class=\"dataframe\">\n",
       "  <thead>\n",
       "    <tr style=\"text-align: right;\">\n",
       "      <th></th>\n",
       "      <th>reviewerID</th>\n",
       "      <th>asin</th>\n",
       "      <th>reviewerName</th>\n",
       "      <th>helpful</th>\n",
       "      <th>reviewText</th>\n",
       "      <th>overall</th>\n",
       "      <th>summary</th>\n",
       "      <th>unixReviewTime</th>\n",
       "      <th>reviewTime</th>\n",
       "    </tr>\n",
       "  </thead>\n",
       "  <tbody>\n",
       "    <tr>\n",
       "      <th>0</th>\n",
       "      <td>A2IBPI20UZIR0U</td>\n",
       "      <td>1384719342</td>\n",
       "      <td>cassandra tu \"Yeah, well, that's just like, u...</td>\n",
       "      <td>[0, 0]</td>\n",
       "      <td>Not much to write about here, but it does exactly what it's supposed to. filters out the pop sounds. now my recordings are much more crisp. it is one of the lowest prices pop filters on amazon so might as well buy it, they honestly work the same despite their pricing,</td>\n",
       "      <td>5</td>\n",
       "      <td>good</td>\n",
       "      <td>1393545600</td>\n",
       "      <td>02 28, 2014</td>\n",
       "    </tr>\n",
       "    <tr>\n",
       "      <th>1</th>\n",
       "      <td>A14VAT5EAX3D9S</td>\n",
       "      <td>1384719342</td>\n",
       "      <td>Jake</td>\n",
       "      <td>[13, 14]</td>\n",
       "      <td>The product does exactly as it should and is quite affordable.I did not realized it was double screened until it arrived, so it was even better than I had expected.As an added bonus, one of the screens carries a small hint of the smell of an old grape candy I used to buy, so for reminiscent's sake, I cannot stop putting the pop filter next to my nose and smelling it after recording. :DIf you needed a pop filter, this will work just as well as the expensive ones, and it may even come with a pleasing aroma like mine did!Buy this product! :]</td>\n",
       "      <td>5</td>\n",
       "      <td>Jake</td>\n",
       "      <td>1363392000</td>\n",
       "      <td>03 16, 2013</td>\n",
       "    </tr>\n",
       "  </tbody>\n",
       "</table>\n",
       "</div>"
      ],
      "text/plain": [
       "       reviewerID        asin  \\\n",
       "0  A2IBPI20UZIR0U  1384719342   \n",
       "1  A14VAT5EAX3D9S  1384719342   \n",
       "\n",
       "                                       reviewerName   helpful  \\\n",
       "0  cassandra tu \"Yeah, well, that's just like, u...    [0, 0]   \n",
       "1                                              Jake  [13, 14]   \n",
       "\n",
       "                                                                                                                                                                                                                                                                                                                                                                                                                                                                                                                                                         reviewText  \\\n",
       "0                                                                                                                                                                                                                                                                                      Not much to write about here, but it does exactly what it's supposed to. filters out the pop sounds. now my recordings are much more crisp. it is one of the lowest prices pop filters on amazon so might as well buy it, they honestly work the same despite their pricing,   \n",
       "1  The product does exactly as it should and is quite affordable.I did not realized it was double screened until it arrived, so it was even better than I had expected.As an added bonus, one of the screens carries a small hint of the smell of an old grape candy I used to buy, so for reminiscent's sake, I cannot stop putting the pop filter next to my nose and smelling it after recording. :DIf you needed a pop filter, this will work just as well as the expensive ones, and it may even come with a pleasing aroma like mine did!Buy this product! :]   \n",
       "\n",
       "   overall summary  unixReviewTime   reviewTime  \n",
       "0        5    good      1393545600  02 28, 2014  \n",
       "1        5    Jake      1363392000  03 16, 2013  "
      ]
     },
     "execution_count": 9,
     "metadata": {},
     "output_type": "execute_result"
    }
   ],
   "source": [
    "df.head(2)"
   ]
  },
  {
   "cell_type": "code",
   "execution_count": 10,
   "metadata": {
    "scrolled": true
   },
   "outputs": [
    {
     "data": {
      "text/plain": [
       "(10234, 9)"
      ]
     },
     "execution_count": 10,
     "metadata": {},
     "output_type": "execute_result"
    }
   ],
   "source": [
    "df.shape"
   ]
  },
  {
   "cell_type": "code",
   "execution_count": 11,
   "metadata": {},
   "outputs": [],
   "source": [
    "condensed_df = df[['overall','reviewText']].copy()"
   ]
  },
  {
   "cell_type": "code",
   "execution_count": 12,
   "metadata": {},
   "outputs": [
    {
     "data": {
      "text/html": [
       "<div>\n",
       "<style scoped>\n",
       "    .dataframe tbody tr th:only-of-type {\n",
       "        vertical-align: middle;\n",
       "    }\n",
       "\n",
       "    .dataframe tbody tr th {\n",
       "        vertical-align: top;\n",
       "    }\n",
       "\n",
       "    .dataframe thead th {\n",
       "        text-align: right;\n",
       "    }\n",
       "</style>\n",
       "<table border=\"1\" class=\"dataframe\">\n",
       "  <thead>\n",
       "    <tr style=\"text-align: right;\">\n",
       "      <th></th>\n",
       "      <th>overall</th>\n",
       "      <th>reviewText</th>\n",
       "    </tr>\n",
       "  </thead>\n",
       "  <tbody>\n",
       "    <tr>\n",
       "      <th>0</th>\n",
       "      <td>5</td>\n",
       "      <td>Not much to write about here, but it does exactly what it's supposed to. filters out the pop sounds. now my recordings are much more crisp. it is one of the lowest prices pop filters on amazon so might as well buy it, they honestly work the same despite their pricing,</td>\n",
       "    </tr>\n",
       "    <tr>\n",
       "      <th>1</th>\n",
       "      <td>5</td>\n",
       "      <td>The product does exactly as it should and is quite affordable.I did not realized it was double screened until it arrived, so it was even better than I had expected.As an added bonus, one of the screens carries a small hint of the smell of an old grape candy I used to buy, so for reminiscent's sake, I cannot stop putting the pop filter next to my nose and smelling it after recording. :DIf you needed a pop filter, this will work just as well as the expensive ones, and it may even come with a pleasing aroma like mine did!Buy this product! :]</td>\n",
       "    </tr>\n",
       "    <tr>\n",
       "      <th>2</th>\n",
       "      <td>5</td>\n",
       "      <td>The primary job of this device is to block the breath that would otherwise produce a popping sound, while allowing your voice to pass through with no noticeable reduction of volume or high frequencies. The double cloth filter blocks the pops and lets the voice through with no coloration. The metal clamp mount attaches to the mike stand secure enough to keep it attached. The goose neck needs a little coaxing to stay where you put it.</td>\n",
       "    </tr>\n",
       "    <tr>\n",
       "      <th>3</th>\n",
       "      <td>5</td>\n",
       "      <td>Nice windscreen protects my MXL mic and prevents pops. Only thing is that the gooseneck is only marginally able to hold the screen in position and requires careful positioning of the clamp to avoid sagging.</td>\n",
       "    </tr>\n",
       "    <tr>\n",
       "      <th>4</th>\n",
       "      <td>5</td>\n",
       "      <td>This pop filter is great. It looks and performs like a studio filter. If you're recording vocals this will eliminate the pops that gets recorded when you sing.</td>\n",
       "    </tr>\n",
       "  </tbody>\n",
       "</table>\n",
       "</div>"
      ],
      "text/plain": [
       "   overall  \\\n",
       "0        5   \n",
       "1        5   \n",
       "2        5   \n",
       "3        5   \n",
       "4        5   \n",
       "\n",
       "                                                                                                                                                                                                                                                                                                                                                                                                                                                                                                                                                         reviewText  \n",
       "0                                                                                                                                                                                                                                                                                      Not much to write about here, but it does exactly what it's supposed to. filters out the pop sounds. now my recordings are much more crisp. it is one of the lowest prices pop filters on amazon so might as well buy it, they honestly work the same despite their pricing,  \n",
       "1  The product does exactly as it should and is quite affordable.I did not realized it was double screened until it arrived, so it was even better than I had expected.As an added bonus, one of the screens carries a small hint of the smell of an old grape candy I used to buy, so for reminiscent's sake, I cannot stop putting the pop filter next to my nose and smelling it after recording. :DIf you needed a pop filter, this will work just as well as the expensive ones, and it may even come with a pleasing aroma like mine did!Buy this product! :]  \n",
       "2                                                                                                              The primary job of this device is to block the breath that would otherwise produce a popping sound, while allowing your voice to pass through with no noticeable reduction of volume or high frequencies. The double cloth filter blocks the pops and lets the voice through with no coloration. The metal clamp mount attaches to the mike stand secure enough to keep it attached. The goose neck needs a little coaxing to stay where you put it.  \n",
       "3                                                                                                                                                                                                                                                                                                                                                    Nice windscreen protects my MXL mic and prevents pops. Only thing is that the gooseneck is only marginally able to hold the screen in position and requires careful positioning of the clamp to avoid sagging.  \n",
       "4                                                                                                                                                                                                                                                                                                                                                                                                   This pop filter is great. It looks and performs like a studio filter. If you're recording vocals this will eliminate the pops that gets recorded when you sing.  "
      ]
     },
     "execution_count": 12,
     "metadata": {},
     "output_type": "execute_result"
    }
   ],
   "source": [
    "condensed_df.head()"
   ]
  },
  {
   "cell_type": "code",
   "execution_count": 13,
   "metadata": {},
   "outputs": [],
   "source": [
    "import seaborn as sns\n"
   ]
  },
  {
   "cell_type": "code",
   "execution_count": 14,
   "metadata": {
    "scrolled": true
   },
   "outputs": [
    {
     "data": {
      "text/plain": [
       "<AxesSubplot:xlabel='overall', ylabel='count'>"
      ]
     },
     "execution_count": 14,
     "metadata": {},
     "output_type": "execute_result"
    },
    {
     "data": {
      "image/png": "[encoded data removed]",
      "text/plain": [
       "<Figure size 432x288 with 1 Axes>"
      ]
     },
     "metadata": {
      "needs_background": "light"
     },
     "output_type": "display_data"
    }
   ],
   "source": [
    "sns.countplot(data=df,x='overall')"
   ]
  },
  {
   "cell_type": "code",
   "execution_count": 15,
   "metadata": {},
   "outputs": [],
   "source": [
    "import matplotlib.pyplot as plt"
   ]
  },
  {
   "cell_type": "code",
   "execution_count": 16,
   "metadata": {},
   "outputs": [
    {
     "data": {
      "image/png": "[encoded data removed]",
      "text/plain": [
       "<Figure size 720x576 with 1 Axes>"
      ]
     },
     "metadata": {},
     "output_type": "display_data"
    }
   ],
   "source": [
    "ratings = df[\"overall\"].value_counts()\n",
    "numbers = ratings.index\n",
    "quantity = ratings.values\n",
    "\n",
    "custom_colors = [\"skyblue\", \"yellowgreen\", 'tomato', \"blue\", \"red\"]\n",
    "plt.figure(figsize=(10, 8))\n",
    "plt.pie(quantity, labels=numbers, colors=custom_colors)\n",
    "central_circle = plt.Circle((0, 0), 0.5, color='white')\n",
    "fig = plt.gcf()\n",
    "fig.gca().add_artist(central_circle)\n",
    "plt.rc('font', size=12)\n",
    "plt.title(\"Distribution of Amazon Product Ratings\", fontsize=20)\n",
    "plt.show()"
   ]
  },
  {
   "cell_type": "code",
   "execution_count": 17,
   "metadata": {
    "scrolled": true
   },
   "outputs": [
    {
     "data": {
      "text/plain": [
       "array([5, 3, 4, 2, 1], dtype=int64)"
      ]
     },
     "execution_count": 17,
     "metadata": {},
     "output_type": "execute_result"
    }
   ],
   "source": [
    "condensed_df['overall'].unique()"
   ]
  },
  {
   "cell_type": "code",
   "execution_count": 18,
   "metadata": {},
   "outputs": [],
   "source": [
    "sentiments=SentimentIntensityAnalyzer()"
   ]
  },
  {
   "cell_type": "code",
   "execution_count": 19,
   "metadata": {},
   "outputs": [],
   "source": [
    "import nltk\n",
    "from nltk.corpus import opinion_lexicon\n",
    "from nltk.tokenize import word_tokenize, sent_tokenize"
   ]
  },
  {
   "cell_type": "code",
   "execution_count": 20,
   "metadata": {},
   "outputs": [],
   "source": [
    "pos_words = list(opinion_lexicon.positive())\n",
    "neg_words = list(opinion_lexicon.negative())"
   ]
  },
  {
   "cell_type": "code",
   "execution_count": 21,
   "metadata": {},
   "outputs": [],
   "source": [
    "from nltk.sentiment import vader"
   ]
  },
  {
   "cell_type": "code",
   "execution_count": 22,
   "metadata": {},
   "outputs": [],
   "source": [
    "condensed_df12=condensed_df[:200]"
   ]
  },
  {
   "cell_type": "code",
   "execution_count": 23,
   "metadata": {
    "scrolled": true
   },
   "outputs": [
    {
     "data": {
      "text/html": [
       "<div>\n",
       "<style scoped>\n",
       "    .dataframe tbody tr th:only-of-type {\n",
       "        vertical-align: middle;\n",
       "    }\n",
       "\n",
       "    .dataframe tbody tr th {\n",
       "        vertical-align: top;\n",
       "    }\n",
       "\n",
       "    .dataframe thead th {\n",
       "        text-align: right;\n",
       "    }\n",
       "</style>\n",
       "<table border=\"1\" class=\"dataframe\">\n",
       "  <thead>\n",
       "    <tr style=\"text-align: right;\">\n",
       "      <th></th>\n",
       "      <th>overall</th>\n",
       "      <th>reviewText</th>\n",
       "    </tr>\n",
       "  </thead>\n",
       "  <tbody>\n",
       "    <tr>\n",
       "      <th>0</th>\n",
       "      <td>5</td>\n",
       "      <td>Not much to write about here, but it does exactly what it's supposed to. filters out the pop sounds. now my recordings are much more crisp. it is one of the lowest prices pop filters on amazon so might as well buy it, they honestly work the same despite their pricing,</td>\n",
       "    </tr>\n",
       "    <tr>\n",
       "      <th>1</th>\n",
       "      <td>5</td>\n",
       "      <td>The product does exactly as it should and is quite affordable.I did not realized it was double screened until it arrived, so it was even better than I had expected.As an added bonus, one of the screens carries a small hint of the smell of an old grape candy I used to buy, so for reminiscent's sake, I cannot stop putting the pop filter next to my nose and smelling it after recording. :DIf you needed a pop filter, this will work just as well as the expensive ones, and it may even come with a pleasing aroma like mine did!Buy this product! :]</td>\n",
       "    </tr>\n",
       "    <tr>\n",
       "      <th>2</th>\n",
       "      <td>5</td>\n",
       "      <td>The primary job of this device is to block the breath that would otherwise produce a popping sound, while allowing your voice to pass through with no noticeable reduction of volume or high frequencies. The double cloth filter blocks the pops and lets the voice through with no coloration. The metal clamp mount attaches to the mike stand secure enough to keep it attached. The goose neck needs a little coaxing to stay where you put it.</td>\n",
       "    </tr>\n",
       "    <tr>\n",
       "      <th>3</th>\n",
       "      <td>5</td>\n",
       "      <td>Nice windscreen protects my MXL mic and prevents pops. Only thing is that the gooseneck is only marginally able to hold the screen in position and requires careful positioning of the clamp to avoid sagging.</td>\n",
       "    </tr>\n",
       "    <tr>\n",
       "      <th>4</th>\n",
       "      <td>5</td>\n",
       "      <td>This pop filter is great. It looks and performs like a studio filter. If you're recording vocals this will eliminate the pops that gets recorded when you sing.</td>\n",
       "    </tr>\n",
       "    <tr>\n",
       "      <th>...</th>\n",
       "      <td>...</td>\n",
       "      <td>...</td>\n",
       "    </tr>\n",
       "    <tr>\n",
       "      <th>196</th>\n",
       "      <td>5</td>\n",
       "      <td>Seriously?  The Shure SM57 sets the standard, which by all other instrument microphones are judged.No kidding.  They work great with guitar (for a REAL acoustic guitar sound, drums, congas, tablas... You name it..  if it's an instrument the SM57 delivers.I hear it's good for vocals as well.  When the President gives a speech, the SM57 is there.In my experience a vocalist better have above average pipes to use the SM57.  The SM58 is better suited to those who lack vocal projection (most wannabe's).For instrument sound reinforcement...  bar-none... the best.</td>\n",
       "    </tr>\n",
       "    <tr>\n",
       "      <th>197</th>\n",
       "      <td>5</td>\n",
       "      <td>If it's good enough to track Tom Petty's vox on the heartbreakers albums, its good enough for the rest of us. Sounds great on amps and perc. Dropped one from a 12 story building a few years back into a parking lot and it barley dented the housing and still works 100%. My drummer still uses it on his kit and I never told him haha (hope he doesn't read this review!) It's a shame the new mics coming out (wireless stuff they make: IE Presentor, PG seies, digital series etc) are such flimsy pieces of garbage. This is the last of the cool from Shure.</td>\n",
       "    </tr>\n",
       "    <tr>\n",
       "      <th>198</th>\n",
       "      <td>5</td>\n",
       "      <td>There's a reason every mic cabinet has at least one of these (and if it doesn't, it should).  This is a great all purpose dynamic mic, I use it for instruments, vocals, even field recording sometimes.  The SM58 has a frequency response that is supposed to be more tailored towards vocals, but that doesn't mean that the 57 can't handle a voice.  They're pretty much the same mic as far as I'm concerned, and for the average amateur recording engineer or home studio practitioner I think you'll find the same thing.  And if you're operating at a level where you refuse to use them interchangeably, then you probably already know what you're looking for.  I'll be getting a 58 to add to my personal cabinet soon, but if you're like me and wanted to spend more on a nice condenser before filling out your dynamic mics, you can't go wrong here.</td>\n",
       "    </tr>\n",
       "    <tr>\n",
       "      <th>199</th>\n",
       "      <td>4</td>\n",
       "      <td>I use this to mic snare drums and sometimes guitar cabinets. It works as well as most mics and is more durable than most. I have used this in the studio when nothing else was available and it worked fine. As long as I run sound for a living I will keep some of these mics.</td>\n",
       "    </tr>\n",
       "    <tr>\n",
       "      <th>200</th>\n",
       "      <td>4</td>\n",
       "      <td>Considering that the SM57 was introduced to the world in 1967, a year after the Shure SM58LC Shure SM58 Vocal Microphone, I guess the 58 gets Batman status, relegating the 57 to that of Robin. But that's not really a fair assessment considering the 57 and 58 were developed at the same time, and except for the 58's acoustic foam lined cage pop screen, the two mics are identical electrically.The SM (Studio Microphone) 57 was designed to begin it's life in a recording studio, as a dynamic microphone used to mic the ever increasing volume of rock and roll amplifiers, drum kits, etc. In that capacity, it had no use for the pop screen of it's cousin the SM58, still one of the most sold vocal mics in the world to this day. So the SM57 slimmed down and even though it's still a fine vocal mic, you'll see it used mostly mic'ing instruments, which it excels at.One of it's long time and most important roles has been the official podium mic for the White House. A pair of SM57's is always seen on various White House podiums for press conferences and there is even a VIP bundled kitShure SM57 VIP Dual Microphone Kityou can buy for this exact type of use.The SM57 is an extremely rugged mic, built to tough standards and can take lots of road abuse. That's one of the things that makes it popular with touring bands and sound companies. And on top of that, it's just a great sounding mic for the price.There is a Performer SeriesShure Beta 57A Microphonethat looks very similar to the SM57 but the Beta 57 has a different mic capsule and transformer and sounds different. So make sure you try before you buy.Bottom line is the Shure SM57 is one tough road mic that sounds awesome and is not overly priced. A best value for sound companies, home studio recordists and touring musicians.</td>\n",
       "    </tr>\n",
       "  </tbody>\n",
       "</table>\n",
       "<p>200 rows × 2 columns</p>\n",
       "</div>"
      ],
      "text/plain": [
       "     overall  \\\n",
       "0          5   \n",
       "1          5   \n",
       "2          5   \n",
       "3          5   \n",
       "4          5   \n",
       "..       ...   \n",
       "196        5   \n",
       "197        5   \n",
       "198        5   \n",
       "199        4   \n",
       "200        4   \n",
       "\n",
       "                                                                                                                                                                                                                                                                                                                                                                                                                                                                                                                                                                                                                                                                                                                                                                                                                                                                                                                                                                                                                                                                                                                                                                                                                                                                                                                                                                                                                                                                                                                                                                                                                                                                                                                                                                                                                                                     reviewText  \n",
       "0                                                                                                                                                                                                                                                                                                                                                                                                                                                                                                                                                                                                                                                                                                                                                                                                                                                                                                                                                                                                                                                                                                                                                                                                                                                                                                                                                                                                                                                                                                                                                                                  Not much to write about here, but it does exactly what it's supposed to. filters out the pop sounds. now my recordings are much more crisp. it is one of the lowest prices pop filters on amazon so might as well buy it, they honestly work the same despite their pricing,  \n",
       "1                                                                                                                                                                                                                                                                                                                                                                                                                                                                                                                                                                                                                                                                                                                                                                                                                                                                                                                                                                                                                                                                                                                                                                                                                                                                                              The product does exactly as it should and is quite affordable.I did not realized it was double screened until it arrived, so it was even better than I had expected.As an added bonus, one of the screens carries a small hint of the smell of an old grape candy I used to buy, so for reminiscent's sake, I cannot stop putting the pop filter next to my nose and smelling it after recording. :DIf you needed a pop filter, this will work just as well as the expensive ones, and it may even come with a pleasing aroma like mine did!Buy this product! :]  \n",
       "2                                                                                                                                                                                                                                                                                                                                                                                                                                                                                                                                                                                                                                                                                                                                                                                                                                                                                                                                                                                                                                                                                                                                                                                                                                                                                                                                                                                                          The primary job of this device is to block the breath that would otherwise produce a popping sound, while allowing your voice to pass through with no noticeable reduction of volume or high frequencies. The double cloth filter blocks the pops and lets the voice through with no coloration. The metal clamp mount attaches to the mike stand secure enough to keep it attached. The goose neck needs a little coaxing to stay where you put it.  \n",
       "3                                                                                                                                                                                                                                                                                                                                                                                                                                                                                                                                                                                                                                                                                                                                                                                                                                                                                                                                                                                                                                                                                                                                                                                                                                                                                                                                                                                                                                                                                                                                                                                                                                                Nice windscreen protects my MXL mic and prevents pops. Only thing is that the gooseneck is only marginally able to hold the screen in position and requires careful positioning of the clamp to avoid sagging.  \n",
       "4                                                                                                                                                                                                                                                                                                                                                                                                                                                                                                                                                                                                                                                                                                                                                                                                                                                                                                                                                                                                                                                                                                                                                                                                                                                                                                                                                                                                                                                                                                                                                                                                                                                                                               This pop filter is great. It looks and performs like a studio filter. If you're recording vocals this will eliminate the pops that gets recorded when you sing.  \n",
       "..                                                                                                                                                                                                                                                                                                                                                                                                                                                                                                                                                                                                                                                                                                                                                                                                                                                                                                                                                                                                                                                                                                                                                                                                                                                                                                                                                                                                                                                                                                                                                                                                                                                                                                                                                                                                                                                          ...  \n",
       "196                                                                                                                                                                                                                                                                                                                                                                                                                                                                                                                                                                                                                                                                                                                                                                                                                                                                                                                                                                                                                                                                                                                                                                                                                                                                          Seriously?  The Shure SM57 sets the standard, which by all other instrument microphones are judged.No kidding.  They work great with guitar (for a REAL acoustic guitar sound, drums, congas, tablas... You name it..  if it's an instrument the SM57 delivers.I hear it's good for vocals as well.  When the President gives a speech, the SM57 is there.In my experience a vocalist better have above average pipes to use the SM57.  The SM58 is better suited to those who lack vocal projection (most wannabe's).For instrument sound reinforcement...  bar-none... the best.  \n",
       "197                                                                                                                                                                                                                                                                                                                                                                                                                                                                                                                                                                                                                                                                                                                                                                                                                                                                                                                                                                                                                                                                                                                                                                                                                                                                                      If it's good enough to track Tom Petty's vox on the heartbreakers albums, its good enough for the rest of us. Sounds great on amps and perc. Dropped one from a 12 story building a few years back into a parking lot and it barley dented the housing and still works 100%. My drummer still uses it on his kit and I never told him haha (hope he doesn't read this review!) It's a shame the new mics coming out (wireless stuff they make: IE Presentor, PG seies, digital series etc) are such flimsy pieces of garbage. This is the last of the cool from Shure.  \n",
       "198                                                                                                                                                                                                                                                                                                                                                                                                                                                                                                                                                                                                                                                                                                                                                                                                                                                                                                                                                                                    There's a reason every mic cabinet has at least one of these (and if it doesn't, it should).  This is a great all purpose dynamic mic, I use it for instruments, vocals, even field recording sometimes.  The SM58 has a frequency response that is supposed to be more tailored towards vocals, but that doesn't mean that the 57 can't handle a voice.  They're pretty much the same mic as far as I'm concerned, and for the average amateur recording engineer or home studio practitioner I think you'll find the same thing.  And if you're operating at a level where you refuse to use them interchangeably, then you probably already know what you're looking for.  I'll be getting a 58 to add to my personal cabinet soon, but if you're like me and wanted to spend more on a nice condenser before filling out your dynamic mics, you can't go wrong here.  \n",
       "199                                                                                                                                                                                                                                                                                                                                                                                                                                                                                                                                                                                                                                                                                                                                                                                                                                                                                                                                                                                                                                                                                                                                                                                                                                                                                                                                                                                                                                                                                                                                                                            I use this to mic snare drums and sometimes guitar cabinets. It works as well as most mics and is more durable than most. I have used this in the studio when nothing else was available and it worked fine. As long as I run sound for a living I will keep some of these mics.  \n",
       "200  Considering that the SM57 was introduced to the world in 1967, a year after the Shure SM58LC Shure SM58 Vocal Microphone, I guess the 58 gets Batman status, relegating the 57 to that of Robin. But that's not really a fair assessment considering the 57 and 58 were developed at the same time, and except for the 58's acoustic foam lined cage pop screen, the two mics are identical electrically.The SM (Studio Microphone) 57 was designed to begin it's life in a recording studio, as a dynamic microphone used to mic the ever increasing volume of rock and roll amplifiers, drum kits, etc. In that capacity, it had no use for the pop screen of it's cousin the SM58, still one of the most sold vocal mics in the world to this day. So the SM57 slimmed down and even though it's still a fine vocal mic, you'll see it used mostly mic'ing instruments, which it excels at.One of it's long time and most important roles has been the official podium mic for the White House. A pair of SM57's is always seen on various White House podiums for press conferences and there is even a VIP bundled kitShure SM57 VIP Dual Microphone Kityou can buy for this exact type of use.The SM57 is an extremely rugged mic, built to tough standards and can take lots of road abuse. That's one of the things that makes it popular with touring bands and sound companies. And on top of that, it's just a great sounding mic for the price.There is a Performer SeriesShure Beta 57A Microphonethat looks very similar to the SM57 but the Beta 57 has a different mic capsule and transformer and sounds different. So make sure you try before you buy.Bottom line is the Shure SM57 is one tough road mic that sounds awesome and is not overly priced. A best value for sound companies, home studio recordists and touring musicians.  \n",
       "\n",
       "[200 rows x 2 columns]"
      ]
     },
     "execution_count": 23,
     "metadata": {},
     "output_type": "execute_result"
    }
   ],
   "source": [
    "condensed_df12"
   ]
  },
  {
   "cell_type": "code",
   "execution_count": 24,
   "metadata": {},
   "outputs": [],
   "source": [
    "def get_sentiment_score_oplex(text): \n",
    "    \"\"\"\n",
    "        This method returns the sentiment score of a given text using nltk opinion lexicon.\n",
    "        input: text\n",
    "        output: numeric (double) score, >0 means positive sentiment and <0 means negative sentiment.\n",
    "    \"\"\"    \n",
    "    total_score = 0\n",
    "    raw_sentences = sent_tokenize(text)    \n",
    "    for sentence in raw_sentences:\n",
    "        sent_score = 0     \n",
    "        sentence = str(sentence)\n",
    "        sentence = sentence.replace(\"<br />\",\" \").translate(str.maketrans('','',punctuation)).lower()\n",
    "        tokens = WhitespaceTokenizer().tokenize(text)\n",
    "        for token in tokens:\n",
    "            sent_score = sent_score + 1 if token in pos_words else (sent_score - 1 if token in neg_words else sent_score)\n",
    "        total_score = total_score + (sent_score / len(tokens))   \n",
    "    return total_score\n"
   ]
  },
  {
   "cell_type": "code",
   "execution_count": 25,
   "metadata": {},
   "outputs": [],
   "source": [
    "import warnings\n",
    "warnings.filterwarnings('ignore')"
   ]
  },
  {
   "cell_type": "code",
   "execution_count": 26,
   "metadata": {
    "scrolled": true
   },
   "outputs": [],
   "source": [
    "condensed_df12['oplex_sentiment_score'] = condensed_df12['reviewText'].apply(lambda x: get_sentiment_score_oplex(x))"
   ]
  },
  {
   "cell_type": "code",
   "execution_count": 27,
   "metadata": {
    "scrolled": false
   },
   "outputs": [
    {
     "data": {
      "image/png": "[encoded data removed]",
      "text/plain": [
       "<Figure size 1440x720 with 1 Axes>"
      ]
     },
     "metadata": {
      "needs_background": "light"
     },
     "output_type": "display_data"
    }
   ],
   "source": [
    "fig , ax = plt.subplots(nrows=1, ncols=1, figsize=(20,10))\n",
    "sns.histplot(x='oplex_sentiment_score',\\\n",
    "             data=condensed_df12.query(\"oplex_sentiment_score < 1 and oplex_sentiment_score>-1\"), ax=ax)\n",
    "plt.show()"
   ]
  },
  {
   "cell_type": "code",
   "execution_count": 28,
   "metadata": {},
   "outputs": [],
   "source": [
    "condensed_df12['oplex_sentiment'] = \\\n",
    "    condensed_df12['oplex_sentiment_score'].apply(lambda x: \"positive\" if x>0.1 else (\"negative\" if x<0 else \"neutral\"))"
   ]
  },
  {
   "cell_type": "code",
   "execution_count": 29,
   "metadata": {},
   "outputs": [
    {
     "data": {
      "text/html": [
       "<div>\n",
       "<style scoped>\n",
       "    .dataframe tbody tr th:only-of-type {\n",
       "        vertical-align: middle;\n",
       "    }\n",
       "\n",
       "    .dataframe tbody tr th {\n",
       "        vertical-align: top;\n",
       "    }\n",
       "\n",
       "    .dataframe thead th {\n",
       "        text-align: right;\n",
       "    }\n",
       "</style>\n",
       "<table border=\"1\" class=\"dataframe\">\n",
       "  <thead>\n",
       "    <tr style=\"text-align: right;\">\n",
       "      <th></th>\n",
       "      <th>overall</th>\n",
       "      <th>reviewText</th>\n",
       "      <th>oplex_sentiment_score</th>\n",
       "      <th>oplex_sentiment</th>\n",
       "    </tr>\n",
       "  </thead>\n",
       "  <tbody>\n",
       "    <tr>\n",
       "      <th>0</th>\n",
       "      <td>5</td>\n",
       "      <td>Not much to write about here, but it does exactly what it's supposed to. filters out the pop sounds. now my recordings are much more crisp. it is one of the lowest prices pop filters on amazon so might as well buy it, they honestly work the same despite their pricing,</td>\n",
       "      <td>0.156863</td>\n",
       "      <td>positive</td>\n",
       "    </tr>\n",
       "    <tr>\n",
       "      <th>1</th>\n",
       "      <td>5</td>\n",
       "      <td>The product does exactly as it should and is quite affordable.I did not realized it was double screened until it arrived, so it was even better than I had expected.As an added bonus, one of the screens carries a small hint of the smell of an old grape candy I used to buy, so for reminiscent's sake, I cannot stop putting the pop filter next to my nose and smelling it after recording. :DIf you needed a pop filter, this will work just as well as the expensive ones, and it may even come with a pleasing aroma like mine did!Buy this product! :]</td>\n",
       "      <td>0.057692</td>\n",
       "      <td>neutral</td>\n",
       "    </tr>\n",
       "  </tbody>\n",
       "</table>\n",
       "</div>"
      ],
      "text/plain": [
       "   overall  \\\n",
       "0        5   \n",
       "1        5   \n",
       "\n",
       "                                                                                                                                                                                                                                                                                                                                                                                                                                                                                                                                                         reviewText  \\\n",
       "0                                                                                                                                                                                                                                                                                      Not much to write about here, but it does exactly what it's supposed to. filters out the pop sounds. now my recordings are much more crisp. it is one of the lowest prices pop filters on amazon so might as well buy it, they honestly work the same despite their pricing,   \n",
       "1  The product does exactly as it should and is quite affordable.I did not realized it was double screened until it arrived, so it was even better than I had expected.As an added bonus, one of the screens carries a small hint of the smell of an old grape candy I used to buy, so for reminiscent's sake, I cannot stop putting the pop filter next to my nose and smelling it after recording. :DIf you needed a pop filter, this will work just as well as the expensive ones, and it may even come with a pleasing aroma like mine did!Buy this product! :]   \n",
       "\n",
       "   oplex_sentiment_score oplex_sentiment  \n",
       "0               0.156863        positive  \n",
       "1               0.057692         neutral  "
      ]
     },
     "execution_count": 29,
     "metadata": {},
     "output_type": "execute_result"
    }
   ],
   "source": [
    "condensed_df12.head(2)"
   ]
  },
  {
   "cell_type": "code",
   "execution_count": 30,
   "metadata": {
    "scrolled": true
   },
   "outputs": [
    {
     "data": {
      "text/plain": [
       "positive    88\n",
       "neutral     87\n",
       "negative    25\n",
       "Name: oplex_sentiment, dtype: int64"
      ]
     },
     "execution_count": 30,
     "metadata": {},
     "output_type": "execute_result"
    }
   ],
   "source": [
    "condensed_df12['oplex_sentiment'].value_counts(dropna=False)"
   ]
  },
  {
   "cell_type": "code",
   "execution_count": 31,
   "metadata": {
    "scrolled": true
   },
   "outputs": [
    {
     "data": {
      "text/plain": [
       "<AxesSubplot:xlabel='overall', ylabel='count'>"
      ]
     },
     "execution_count": 31,
     "metadata": {},
     "output_type": "execute_result"
    },
    {
     "data": {
      "image/png": "[encoded data removed]",
      "text/plain": [
       "<Figure size 432x288 with 1 Axes>"
      ]
     },
     "metadata": {
      "needs_background": "light"
     },
     "output_type": "display_data"
    }
   ],
   "source": [
    "sns.countplot(x='overall', hue='oplex_sentiment' ,data = condensed_df12)"
   ]
  },
  {
   "cell_type": "code",
   "execution_count": 32,
   "metadata": {},
   "outputs": [
    {
     "data": {
      "image/png": "[encoded data removed]",
      "text/plain": [
       "<Figure size 864x504 with 1 Axes>"
      ]
     },
     "metadata": {
      "needs_background": "light"
     },
     "output_type": "display_data"
    }
   ],
   "source": [
    "fig, ax = plt.subplots(nrows=1, ncols=1, figsize = (12,7))\n",
    "sns.boxenplot(x='overall', y='oplex_sentiment_score', data = condensed_df12, ax=ax)\n",
    "plt.show()"
   ]
  },
  {
   "cell_type": "code",
   "execution_count": 33,
   "metadata": {},
   "outputs": [],
   "source": [
    "y_oplex_pred = condensed_df12['oplex_sentiment'].tolist()"
   ]
  },
  {
   "cell_type": "code",
   "execution_count": 34,
   "metadata": {},
   "outputs": [],
   "source": [
    "pos_reviews = condensed_df12.loc[condensed_df12['overall'] > 3]\n",
    "neg_reviews = condensed_df12.loc[condensed_df12['overall'] < 3]\n",
    "neu_reviews = condensed_df12.loc[condensed_df12['overall'] == 3 ]"
   ]
  },
  {
   "cell_type": "code",
   "execution_count": 35,
   "metadata": {},
   "outputs": [],
   "source": [
    "pos_reviews.insert(2, 'reaction', 'positive')\n",
    "neg_reviews.insert(2, 'reaction', 'negative')\n",
    "neu_reviews.insert(2, 'reaction', 'neutral')"
   ]
  },
  {
   "cell_type": "code",
   "execution_count": 36,
   "metadata": {},
   "outputs": [],
   "source": [
    "condensed_df12=pd.concat([pos_reviews, neg_reviews,neu_reviews], ignore_index=True)"
   ]
  },
  {
   "cell_type": "code",
   "execution_count": 37,
   "metadata": {},
   "outputs": [
    {
     "data": {
      "text/html": [
       "<div>\n",
       "<style scoped>\n",
       "    .dataframe tbody tr th:only-of-type {\n",
       "        vertical-align: middle;\n",
       "    }\n",
       "\n",
       "    .dataframe tbody tr th {\n",
       "        vertical-align: top;\n",
       "    }\n",
       "\n",
       "    .dataframe thead th {\n",
       "        text-align: right;\n",
       "    }\n",
       "</style>\n",
       "<table border=\"1\" class=\"dataframe\">\n",
       "  <thead>\n",
       "    <tr style=\"text-align: right;\">\n",
       "      <th></th>\n",
       "      <th>overall</th>\n",
       "      <th>reviewText</th>\n",
       "      <th>reaction</th>\n",
       "      <th>oplex_sentiment_score</th>\n",
       "      <th>oplex_sentiment</th>\n",
       "    </tr>\n",
       "  </thead>\n",
       "  <tbody>\n",
       "    <tr>\n",
       "      <th>0</th>\n",
       "      <td>5</td>\n",
       "      <td>Not much to write about here, but it does exactly what it's supposed to. filters out the pop sounds. now my recordings are much more crisp. it is one of the lowest prices pop filters on amazon so might as well buy it, they honestly work the same despite their pricing,</td>\n",
       "      <td>positive</td>\n",
       "      <td>0.156863</td>\n",
       "      <td>positive</td>\n",
       "    </tr>\n",
       "    <tr>\n",
       "      <th>1</th>\n",
       "      <td>5</td>\n",
       "      <td>The product does exactly as it should and is quite affordable.I did not realized it was double screened until it arrived, so it was even better than I had expected.As an added bonus, one of the screens carries a small hint of the smell of an old grape candy I used to buy, so for reminiscent's sake, I cannot stop putting the pop filter next to my nose and smelling it after recording. :DIf you needed a pop filter, this will work just as well as the expensive ones, and it may even come with a pleasing aroma like mine did!Buy this product! :]</td>\n",
       "      <td>positive</td>\n",
       "      <td>0.057692</td>\n",
       "      <td>neutral</td>\n",
       "    </tr>\n",
       "    <tr>\n",
       "      <th>2</th>\n",
       "      <td>5</td>\n",
       "      <td>The primary job of this device is to block the breath that would otherwise produce a popping sound, while allowing your voice to pass through with no noticeable reduction of volume or high frequencies. The double cloth filter blocks the pops and lets the voice through with no coloration. The metal clamp mount attaches to the mike stand secure enough to keep it attached. The goose neck needs a little coaxing to stay where you put it.</td>\n",
       "      <td>positive</td>\n",
       "      <td>0.103896</td>\n",
       "      <td>positive</td>\n",
       "    </tr>\n",
       "  </tbody>\n",
       "</table>\n",
       "</div>"
      ],
      "text/plain": [
       "   overall  \\\n",
       "0        5   \n",
       "1        5   \n",
       "2        5   \n",
       "\n",
       "                                                                                                                                                                                                                                                                                                                                                                                                                                                                                                                                                         reviewText  \\\n",
       "0                                                                                                                                                                                                                                                                                      Not much to write about here, but it does exactly what it's supposed to. filters out the pop sounds. now my recordings are much more crisp. it is one of the lowest prices pop filters on amazon so might as well buy it, they honestly work the same despite their pricing,   \n",
       "1  The product does exactly as it should and is quite affordable.I did not realized it was double screened until it arrived, so it was even better than I had expected.As an added bonus, one of the screens carries a small hint of the smell of an old grape candy I used to buy, so for reminiscent's sake, I cannot stop putting the pop filter next to my nose and smelling it after recording. :DIf you needed a pop filter, this will work just as well as the expensive ones, and it may even come with a pleasing aroma like mine did!Buy this product! :]   \n",
       "2                                                                                                              The primary job of this device is to block the breath that would otherwise produce a popping sound, while allowing your voice to pass through with no noticeable reduction of volume or high frequencies. The double cloth filter blocks the pops and lets the voice through with no coloration. The metal clamp mount attaches to the mike stand secure enough to keep it attached. The goose neck needs a little coaxing to stay where you put it.   \n",
       "\n",
       "   reaction  oplex_sentiment_score oplex_sentiment  \n",
       "0  positive               0.156863        positive  \n",
       "1  positive               0.057692         neutral  \n",
       "2  positive               0.103896        positive  "
      ]
     },
     "execution_count": 37,
     "metadata": {},
     "output_type": "execute_result"
    }
   ],
   "source": [
    "condensed_df12.head(3)"
   ]
  },
  {
   "cell_type": "code",
   "execution_count": 38,
   "metadata": {},
   "outputs": [],
   "source": [
    "y_true=condensed_df12['reaction']\n",
    "y_pred=condensed_df12['oplex_sentiment']"
   ]
  },
  {
   "cell_type": "code",
   "execution_count": 39,
   "metadata": {
    "scrolled": true
   },
   "outputs": [
    {
     "name": "stdout",
     "output_type": "stream",
     "text": [
      "Accuracy for the opinion_lexicon is 0.47\n"
     ]
    }
   ],
   "source": [
    "from sklearn.metrics import accuracy_score,confusion_matrix,ConfusionMatrixDisplay\n",
    "\n",
    "opinion_lexicon_acc=accuracy_score(y_true,y_pred)\n",
    "print(f\"Accuracy for the opinion_lexicon is {opinion_lexicon_acc}\")"
   ]
  },
  {
   "cell_type": "code",
   "execution_count": 40,
   "metadata": {},
   "outputs": [
    {
     "data": {
      "text/plain": [
       "positive    88\n",
       "neutral     87\n",
       "negative    25\n",
       "Name: oplex_sentiment, dtype: int64"
      ]
     },
     "execution_count": 40,
     "metadata": {},
     "output_type": "execute_result"
    }
   ],
   "source": [
    "condensed_df12['oplex_sentiment'].value_counts(dropna=False)"
   ]
  },
  {
   "cell_type": "code",
   "execution_count": 41,
   "metadata": {
    "scrolled": false
   },
   "outputs": [
    {
     "data": {
      "text/plain": [
       "<sklearn.metrics._plot.confusion_matrix.ConfusionMatrixDisplay at 0x26025a39df0>"
      ]
     },
     "execution_count": 41,
     "metadata": {},
     "output_type": "execute_result"
    },
    {
     "data": {
      "image/png": "[encoded data removed]",
      "text/plain": [
       "<Figure size 432x288 with 2 Axes>"
      ]
     },
     "metadata": {
      "needs_background": "light"
     },
     "output_type": "display_data"
    }
   ],
   "source": [
    "cm=confusion_matrix(y_true,y_pred)\n",
    "cmd = ConfusionMatrixDisplay(cm, display_labels=['negative','neutral','positive'])\n",
    "cmd.plot()"
   ]
  },
  {
   "cell_type": "markdown",
   "metadata": {},
   "source": [
    "# Naive Bayes"
   ]
  },
  {
   "cell_type": "code",
   "execution_count": 42,
   "metadata": {},
   "outputs": [],
   "source": [
    "pos_reviews = condensed_df.loc[condensed_df['overall'] > 3]"
   ]
  },
  {
   "cell_type": "code",
   "execution_count": 43,
   "metadata": {
    "scrolled": true
   },
   "outputs": [
    {
     "data": {
      "text/html": [
       "<div>\n",
       "<style scoped>\n",
       "    .dataframe tbody tr th:only-of-type {\n",
       "        vertical-align: middle;\n",
       "    }\n",
       "\n",
       "    .dataframe tbody tr th {\n",
       "        vertical-align: top;\n",
       "    }\n",
       "\n",
       "    .dataframe thead th {\n",
       "        text-align: right;\n",
       "    }\n",
       "</style>\n",
       "<table border=\"1\" class=\"dataframe\">\n",
       "  <thead>\n",
       "    <tr style=\"text-align: right;\">\n",
       "      <th></th>\n",
       "      <th>overall</th>\n",
       "      <th>reviewText</th>\n",
       "    </tr>\n",
       "  </thead>\n",
       "  <tbody>\n",
       "    <tr>\n",
       "      <th>0</th>\n",
       "      <td>5</td>\n",
       "      <td>Not much to write about here, but it does exactly what it's supposed to. filters out the pop sounds. now my recordings are much more crisp. it is one of the lowest prices pop filters on amazon so might as well buy it, they honestly work the same despite their pricing,</td>\n",
       "    </tr>\n",
       "    <tr>\n",
       "      <th>1</th>\n",
       "      <td>5</td>\n",
       "      <td>The product does exactly as it should and is quite affordable.I did not realized it was double screened until it arrived, so it was even better than I had expected.As an added bonus, one of the screens carries a small hint of the smell of an old grape candy I used to buy, so for reminiscent's sake, I cannot stop putting the pop filter next to my nose and smelling it after recording. :DIf you needed a pop filter, this will work just as well as the expensive ones, and it may even come with a pleasing aroma like mine did!Buy this product! :]</td>\n",
       "    </tr>\n",
       "    <tr>\n",
       "      <th>2</th>\n",
       "      <td>5</td>\n",
       "      <td>The primary job of this device is to block the breath that would otherwise produce a popping sound, while allowing your voice to pass through with no noticeable reduction of volume or high frequencies. The double cloth filter blocks the pops and lets the voice through with no coloration. The metal clamp mount attaches to the mike stand secure enough to keep it attached. The goose neck needs a little coaxing to stay where you put it.</td>\n",
       "    </tr>\n",
       "  </tbody>\n",
       "</table>\n",
       "</div>"
      ],
      "text/plain": [
       "   overall  \\\n",
       "0        5   \n",
       "1        5   \n",
       "2        5   \n",
       "\n",
       "                                                                                                                                                                                                                                                                                                                                                                                                                                                                                                                                                         reviewText  \n",
       "0                                                                                                                                                                                                                                                                                      Not much to write about here, but it does exactly what it's supposed to. filters out the pop sounds. now my recordings are much more crisp. it is one of the lowest prices pop filters on amazon so might as well buy it, they honestly work the same despite their pricing,  \n",
       "1  The product does exactly as it should and is quite affordable.I did not realized it was double screened until it arrived, so it was even better than I had expected.As an added bonus, one of the screens carries a small hint of the smell of an old grape candy I used to buy, so for reminiscent's sake, I cannot stop putting the pop filter next to my nose and smelling it after recording. :DIf you needed a pop filter, this will work just as well as the expensive ones, and it may even come with a pleasing aroma like mine did!Buy this product! :]  \n",
       "2                                                                                                              The primary job of this device is to block the breath that would otherwise produce a popping sound, while allowing your voice to pass through with no noticeable reduction of volume or high frequencies. The double cloth filter blocks the pops and lets the voice through with no coloration. The metal clamp mount attaches to the mike stand secure enough to keep it attached. The goose neck needs a little coaxing to stay where you put it.  "
      ]
     },
     "execution_count": 43,
     "metadata": {},
     "output_type": "execute_result"
    }
   ],
   "source": [
    "pos_reviews.head(3)"
   ]
  },
  {
   "cell_type": "code",
   "execution_count": 44,
   "metadata": {},
   "outputs": [
    {
     "data": {
      "text/plain": [
       "(8998, 2)"
      ]
     },
     "execution_count": 44,
     "metadata": {},
     "output_type": "execute_result"
    }
   ],
   "source": [
    "pos_reviews.shape"
   ]
  },
  {
   "cell_type": "code",
   "execution_count": null,
   "metadata": {},
   "outputs": [],
   "source": []
  },
  {
   "cell_type": "code",
   "execution_count": 45,
   "metadata": {},
   "outputs": [],
   "source": [
    "neg_reviews = condensed_df.loc[condensed_df['overall'] < 3]"
   ]
  },
  {
   "cell_type": "code",
   "execution_count": 46,
   "metadata": {
    "scrolled": true
   },
   "outputs": [
    {
     "data": {
      "text/html": [
       "<div>\n",
       "<style scoped>\n",
       "    .dataframe tbody tr th:only-of-type {\n",
       "        vertical-align: middle;\n",
       "    }\n",
       "\n",
       "    .dataframe tbody tr th {\n",
       "        vertical-align: top;\n",
       "    }\n",
       "\n",
       "    .dataframe thead th {\n",
       "        text-align: right;\n",
       "    }\n",
       "</style>\n",
       "<table border=\"1\" class=\"dataframe\">\n",
       "  <thead>\n",
       "    <tr style=\"text-align: right;\">\n",
       "      <th></th>\n",
       "      <th>overall</th>\n",
       "      <th>reviewText</th>\n",
       "    </tr>\n",
       "  </thead>\n",
       "  <tbody>\n",
       "    <tr>\n",
       "      <th>15</th>\n",
       "      <td>2</td>\n",
       "      <td>I bought this to use with my keyboard. I wasn't really aware that there were other options for keyboard pedals. It doesn't work as smoothly as the pedals do on an acoustic piano, which is what I'd always used. Doesn't have the same feel either. Nowhere close.In my opinion, a sustain pedal like the M-Audio SP-2 Sustain Pedal with Piano Style Action or other similar pedal is a much better choice. The price difference is only a few dollars and the feel and action are so much better. The only thing I've found the Yamaha FC-5 Sustain Pedal is good for is taking up space in a drawer where I keep my electric guitar pedals.</td>\n",
       "    </tr>\n",
       "    <tr>\n",
       "      <th>50</th>\n",
       "      <td>2</td>\n",
       "      <td>I didn't expect this cable to be so thin. It's easily 1/2 the thickness of any guitar cable I've used. Not sure about long-term durability or signal loss/interference. If I had the foresight I'd spend a couple extra bucks on a thicker cable.  Still, it works and was inexpensive.EDIT: 6 months later and it's dead already.  Wire frayed at the right angle jack.  You get what you pay for.</td>\n",
       "    </tr>\n",
       "    <tr>\n",
       "      <th>52</th>\n",
       "      <td>1</td>\n",
       "      <td>It hums, crackles, and I think I'm having problems with my equipment.  As soon as I use any of my other cords then the problem is gone.  Hosa makes some other products that have good value.  But based on my experience I don't recommend this one.</td>\n",
       "    </tr>\n",
       "  </tbody>\n",
       "</table>\n",
       "</div>"
      ],
      "text/plain": [
       "    overall  \\\n",
       "15        2   \n",
       "50        2   \n",
       "52        1   \n",
       "\n",
       "                                                                                                                                                                                                                                                                                                                                                                                                                                                                                                                                                                                                                                         reviewText  \n",
       "15  I bought this to use with my keyboard. I wasn't really aware that there were other options for keyboard pedals. It doesn't work as smoothly as the pedals do on an acoustic piano, which is what I'd always used. Doesn't have the same feel either. Nowhere close.In my opinion, a sustain pedal like the M-Audio SP-2 Sustain Pedal with Piano Style Action or other similar pedal is a much better choice. The price difference is only a few dollars and the feel and action are so much better. The only thing I've found the Yamaha FC-5 Sustain Pedal is good for is taking up space in a drawer where I keep my electric guitar pedals.  \n",
       "50                                                                                                                                                                                                                                              I didn't expect this cable to be so thin. It's easily 1/2 the thickness of any guitar cable I've used. Not sure about long-term durability or signal loss/interference. If I had the foresight I'd spend a couple extra bucks on a thicker cable.  Still, it works and was inexpensive.EDIT: 6 months later and it's dead already.  Wire frayed at the right angle jack.  You get what you pay for.  \n",
       "52                                                                                                                                                                                                                                                                                                                                                                                            It hums, crackles, and I think I'm having problems with my equipment.  As soon as I use any of my other cords then the problem is gone.  Hosa makes some other products that have good value.  But based on my experience I don't recommend this one.  "
      ]
     },
     "execution_count": 46,
     "metadata": {},
     "output_type": "execute_result"
    }
   ],
   "source": [
    "neg_reviews.head(3)"
   ]
  },
  {
   "cell_type": "code",
   "execution_count": 47,
   "metadata": {},
   "outputs": [
    {
     "data": {
      "text/plain": [
       "(465, 2)"
      ]
     },
     "execution_count": 47,
     "metadata": {},
     "output_type": "execute_result"
    }
   ],
   "source": [
    "neg_reviews.shape"
   ]
  },
  {
   "cell_type": "code",
   "execution_count": 48,
   "metadata": {},
   "outputs": [
    {
     "data": {
      "text/plain": [
       "(771, 2)"
      ]
     },
     "execution_count": 48,
     "metadata": {},
     "output_type": "execute_result"
    }
   ],
   "source": [
    "neu_reviews = condensed_df.loc[condensed_df['overall'] == 3]\n",
    "neu_reviews.shape"
   ]
  },
  {
   "cell_type": "code",
   "execution_count": 49,
   "metadata": {},
   "outputs": [],
   "source": [
    "pos_reviews.insert(2, 'reaction', 'positive')"
   ]
  },
  {
   "cell_type": "code",
   "execution_count": 50,
   "metadata": {},
   "outputs": [],
   "source": [
    "neg_reviews.insert(2, 'reaction', 'negative')"
   ]
  },
  {
   "cell_type": "code",
   "execution_count": 51,
   "metadata": {},
   "outputs": [],
   "source": [
    "neu_reviews.insert(2, 'reaction', 'neutral')"
   ]
  },
  {
   "cell_type": "code",
   "execution_count": 52,
   "metadata": {},
   "outputs": [
    {
     "data": {
      "text/html": [
       "<div>\n",
       "<style scoped>\n",
       "    .dataframe tbody tr th:only-of-type {\n",
       "        vertical-align: middle;\n",
       "    }\n",
       "\n",
       "    .dataframe tbody tr th {\n",
       "        vertical-align: top;\n",
       "    }\n",
       "\n",
       "    .dataframe thead th {\n",
       "        text-align: right;\n",
       "    }\n",
       "</style>\n",
       "<table border=\"1\" class=\"dataframe\">\n",
       "  <thead>\n",
       "    <tr style=\"text-align: right;\">\n",
       "      <th></th>\n",
       "      <th>overall</th>\n",
       "      <th>reviewText</th>\n",
       "      <th>reaction</th>\n",
       "    </tr>\n",
       "  </thead>\n",
       "  <tbody>\n",
       "    <tr>\n",
       "      <th>0</th>\n",
       "      <td>5</td>\n",
       "      <td>Not much to write about here, but it does exactly what it's supposed to. filters out the pop sounds. now my recordings are much more crisp. it is one of the lowest prices pop filters on amazon so might as well buy it, they honestly work the same despite their pricing,</td>\n",
       "      <td>positive</td>\n",
       "    </tr>\n",
       "    <tr>\n",
       "      <th>1</th>\n",
       "      <td>5</td>\n",
       "      <td>The product does exactly as it should and is quite affordable.I did not realized it was double screened until it arrived, so it was even better than I had expected.As an added bonus, one of the screens carries a small hint of the smell of an old grape candy I used to buy, so for reminiscent's sake, I cannot stop putting the pop filter next to my nose and smelling it after recording. :DIf you needed a pop filter, this will work just as well as the expensive ones, and it may even come with a pleasing aroma like mine did!Buy this product! :]</td>\n",
       "      <td>positive</td>\n",
       "    </tr>\n",
       "    <tr>\n",
       "      <th>2</th>\n",
       "      <td>5</td>\n",
       "      <td>The primary job of this device is to block the breath that would otherwise produce a popping sound, while allowing your voice to pass through with no noticeable reduction of volume or high frequencies. The double cloth filter blocks the pops and lets the voice through with no coloration. The metal clamp mount attaches to the mike stand secure enough to keep it attached. The goose neck needs a little coaxing to stay where you put it.</td>\n",
       "      <td>positive</td>\n",
       "    </tr>\n",
       "  </tbody>\n",
       "</table>\n",
       "</div>"
      ],
      "text/plain": [
       "   overall  \\\n",
       "0        5   \n",
       "1        5   \n",
       "2        5   \n",
       "\n",
       "                                                                                                                                                                                                                                                                                                                                                                                                                                                                                                                                                         reviewText  \\\n",
       "0                                                                                                                                                                                                                                                                                      Not much to write about here, but it does exactly what it's supposed to. filters out the pop sounds. now my recordings are much more crisp. it is one of the lowest prices pop filters on amazon so might as well buy it, they honestly work the same despite their pricing,   \n",
       "1  The product does exactly as it should and is quite affordable.I did not realized it was double screened until it arrived, so it was even better than I had expected.As an added bonus, one of the screens carries a small hint of the smell of an old grape candy I used to buy, so for reminiscent's sake, I cannot stop putting the pop filter next to my nose and smelling it after recording. :DIf you needed a pop filter, this will work just as well as the expensive ones, and it may even come with a pleasing aroma like mine did!Buy this product! :]   \n",
       "2                                                                                                              The primary job of this device is to block the breath that would otherwise produce a popping sound, while allowing your voice to pass through with no noticeable reduction of volume or high frequencies. The double cloth filter blocks the pops and lets the voice through with no coloration. The metal clamp mount attaches to the mike stand secure enough to keep it attached. The goose neck needs a little coaxing to stay where you put it.   \n",
       "\n",
       "   reaction  \n",
       "0  positive  \n",
       "1  positive  \n",
       "2  positive  "
      ]
     },
     "execution_count": 52,
     "metadata": {},
     "output_type": "execute_result"
    }
   ],
   "source": [
    "pos_reviews.head(3)"
   ]
  },
  {
   "cell_type": "code",
   "execution_count": 53,
   "metadata": {
    "scrolled": true
   },
   "outputs": [],
   "source": [
    "pos_100=pos_reviews[:00]"
   ]
  },
  {
   "cell_type": "code",
   "execution_count": 54,
   "metadata": {
    "scrolled": true
   },
   "outputs": [],
   "source": [
    "neg_100=neg_reviews[:200]\n",
    "neu_100=neu_reviews[:200]"
   ]
  },
  {
   "cell_type": "code",
   "execution_count": 55,
   "metadata": {},
   "outputs": [],
   "source": [
    "top_100s=pd.concat([pos_100,neg_100,neu_100],ignore_index=True)"
   ]
  },
  {
   "cell_type": "code",
   "execution_count": 56,
   "metadata": {},
   "outputs": [],
   "source": [
    "top_100s.to_csv(\"musical_insturments-1.csv\")"
   ]
  },
  {
   "cell_type": "code",
   "execution_count": 57,
   "metadata": {},
   "outputs": [
    {
     "data": {
      "text/plain": [
       "(400, 4)"
      ]
     },
     "execution_count": 57,
     "metadata": {},
     "output_type": "execute_result"
    }
   ],
   "source": [
    "d=pd.read_csv(\"musical_insturments-1.csv\")\n",
    "d.shape"
   ]
  },
  {
   "cell_type": "markdown",
   "metadata": {},
   "source": [
    "## Concatenate the pos and negative reviews here as we already got them"
   ]
  },
  {
   "cell_type": "code",
   "execution_count": 58,
   "metadata": {},
   "outputs": [],
   "source": [
    "combined_reviews = pd.concat([pos_reviews, neg_reviews], ignore_index=True)"
   ]
  },
  {
   "cell_type": "code",
   "execution_count": 59,
   "metadata": {},
   "outputs": [
    {
     "name": "stdout",
     "output_type": "stream",
     "text": [
      "<class 'pandas.core.frame.DataFrame'>\n",
      "RangeIndex: 9463 entries, 0 to 9462\n",
      "Data columns (total 3 columns):\n",
      " #   Column      Non-Null Count  Dtype \n",
      "---  ------      --------------  ----- \n",
      " 0   overall     9463 non-null   int64 \n",
      " 1   reviewText  9463 non-null   object\n",
      " 2   reaction    9463 non-null   object\n",
      "dtypes: int64(1), object(2)\n",
      "memory usage: 221.9+ KB\n"
     ]
    }
   ],
   "source": [
    "combined_reviews.info()"
   ]
  },
  {
   "cell_type": "code",
   "execution_count": 60,
   "metadata": {},
   "outputs": [
    {
     "data": {
      "text/plain": [
       "0"
      ]
     },
     "execution_count": 60,
     "metadata": {},
     "output_type": "execute_result"
    }
   ],
   "source": [
    "combined_reviews['reviewText'].isnull().sum()\n",
    "\n",
    "#no null values"
   ]
  },
  {
   "cell_type": "code",
   "execution_count": 61,
   "metadata": {
    "scrolled": true
   },
   "outputs": [
    {
     "data": {
      "text/html": [
       "<div>\n",
       "<style scoped>\n",
       "    .dataframe tbody tr th:only-of-type {\n",
       "        vertical-align: middle;\n",
       "    }\n",
       "\n",
       "    .dataframe tbody tr th {\n",
       "        vertical-align: top;\n",
       "    }\n",
       "\n",
       "    .dataframe thead th {\n",
       "        text-align: right;\n",
       "    }\n",
       "</style>\n",
       "<table border=\"1\" class=\"dataframe\">\n",
       "  <thead>\n",
       "    <tr style=\"text-align: right;\">\n",
       "      <th></th>\n",
       "      <th>overall</th>\n",
       "      <th>reviewText</th>\n",
       "      <th>reaction</th>\n",
       "    </tr>\n",
       "  </thead>\n",
       "  <tbody>\n",
       "    <tr>\n",
       "      <th>0</th>\n",
       "      <td>5</td>\n",
       "      <td>Not much to write about here, but it does exactly what it's supposed to. filters out the pop sounds. now my recordings are much more crisp. it is one of the lowest prices pop filters on amazon so might as well buy it, they honestly work the same despite their pricing,</td>\n",
       "      <td>positive</td>\n",
       "    </tr>\n",
       "    <tr>\n",
       "      <th>1</th>\n",
       "      <td>5</td>\n",
       "      <td>The product does exactly as it should and is quite affordable.I did not realized it was double screened until it arrived, so it was even better than I had expected.As an added bonus, one of the screens carries a small hint of the smell of an old grape candy I used to buy, so for reminiscent's sake, I cannot stop putting the pop filter next to my nose and smelling it after recording. :DIf you needed a pop filter, this will work just as well as the expensive ones, and it may even come with a pleasing aroma like mine did!Buy this product! :]</td>\n",
       "      <td>positive</td>\n",
       "    </tr>\n",
       "    <tr>\n",
       "      <th>2</th>\n",
       "      <td>5</td>\n",
       "      <td>The primary job of this device is to block the breath that would otherwise produce a popping sound, while allowing your voice to pass through with no noticeable reduction of volume or high frequencies. The double cloth filter blocks the pops and lets the voice through with no coloration. The metal clamp mount attaches to the mike stand secure enough to keep it attached. The goose neck needs a little coaxing to stay where you put it.</td>\n",
       "      <td>positive</td>\n",
       "    </tr>\n",
       "    <tr>\n",
       "      <th>3</th>\n",
       "      <td>5</td>\n",
       "      <td>Nice windscreen protects my MXL mic and prevents pops. Only thing is that the gooseneck is only marginally able to hold the screen in position and requires careful positioning of the clamp to avoid sagging.</td>\n",
       "      <td>positive</td>\n",
       "    </tr>\n",
       "    <tr>\n",
       "      <th>4</th>\n",
       "      <td>5</td>\n",
       "      <td>This pop filter is great. It looks and performs like a studio filter. If you're recording vocals this will eliminate the pops that gets recorded when you sing.</td>\n",
       "      <td>positive</td>\n",
       "    </tr>\n",
       "    <tr>\n",
       "      <th>...</th>\n",
       "      <td>...</td>\n",
       "      <td>...</td>\n",
       "      <td>...</td>\n",
       "    </tr>\n",
       "    <tr>\n",
       "      <th>9458</th>\n",
       "      <td>1</td>\n",
       "      <td>I really wanted to like these, but they're a frickin, lint-catching sticky frickin' mess! They went from my wife's snare back into the holder in a New York Minute, have never seen the light of day, and may have been thrown in the garbage. Save your money. We use a heavy stoneware coaster with a cork back to quieten her snare now.</td>\n",
       "      <td>negative</td>\n",
       "    </tr>\n",
       "    <tr>\n",
       "      <th>9459</th>\n",
       "      <td>2</td>\n",
       "      <td>The larger ones sometimes have the neck snap so I thought this might be the answer.  The answer is to treat your larger Snarks nicer cause this thing on the back of your guitar with no adjustments simple doesn't cut it.  I have to move the guitar and crane my neck to see the display.  I'm quite disappointed and it sits here with no use.  It is cheap though.  Still to me it was money out the window.</td>\n",
       "      <td>negative</td>\n",
       "    </tr>\n",
       "    <tr>\n",
       "      <th>9460</th>\n",
       "      <td>2</td>\n",
       "      <td>The tension screw adjustment remains the best of any capo I've ever used - and I've tried many over the years. But what was Ned smoking when he decided to have the trigger handle and main support stem, including the pick clip and tuner holder, protude outward away from the fingerboard? It's awkward to apply and remove quickly. It's visually distracting for player and audience, and it doesn't add any mechanical benefit to the already excellent tension adjustment.The only possible justification I can come up with is having less to obstruct the fretting hand behind the neck -  but even that doesn't fly. Regardless of capo tension you should position it as close to the fret as practical and, unless you're avoiding playing that first fret (or use a low-thumb classical fret hand position) you're always going to feel some part of the capo against the leading edge of your hand. I own the older Planet Waves tri-action capo and never felt that to be a problem.Otherwise the construction of the NS Artist Capo is superb. The surface is arched, probably between a 10-12 radius that works fine on various Strat fingerboards as well as a flatter SG/LP style. It doesn't work as well on the very flat 16 radius of my Martin OM-1 which is virtually the same as a classical. If I cranked the tension it's possible the rubber would flatten out but I wouldn't risk marring the neck wood.I tried both the pick and tuner clips and they're functional, but to be honest I wouldn't use either - too distracting and I only use tuners to get an initial A, then tune each guitar to itself or to other instruments, depending on what they are.The only other capo I've ever used that protudes outward is the Kyser with its notorious 'wrought iron fence' design. I have one and, as good as the holding action is, I've never felt comfortable with the design. The older Planet Waves capo is still available so it comes down to preference.To top off the confusion, the picture on the front of the cardboard card the NS Artist comes mounted on shows a similar capo positioned in a way that's impossible with this capo!</td>\n",
       "      <td>negative</td>\n",
       "    </tr>\n",
       "    <tr>\n",
       "      <th>9461</th>\n",
       "      <td>2</td>\n",
       "      <td>I am a fan of Planet Waves NS capos, but this new one is not very well designed. The way it sits on the guitar is sort of backwards. I find my left hand hitting the lever when I'm in open position. Frustrating. It does have a pick holder, which can be handy, and a place to put an NS tuner, which can also be handy. I just think it could have been better designed. I don't particularly care for this capo and will likely not use it for much stuff. I'll stick to my other NS Planet Waves capo or my old faithful Kyser.</td>\n",
       "      <td>negative</td>\n",
       "    </tr>\n",
       "    <tr>\n",
       "      <th>9462</th>\n",
       "      <td>2</td>\n",
       "      <td>I was looking forward to trying these, as I've loved this company's product since day one.But I think they've messed around with the gauge, slapped a meaningless &amp;#34;HD&amp;#34; tag on, and added a few bucks to the price. More profit in someone's pocket for marketing jargon.I have a smaller-bodied guitar, so these should have, by their claim, given me better balance, but imho, the opposite happened. The bottom dropped out, the top end stopped sizzling, and the middle strings totally took over when I strum with a pick.When I play with fingers it's better, but not worth spending more money on than the normal .012s I've been using (which I think I liked a lot better).It's possible that these work great on the Taylor guitars they were ostensibly designed for (color me skeptical), but I'd say if you're happy with what you have, you need not try these.Again, long-time user and big fan, but paying extra money for a slightly different gauge and a silly &amp;#34;HD&amp;#34; moniker... no thanks.</td>\n",
       "      <td>negative</td>\n",
       "    </tr>\n",
       "  </tbody>\n",
       "</table>\n",
       "<p>9463 rows × 3 columns</p>\n",
       "</div>"
      ],
      "text/plain": [
       "      overall  \\\n",
       "0           5   \n",
       "1           5   \n",
       "2           5   \n",
       "3           5   \n",
       "4           5   \n",
       "...       ...   \n",
       "9458        1   \n",
       "9459        2   \n",
       "9460        2   \n",
       "9461        2   \n",
       "9462        2   \n",
       "\n",
       "                                                                                                                                                                                                                                                                                                                                                                                                                                                                                                                                                                                                                                                                                                                                                                                                                                                                                                                                                                                                                                                                                                                                                                                                                                                                                                                                                                                                                                                                                                                                                                                                                                                                                                                                                                                                                                                                                                                                                                                                                                                                                                                                                                             reviewText  \\\n",
       "0                                                                                                                                                                                                                                                                                                                                                                                                                                                                                                                                                                                                                                                                                                                                                                                                                                                                                                                                                                                                                                                                                                                                                                                                                                                                                                                                                                                                                                                                                                                                                                                                                                                                                                                                                                                                                                                                                                          Not much to write about here, but it does exactly what it's supposed to. filters out the pop sounds. now my recordings are much more crisp. it is one of the lowest prices pop filters on amazon so might as well buy it, they honestly work the same despite their pricing,   \n",
       "1                                                                                                                                                                                                                                                                                                                                                                                                                                                                                                                                                                                                                                                                                                                                                                                                                                                                                                                                                                                                                                                                                                                                                                                                                                                                                                                                                                                                                                                                                                                                                                                                                      The product does exactly as it should and is quite affordable.I did not realized it was double screened until it arrived, so it was even better than I had expected.As an added bonus, one of the screens carries a small hint of the smell of an old grape candy I used to buy, so for reminiscent's sake, I cannot stop putting the pop filter next to my nose and smelling it after recording. :DIf you needed a pop filter, this will work just as well as the expensive ones, and it may even come with a pleasing aroma like mine did!Buy this product! :]   \n",
       "2                                                                                                                                                                                                                                                                                                                                                                                                                                                                                                                                                                                                                                                                                                                                                                                                                                                                                                                                                                                                                                                                                                                                                                                                                                                                                                                                                                                                                                                                                                                                                                                                                                                                                                                                  The primary job of this device is to block the breath that would otherwise produce a popping sound, while allowing your voice to pass through with no noticeable reduction of volume or high frequencies. The double cloth filter blocks the pops and lets the voice through with no coloration. The metal clamp mount attaches to the mike stand secure enough to keep it attached. The goose neck needs a little coaxing to stay where you put it.   \n",
       "3                                                                                                                                                                                                                                                                                                                                                                                                                                                                                                                                                                                                                                                                                                                                                                                                                                                                                                                                                                                                                                                                                                                                                                                                                                                                                                                                                                                                                                                                                                                                                                                                                                                                                                                                                                                                                                                                                                                                                                        Nice windscreen protects my MXL mic and prevents pops. Only thing is that the gooseneck is only marginally able to hold the screen in position and requires careful positioning of the clamp to avoid sagging.   \n",
       "4                                                                                                                                                                                                                                                                                                                                                                                                                                                                                                                                                                                                                                                                                                                                                                                                                                                                                                                                                                                                                                                                                                                                                                                                                                                                                                                                                                                                                                                                                                                                                                                                                                                                                                                                                                                                                                                                                                                                                                                                                       This pop filter is great. It looks and performs like a studio filter. If you're recording vocals this will eliminate the pops that gets recorded when you sing.   \n",
       "...                                                                                                                                                                                                                                                                                                                                                                                                                                                                                                                                                                                                                                                                                                                                                                                                                                                                                                                                                                                                                                                                                                                                                                                                                                                                                                                                                                                                                                                                                                                                                                                                                                                                                                                                                                                                                                                                                                                                                                                                                                                                                                                                                                                 ...   \n",
       "9458                                                                                                                                                                                                                                                                                                                                                                                                                                                                                                                                                                                                                                                                                                                                                                                                                                                                                                                                                                                                                                                                                                                                                                                                                                                                                                                                                                                                                                                                                                                                                                                                                                                                                                                                                                                                                                        I really wanted to like these, but they're a frickin, lint-catching sticky frickin' mess! They went from my wife's snare back into the holder in a New York Minute, have never seen the light of day, and may have been thrown in the garbage. Save your money. We use a heavy stoneware coaster with a cork back to quieten her snare now.   \n",
       "9459                                                                                                                                                                                                                                                                                                                                                                                                                                                                                                                                                                                                                                                                                                                                                                                                                                                                                                                                                                                                                                                                                                                                                                                                                                                                                                                                                                                                                                                                                                                                                                                                                                                                                                                                                                  The larger ones sometimes have the neck snap so I thought this might be the answer.  The answer is to treat your larger Snarks nicer cause this thing on the back of your guitar with no adjustments simple doesn't cut it.  I have to move the guitar and crane my neck to see the display.  I'm quite disappointed and it sits here with no use.  It is cheap though.  Still to me it was money out the window.   \n",
       "9460  The tension screw adjustment remains the best of any capo I've ever used - and I've tried many over the years. But what was Ned smoking when he decided to have the trigger handle and main support stem, including the pick clip and tuner holder, protude outward away from the fingerboard? It's awkward to apply and remove quickly. It's visually distracting for player and audience, and it doesn't add any mechanical benefit to the already excellent tension adjustment.The only possible justification I can come up with is having less to obstruct the fretting hand behind the neck -  but even that doesn't fly. Regardless of capo tension you should position it as close to the fret as practical and, unless you're avoiding playing that first fret (or use a low-thumb classical fret hand position) you're always going to feel some part of the capo against the leading edge of your hand. I own the older Planet Waves tri-action capo and never felt that to be a problem.Otherwise the construction of the NS Artist Capo is superb. The surface is arched, probably between a 10-12 radius that works fine on various Strat fingerboards as well as a flatter SG/LP style. It doesn't work as well on the very flat 16 radius of my Martin OM-1 which is virtually the same as a classical. If I cranked the tension it's possible the rubber would flatten out but I wouldn't risk marring the neck wood.I tried both the pick and tuner clips and they're functional, but to be honest I wouldn't use either - too distracting and I only use tuners to get an initial A, then tune each guitar to itself or to other instruments, depending on what they are.The only other capo I've ever used that protudes outward is the Kyser with its notorious 'wrought iron fence' design. I have one and, as good as the holding action is, I've never felt comfortable with the design. The older Planet Waves capo is still available so it comes down to preference.To top off the confusion, the picture on the front of the cardboard card the NS Artist comes mounted on shows a similar capo positioned in a way that's impossible with this capo!   \n",
       "9461                                                                                                                                                                                                                                                                                                                                                                                                                                                                                                                                                                                                                                                                                                                                                                                                                                                                                                                                                                                                                                                                                                                                                                                                                                                                                                                                                                                                                                                                                                                                                                                                                                              I am a fan of Planet Waves NS capos, but this new one is not very well designed. The way it sits on the guitar is sort of backwards. I find my left hand hitting the lever when I'm in open position. Frustrating. It does have a pick holder, which can be handy, and a place to put an NS tuner, which can also be handy. I just think it could have been better designed. I don't particularly care for this capo and will likely not use it for much stuff. I'll stick to my other NS Planet Waves capo or my old faithful Kyser.   \n",
       "9462                                                                                                                                                                                                                                                                                                                                                                                                                                                                                                                                                                                                                                                                                                                                                                                                                                                                                                                                                                                                                                                                                                                                                     I was looking forward to trying these, as I've loved this company's product since day one.But I think they've messed around with the gauge, slapped a meaningless &#34;HD&#34; tag on, and added a few bucks to the price. More profit in someone's pocket for marketing jargon.I have a smaller-bodied guitar, so these should have, by their claim, given me better balance, but imho, the opposite happened. The bottom dropped out, the top end stopped sizzling, and the middle strings totally took over when I strum with a pick.When I play with fingers it's better, but not worth spending more money on than the normal .012s I've been using (which I think I liked a lot better).It's possible that these work great on the Taylor guitars they were ostensibly designed for (color me skeptical), but I'd say if you're happy with what you have, you need not try these.Again, long-time user and big fan, but paying extra money for a slightly different gauge and a silly &#34;HD&#34; moniker... no thanks.   \n",
       "\n",
       "      reaction  \n",
       "0     positive  \n",
       "1     positive  \n",
       "2     positive  \n",
       "3     positive  \n",
       "4     positive  \n",
       "...        ...  \n",
       "9458  negative  \n",
       "9459  negative  \n",
       "9460  negative  \n",
       "9461  negative  \n",
       "9462  negative  \n",
       "\n",
       "[9463 rows x 3 columns]"
      ]
     },
     "execution_count": 61,
     "metadata": {},
     "output_type": "execute_result"
    }
   ],
   "source": [
    "combined_reviews"
   ]
  },
  {
   "cell_type": "code",
   "execution_count": 62,
   "metadata": {},
   "outputs": [],
   "source": [
    "combined_reviews.to_csv('combined_reviews.csv')"
   ]
  },
  {
   "cell_type": "code",
   "execution_count": 63,
   "metadata": {
    "scrolled": true
   },
   "outputs": [
    {
     "name": "stdout",
     "output_type": "stream",
     "text": [
      "               overall  \\\n",
      "reaction                 \n",
      "negative 9255        1   \n",
      "         9370        2   \n",
      "         8999        2   \n",
      "         9152        2   \n",
      "         9432        2   \n",
      "...                ...   \n",
      "positive 3657        5   \n",
      "         3440        5   \n",
      "         1543        5   \n",
      "         5347        5   \n",
      "         2268        5   \n",
      "\n",
      "                                                                                                                                                                                                                                                                                                                                                                                                                                                                                                                                                                                                                                                                                                                                                                               reviewText  \\\n",
      "reaction                                                                                                                                                                                                                                                                                                                                                                                                                                                                                                                                                                                                                                                                                                                                                                                    \n",
      "negative 9255                                                                                                                                     I had some issues with my 18-watt all tube amp so I experimented and replaced all the tubes.  Issues not only continued but worsened.  Hum, noise, volume fade, unwanted distortion at low volumes.  I eventually put back the original El84s and that didn't help.  Once I removed the Tung-Sol 12AX7 preamp tubes and replaced, the hum stopped, sound quality of the amp was consistent, quiet and back to par.  My experience with the Tung-Sol tubes was very, very negative.  They caused me to go out and buy another amp.  I had no idea that brand new tubes could sound so badly that fast.  I'll never buy this brand again.   \n",
      "         9370                                                                                                                                                                                                                                                                                                                                                                                                                                                                         I can't say much about this product.  I tried it twice.  It seemed like it kind of cleaned the strings, but I really didn't notice any great change.  The strings didn't sound betteer or brighter.  Now, it sits in my drawer and collects dust.  Maybe I will try it again at some point, but....   \n",
      "         8999                                                                                                                                                                                                                                                                                                                                                                         I didn't expect this cable to be so thin. It's easily 1/2 the thickness of any guitar cable I've used. Not sure about long-term durability or signal loss/interference. If I had the foresight I'd spend a couple extra bucks on a thicker cable.  Still, it works and was inexpensive.EDIT: 6 months later and it's dead already.  Wire frayed at the right angle jack.  You get what you pay for.   \n",
      "         9152  I purchased this as my first guitar slide. I loved it for about one month, then it fell off my finger and shattered into tiny pieces. I almost cut myself! I will never buy a glass slide again, I recently bought a Dunlop brass slide and love it. The difference between glass and metal is that glass is a muddier, mellow tone, and glass is crisper, louder, and does not break. I would not suggest this to anyone. The metal ones are about the same price, they don't break, and sound way better. There's a reason ALL pros use metal! The review below is wrong. Slides are meant to cover your ENTIrE finger, all the way to the tip. You don't bend your finger to play slide. You retune your guitar to an open tuning. Just thought I would point that out.   \n",
      "         9432                                                                                                                                                                                                                                                                          Although this is a very solid feeling pedal and the output and sustain knobs worked, the attack knob (the control for how much compression you want to apply) did absolutely nothing. I even checked it in my recording software by looking at the waveforms and there was no change at all regardless of the attack setting.Perhaps my pedal was a rare defective one, but none-the-less I returned the pedal back to Amazon and will search for another compression solution for my pedal board.   \n",
      "...                                                                                                                                                                                                                                                                                                                                                                                                                                                                                                                                                                                                                                                                                                                                                                                   ...   \n",
      "positive 3657                                                                                                                                                                                                                                                                                                                                                                                                                                                                                                                                                                                              All these harmonicas in one case and they sound great. You have to get use to the plastic but it is very easy to do and once you do get ready to play away. Nice tone and fun.   \n",
      "         3440                                                                                                                                                                                                                                                                                                                            I have these on 5 of my guitars now, with my acoustic and a &#34;novelty&#34; guitar being the exceptions. I can't stand the thought of not using these after seeing too many expensive guitars hit the floor after the straps let loose. Other styles have a button, which seems more convenient, but the Schaller locks are pull style which is far more secure if something bumps the end of the lock. These are the only locks I'll use now.   \n",
      "         1543                                                                                                                                                                                                                                                                                                                                                                                                                                                                                                                                                                                                                         A guitar player can never have enough of these things around. These picks hold up well & that says alot because I am not easy on picks if any kind.   \n",
      "         5347                                                                                                                                                                                                                                                                                                                                                                                                                                                                                                                                                                                                          Fits great and helps to eliminate feedback. I could see some having problems with the size of their sound holes and it can be a tight fit but it definitely works.   \n",
      "         2268                                                                                                                                                                                                                                                                                                                                                                                                                                                                                                                                                                                     We added this as an extension to our clubhouse PA system. It's very nice quality has a range of easily adjustable stops and provided excellent ability for both short and tall speakers   \n",
      "\n",
      "               reaction  \n",
      "reaction                 \n",
      "negative 9255  negative  \n",
      "         9370  negative  \n",
      "         8999  negative  \n",
      "         9152  negative  \n",
      "         9432  negative  \n",
      "...                 ...  \n",
      "positive 3657  positive  \n",
      "         3440  positive  \n",
      "         1543  positive  \n",
      "         5347  positive  \n",
      "         2268  positive  \n",
      "\n",
      "[232 rows x 3 columns]\n"
     ]
    }
   ],
   "source": [
    "print(combined_reviews.groupby('reaction').apply(lambda x:x.sample(n=116)))"
   ]
  },
  {
   "cell_type": "code",
   "execution_count": 64,
   "metadata": {},
   "outputs": [],
   "source": [
    "sample_df = combined_reviews.groupby('reaction').apply(lambda x: x.sample(n=116)).reset_index(drop = True)"
   ]
  },
  {
   "cell_type": "code",
   "execution_count": 65,
   "metadata": {
    "scrolled": false
   },
   "outputs": [
    {
     "data": {
      "text/plain": [
       "negative    116\n",
       "positive    116\n",
       "Name: reaction, dtype: int64"
      ]
     },
     "execution_count": 65,
     "metadata": {},
     "output_type": "execute_result"
    }
   ],
   "source": [
    "sample_df['reaction'].value_counts()"
   ]
  },
  {
   "cell_type": "code",
   "execution_count": 66,
   "metadata": {
    "scrolled": false
   },
   "outputs": [
    {
     "name": "stdout",
     "output_type": "stream",
     "text": [
      "<class 'pandas.core.frame.DataFrame'>\n",
      "RangeIndex: 232 entries, 0 to 231\n",
      "Data columns (total 3 columns):\n",
      " #   Column      Non-Null Count  Dtype \n",
      "---  ------      --------------  ----- \n",
      " 0   overall     232 non-null    int64 \n",
      " 1   reviewText  232 non-null    object\n",
      " 2   reaction    232 non-null    object\n",
      "dtypes: int64(1), object(2)\n",
      "memory usage: 5.6+ KB\n"
     ]
    }
   ],
   "source": [
    "sample_df.info()"
   ]
  },
  {
   "cell_type": "code",
   "execution_count": 67,
   "metadata": {},
   "outputs": [
    {
     "data": {
      "text/html": [
       "<div>\n",
       "<style scoped>\n",
       "    .dataframe tbody tr th:only-of-type {\n",
       "        vertical-align: middle;\n",
       "    }\n",
       "\n",
       "    .dataframe tbody tr th {\n",
       "        vertical-align: top;\n",
       "    }\n",
       "\n",
       "    .dataframe thead th {\n",
       "        text-align: right;\n",
       "    }\n",
       "</style>\n",
       "<table border=\"1\" class=\"dataframe\">\n",
       "  <thead>\n",
       "    <tr style=\"text-align: right;\">\n",
       "      <th></th>\n",
       "      <th>overall</th>\n",
       "      <th>reviewText</th>\n",
       "      <th>reaction</th>\n",
       "    </tr>\n",
       "  </thead>\n",
       "  <tbody>\n",
       "    <tr>\n",
       "      <th>0</th>\n",
       "      <td>2</td>\n",
       "      <td>Soooo bummed. I simply love the sound on these cans, but the speakers are just too dang close to the surface (not deep enough in the cups) and press down hard on my ears. The max time I can wear them is like an hour, and then I can't wear them for a day or so due to residual pain. I guess if they used thicker pads to deepen the cups, that might help. Also, on most of my other phones, the speaker areas have fairly flat surfaces, while this one has the speakers jutting out of the cups and are covered by just one thin nylon sheet. So it's kind of like double trouble. However, these really do have great sound (especially the tight bass clarity). If it weren't for the discomfort factor, I would be using them all the time. As of now, I hardly use them at all. In fact, when I first tested these out, I was ready to hop on the computer and order a couple more. But I'm glad I waited to really give them a more prolonged test. Of course, we are all of varying shapes and sizes, ha ha, so they might work for you where they don't for me. If so, you've got a bargain on some great cans. If not, ouch. Cheers!</td>\n",
       "      <td>negative</td>\n",
       "    </tr>\n",
       "    <tr>\n",
       "      <th>1</th>\n",
       "      <td>2</td>\n",
       "      <td>It is inexpensive but is difficult to use  anywhere with other noise..I used it for several years but it is only a backup now.. Nice part is that you can calibrate the tuning, although probably would not be used by most musicians.. Other than that I think money would be better spent on a headstock type tuner.. I would not recommend it.</td>\n",
       "      <td>negative</td>\n",
       "    </tr>\n",
       "    <tr>\n",
       "      <th>2</th>\n",
       "      <td>2</td>\n",
       "      <td>I thought it would protect my desk but the pad is almost like that rubber they put under rugs so they won't slip around. maybe i should get that for cheaper.I accidently bought LARGE, ooh boy is it; like, windshield sun reflector size. Sort of just a personal opinion review i suppose.</td>\n",
       "      <td>negative</td>\n",
       "    </tr>\n",
       "    <tr>\n",
       "      <th>3</th>\n",
       "      <td>2</td>\n",
       "      <td>With drum pads, I basically either get 0 velocity, or max.  And I have to really hammer on them to trigger.  Hurts after a while.Likes:+ Size+ Assignable knobs.+ Works good w/ Ableton LiveDislikes:- Drum pads!Keys are pretty cheesy but workable and expected for this price and size.I'm looking to upgrade after a month.. Want better drum pads.  :-/</td>\n",
       "      <td>negative</td>\n",
       "    </tr>\n",
       "    <tr>\n",
       "      <th>4</th>\n",
       "      <td>2</td>\n",
       "      <td>Tuner works great. Both by vibration and mic.Only real problem is the fact that the joint between the tuner and the clip is really weak. Mine broke off... not even a year old.</td>\n",
       "      <td>negative</td>\n",
       "    </tr>\n",
       "    <tr>\n",
       "      <th>...</th>\n",
       "      <td>...</td>\n",
       "      <td>...</td>\n",
       "      <td>...</td>\n",
       "    </tr>\n",
       "    <tr>\n",
       "      <th>227</th>\n",
       "      <td>5</td>\n",
       "      <td>but works well,  I have a different brand which has a string and small hook but I find when adjusted correctly I cannot remove it,,  this sling keeps the head loop large so you can get it off without a binch of hassle,, I find the hook to be wide though and could be alot better with a thinner hook.</td>\n",
       "      <td>positive</td>\n",
       "    </tr>\n",
       "    <tr>\n",
       "      <th>228</th>\n",
       "      <td>5</td>\n",
       "      <td>I bought this for my mandolin and was pleasantly surprised how awesome it a find this was. Easy to use and handy for ANY string instruments.Only thing i regret is not getting one sooner.</td>\n",
       "      <td>positive</td>\n",
       "    </tr>\n",
       "    <tr>\n",
       "      <th>229</th>\n",
       "      <td>5</td>\n",
       "      <td>It's hard to find a good clip-on tuner that's accurate and visible in all situations. The Snark SN-8(B) is my favorite so far.  It's really bright, more accurate that other Snarks, and (despite other reviews saying it breaks easily) I've found it to be sturdy enough considering how flexible it is.  Again, it's a clip-on tuner so don't expect razor-sharp accuracy.  But it does a good enough job for what it is.  It's quick and convenient.  If you need something more accurate I recommend investing in a good pedal.  I've found the swivel to be a nice feature that makes it easy to see the display.  I don't typically use the metronome feature, but it's nice to have it.  Overall, my favorite Snark model and my favorite clip-on tuner.</td>\n",
       "      <td>positive</td>\n",
       "    </tr>\n",
       "    <tr>\n",
       "      <th>230</th>\n",
       "      <td>5</td>\n",
       "      <td>These strings are great for all sorts of playing styles. I bought a set of 9's and 10's and I also have some D'Addario 11's. The 9's are super slinky just like the name says. They're great for quick movement around the fret board. My only complaint is that they are at times too thin sounding. I play a lot of rock, and sometimes these just don't pack a punch like the 10's or 11's do. All in all though, these are great strings, and I will definitely continue to buy Ernie Ball, I'll probably opt for 10's or 11's though.</td>\n",
       "      <td>positive</td>\n",
       "    </tr>\n",
       "    <tr>\n",
       "      <th>231</th>\n",
       "      <td>5</td>\n",
       "      <td>This was the first pedal I ever bought when I started playing guitar 15 years ago.  It's still in my primary set up!  The sound it puts out is very balanced:  you can get a subtle overdrive-like sound out of it, or a high-gain hard rock/80's metal sound out of it.  For those looking for insane crunch, this isn't for you.  Anyone that wants a nice, versatile pedal, this IS the one you want!</td>\n",
       "      <td>positive</td>\n",
       "    </tr>\n",
       "  </tbody>\n",
       "</table>\n",
       "<p>232 rows × 3 columns</p>\n",
       "</div>"
      ],
      "text/plain": [
       "     overall  \\\n",
       "0          2   \n",
       "1          2   \n",
       "2          2   \n",
       "3          2   \n",
       "4          2   \n",
       "..       ...   \n",
       "227        5   \n",
       "228        5   \n",
       "229        5   \n",
       "230        5   \n",
       "231        5   \n",
       "\n",
       "                                                                                                                                                                                                                                                                                                                                                                                                                                                                                                                                                                                                                                                                                                                                                                                                                                                                                                                                                                                                                                                                                                                                               reviewText  \\\n",
       "0    Soooo bummed. I simply love the sound on these cans, but the speakers are just too dang close to the surface (not deep enough in the cups) and press down hard on my ears. The max time I can wear them is like an hour, and then I can't wear them for a day or so due to residual pain. I guess if they used thicker pads to deepen the cups, that might help. Also, on most of my other phones, the speaker areas have fairly flat surfaces, while this one has the speakers jutting out of the cups and are covered by just one thin nylon sheet. So it's kind of like double trouble. However, these really do have great sound (especially the tight bass clarity). If it weren't for the discomfort factor, I would be using them all the time. As of now, I hardly use them at all. In fact, when I first tested these out, I was ready to hop on the computer and order a couple more. But I'm glad I waited to really give them a more prolonged test. Of course, we are all of varying shapes and sizes, ha ha, so they might work for you where they don't for me. If so, you've got a bargain on some great cans. If not, ouch. Cheers!   \n",
       "1                                                                                                                                                                                                                                                                                                                                                                                                                                                                                                                                                                                                                                                                                                                                                                                                       It is inexpensive but is difficult to use  anywhere with other noise..I used it for several years but it is only a backup now.. Nice part is that you can calibrate the tuning, although probably would not be used by most musicians.. Other than that I think money would be better spent on a headstock type tuner.. I would not recommend it.   \n",
       "2                                                                                                                                                                                                                                                                                                                                                                                                                                                                                                                                                                                                                                                                                                                                                                                                                                                           I thought it would protect my desk but the pad is almost like that rubber they put under rugs so they won't slip around. maybe i should get that for cheaper.I accidently bought LARGE, ooh boy is it; like, windshield sun reflector size. Sort of just a personal opinion review i suppose.   \n",
       "3                                                                                                                                                                                                                                                                                                                                                                                                                                                                                                                                                                                                                                                                                                                                                                                            With drum pads, I basically either get 0 velocity, or max.  And I have to really hammer on them to trigger.  Hurts after a while.Likes:+ Size+ Assignable knobs.+ Works good w/ Ableton LiveDislikes:- Drum pads!Keys are pretty cheesy but workable and expected for this price and size.I'm looking to upgrade after a month.. Want better drum pads.  :-/   \n",
       "4                                                                                                                                                                                                                                                                                                                                                                                                                                                                                                                                                                                                                                                                                                                                                                                                                                                                                                                                                                         Tuner works great. Both by vibration and mic.Only real problem is the fact that the joint between the tuner and the clip is really weak. Mine broke off... not even a year old.   \n",
       "..                                                                                                                                                                                                                                                                                                                                                                                                                                                                                                                                                                                                                                                                                                                                                                                                                                                                                                                                                                                                                                                                                                                                                    ...   \n",
       "227                                                                                                                                                                                                                                                                                                                                                                                                                                                                                                                                                                                                                                                                                                                                                                                                                                           but works well,  I have a different brand which has a string and small hook but I find when adjusted correctly I cannot remove it,,  this sling keeps the head loop large so you can get it off without a binch of hassle,, I find the hook to be wide though and could be alot better with a thinner hook.   \n",
       "228                                                                                                                                                                                                                                                                                                                                                                                                                                                                                                                                                                                                                                                                                                                                                                                                                                                                                                                                                            I bought this for my mandolin and was pleasantly surprised how awesome it a find this was. Easy to use and handy for ANY string instruments.Only thing i regret is not getting one sooner.   \n",
       "229                                                                                                                                                                                                                                                                                                                                                                                      It's hard to find a good clip-on tuner that's accurate and visible in all situations. The Snark SN-8(B) is my favorite so far.  It's really bright, more accurate that other Snarks, and (despite other reviews saying it breaks easily) I've found it to be sturdy enough considering how flexible it is.  Again, it's a clip-on tuner so don't expect razor-sharp accuracy.  But it does a good enough job for what it is.  It's quick and convenient.  If you need something more accurate I recommend investing in a good pedal.  I've found the swivel to be a nice feature that makes it easy to see the display.  I don't typically use the metronome feature, but it's nice to have it.  Overall, my favorite Snark model and my favorite clip-on tuner.   \n",
       "230                                                                                                                                                                                                                                                                                                                                                                                                                                                                                                                                                                                                            These strings are great for all sorts of playing styles. I bought a set of 9's and 10's and I also have some D'Addario 11's. The 9's are super slinky just like the name says. They're great for quick movement around the fret board. My only complaint is that they are at times too thin sounding. I play a lot of rock, and sometimes these just don't pack a punch like the 10's or 11's do. All in all though, these are great strings, and I will definitely continue to buy Ernie Ball, I'll probably opt for 10's or 11's though.   \n",
       "231                                                                                                                                                                                                                                                                                                                                                                                                                                                                                                                                                                                                                                                                                                                                              This was the first pedal I ever bought when I started playing guitar 15 years ago.  It's still in my primary set up!  The sound it puts out is very balanced:  you can get a subtle overdrive-like sound out of it, or a high-gain hard rock/80's metal sound out of it.  For those looking for insane crunch, this isn't for you.  Anyone that wants a nice, versatile pedal, this IS the one you want!   \n",
       "\n",
       "     reaction  \n",
       "0    negative  \n",
       "1    negative  \n",
       "2    negative  \n",
       "3    negative  \n",
       "4    negative  \n",
       "..        ...  \n",
       "227  positive  \n",
       "228  positive  \n",
       "229  positive  \n",
       "230  positive  \n",
       "231  positive  \n",
       "\n",
       "[232 rows x 3 columns]"
      ]
     },
     "execution_count": 67,
     "metadata": {},
     "output_type": "execute_result"
    }
   ],
   "source": [
    "sample_df"
   ]
  },
  {
   "cell_type": "code",
   "execution_count": 68,
   "metadata": {},
   "outputs": [
    {
     "name": "stdout",
     "output_type": "stream",
     "text": [
      "overall\n",
      "reviewText\n",
      "reaction\n"
     ]
    }
   ],
   "source": [
    "for i in sample_df:\n",
    "    print(i)"
   ]
  },
  {
   "cell_type": "code",
   "execution_count": 69,
   "metadata": {},
   "outputs": [],
   "source": [
    "pos_df = sample_df.loc[sample_df['reaction'] == 'positive']\n",
    "pos_list = pos_df['reviewText'].tolist()\n",
    "\n",
    "neg_df = sample_df.loc[sample_df['reaction'] == 'negative']\n",
    "neg_list = neg_df['reviewText'].tolist()"
   ]
  },
  {
   "cell_type": "code",
   "execution_count": 70,
   "metadata": {
    "scrolled": true
   },
   "outputs": [
    {
     "data": {
      "text/plain": [
       "['This is your basic, black electric guitar cable but it works great.  So far the connections at both ends are solid and the sound from the amp is great!  Nice and rubbery and 10 feet is long enough.  If problems arise later with this cable, I will update this review, but as of now there has been no problems whatsoever with this cable.',\n",
       " 'I use this music stand for my acoustic bass and electric bass these instruments are quite large and it secures the very well and they are very easily accessed  . I also use it for my acoustic tenor guitar which is on the other end of the scale in size and it works beautifully for it, Breaks down to a reasonable size for transport.',\n",
       " 'I used this for a while, but now I have the behringer 8ch rack mount and this rarely gets used. Also, every single bass guitar amplifier that has been on stage when I was the soundman had a balanced direct output right with xlr connector right there on the amp. I still use this for practice at home.',\n",
       " \"I've been swapping back and forth between Evans and Remo for a while, but after really liking the emad kick head I decided to lean more toward Evans just for consistency in my setup.I consulted with an online forum to find which would be the closest 'compatible' drumhead to what I really liked from Remo on the Evans line, and I was led to the G2 series. (from Remo's Emperor series-- both being 2 plies of 7mm free floating film)Honestly, I think I'm going to stick with Evans from now on though!I ordered my pack shortly after the announcement of the 'level 360' sizing, and I wanted to give them a try. My fears of getting some old stock were unfounded and the set that I got was new enough to be L360 sized.I got them on, and the tuning seemed to be pretty easy. I use a drum dial to ballpark me and start my tuning process, but it went smoothly. Not sure if it was the placebo effect, but I seemed to be able to get a little more low range on my floor tom as well-- deeper but just as resonant as an 808 kick.The coating seems to hold up better on the Evans heads as well-- Remo tends to 'flatten out' within a few hours of play, where the Evans not only lasts longer, but has a more finished feel to them.\",\n",
       " 'This strap was great I was glad to find this well made wide strap. This Bass strap spreads the weight more even and reduces the shoulder and back pain,he loves it. Just the job.',\n",
       " 'I bought the .73 mm picks & I would consider them medium thickness. If you like lighter get the smaller thickness or if you like heavy go for the larger thickness. The .73 mm is right for me, I really like them.',\n",
       " \"Just finished setting it up. Works perfect. Stout, stable, and even looks good. It's holding a Gibson Les Paul, so it has to be trustworthy! Great price. Wayne\",\n",
       " \"These headphones are wonderful to wear.  They sound great.  But that's not enough now a days.  With the head band being connected to the outside of the muff, they fit your head so wide.  The pioneer hdj 2000 has the look.  Read my review on those though.  They are terrible.At first glance these things are serious pro grade, they are made of very durable components. Both ears swivel and they fit snug to the head. The head band isn't bad, it's a plastic material i notice that when i stretch it to see how flexible it is the pad on the top of the head starts to come unglued. Not really a big concern though. They have a long cord, and I'll talk more about it later. It ends with a spin on 1/4 in or a standard 3.5mm.The sound out of these things is pristine. It's not muddy and very clear. They have a good amount of bass.  Because of the over ear style they drown a lot of background noise out and they also don't leak noise like a lot of headphones do.Pros- Heavy duty- Awesome sound- Comfortable headband- Over ear design- Not worried about breaking when i through them in my bag- Always clear, never muddy, even at high volumes- Very clear left and right ear markings- Spin on 1/4 PlugCons- Heavy coil cord- Heavy (weight never got annoying though)- Looks\",\n",
       " \"Personally I just love the D'Addario strings. They sute my needs just right for the Takamine acoustic. Great quality and price.\",\n",
       " 'I\\'ll try to review the strings and not the instrument but that\\'s kinda hard for me to do. I\\'ve been playing guitar since my Dad bought me a $7.00, unknown acoustic 46 years ago. That should make me about 58. He put some brand new humpty duty Black Diamond strings on it which pulled the neck up to where the strings sat around 6\" off the fretboard. Well, they weren\\'t very close anyway. The neck had no way to adjust it so imagine learning to play using heavy gauge Black Diamond strings a ways from the fretboard. I didn\\'t know any better so I thought it was normal for the blood dripping off my bent crooked fingertips.Since then I\\'ve been through a multitude of guitars and strings. I always wanted a Les Paul but my playing never improved enough to justify $2000.00 - $4000.00. I started reading reviews on the Epiphone Les Paul 100 for $249.00 and they were running from 4.5 - 5 stars. I finally, after much self convincing, bought the ebony through Amazon. I\\'ve owned Strats, Telecasters, cheapies, an Alvarez I think. I unpacked it out of the box, did a little tuning and this is absolutely, the most beautiful, sweetest thing I\\'ve ever held in my life, (except for the little lady of course). No kidding, I recommend this guitar to anyone even if it cost a couple of grand.Strings: The ones that came on there sounded great. I didn\\'t put it down for a couple of weeks. Sounds great in the bathroom, good acoustics. I finally got the best out of that set of strings. I always use Ernie Ball on everything. They\\'ve got a wrench to fit every nut in the house. I saw some Hybrids on Amazon and had never heard of them. I bought a pack of them along with some Super Slinkys, Regular Slinkys, Earthwood Silk & Steels. I put the Hybrids on the new Les Paul. They made it sound even better than it was. Chuck Barry, The Ventures, Clapton, set the LP and Fender amp right and the sound is just as good. The lower strings have a wonderful rich tone, they\\'re fairly heavy but easy on the fingers. The high strings will talk to you. I can bend the g-string easier than a Super Slinky. This is the only guitar I\\'ve used them on but they sound great. I imagine I\\'ll stick with them for this machine from now on. Of course Amazon is always 5 stars in my book.']"
      ]
     },
     "execution_count": 70,
     "metadata": {},
     "output_type": "execute_result"
    }
   ],
   "source": [
    "pos_list[:10]"
   ]
  },
  {
   "cell_type": "code",
   "execution_count": 71,
   "metadata": {},
   "outputs": [],
   "source": [
    "#converting the each character into lower case"
   ]
  },
  {
   "cell_type": "code",
   "execution_count": 72,
   "metadata": {},
   "outputs": [],
   "source": [
    "pos_list_lowered = [word.lower() for word in pos_list]\n",
    "neg_list_lowered = [word.lower() for word in neg_list]"
   ]
  },
  {
   "cell_type": "code",
   "execution_count": 73,
   "metadata": {
    "scrolled": true
   },
   "outputs": [
    {
     "data": {
      "text/plain": [
       "['this is your basic, black electric guitar cable but it works great.  so far the connections at both ends are solid and the sound from the amp is great!  nice and rubbery and 10 feet is long enough.  if problems arise later with this cable, i will update this review, but as of now there has been no problems whatsoever with this cable.']"
      ]
     },
     "execution_count": 73,
     "metadata": {},
     "output_type": "execute_result"
    }
   ],
   "source": [
    "pos_list_lowered[:1]"
   ]
  },
  {
   "cell_type": "code",
   "execution_count": 74,
   "metadata": {},
   "outputs": [],
   "source": [
    "#We are now joining the entire positive sentences and -ve sents into 2 seperates"
   ]
  },
  {
   "cell_type": "code",
   "execution_count": 75,
   "metadata": {},
   "outputs": [],
   "source": [
    "# using list comprehension \n",
    "pos_list_to_string = ' '.join([str(elem) for elem in pos_list_lowered]) \n",
    "neg_list_to_string = ' '.join([str(elem) for elem in neg_list_lowered])"
   ]
  },
  {
   "cell_type": "code",
   "execution_count": 76,
   "metadata": {
    "scrolled": true
   },
   "outputs": [
    {
     "data": {
      "text/plain": [
       "'this is your basic, black electric guitar cable but it works great.  so far the connections at both ends are solid and the sound from the amp is great!  nice and rubbery and 10 feet is long enough.  if problems arise later with this cable, i will update this review, but as of now there has been no problems whatsoever with this cable. i use this music stand for my acoustic bass and electric bass these instruments are quite large and it secures the very well and they are very easily accessed  . i also use it for my acoustic tenor guitar which is on the other end of the scale in size and it works beautifully for it, breaks down to a reasonable size for transport. i used this for a while, but now i have the behringer 8ch rack mount and this rarely gets used. also, every single bass guitar amplifier that has been on stage when i was the soundman had a balanced direct output right with xlr connector right there on the amp. i still use this for practice at home. i\\'ve been swapping back and forth between evans and remo for a while, but after really liking the emad kick head i decided to lean more toward evans just for consistency in my setup.i consulted with an online forum to find which would be the closest \\'compatible\\' drumhead to what i really liked from remo on the evans line, and i was led to the g2 series. (from remo\\'s emperor series-- both being 2 plies of 7mm free floating film)honestly, i think i\\'m going to stick with evans from now on though!i ordered my pack shortly after the announcement of the \\'level 360\\' sizing, and i wanted to give them a try. my fears of getting some old stock were unfounded and the set that i got was new enough to be l360 sized.i got them on, and the tuning seemed to be pretty easy. i use a drum dial to ballpark me and start my tuning process, but it went smoothly. not sure if it was the placebo effect, but i seemed to be able to get a little more low range on my floor tom as well-- deeper but just as resonant as an 808 kick.the coating seems to hold up better on the evans heads as well-- remo tends to \\'flatten out\\' within a few hours of play, where the evans not only lasts longer, but has a more finished feel to them. this strap was great i was glad to find this well made wide strap. this bass strap spreads the weight more even and reduces the shoulder and back pain,he loves it. just the job. i bought the .73 mm picks & i would consider them medium thickness. if you like lighter get the smaller thickness or if you like heavy go for the larger thickness. the .73 mm is right for me, i really like them. just finished setting it up. works perfect. stout, stable, and even looks good. it\\'s holding a gibson les paul, so it has to be trustworthy! great price. wayne these headphones are wonderful to wear.  they sound great.  but that\\'s not enough now a days.  with the head band being connected to the outside of the muff, they fit your head so wide.  the pioneer hdj 2000 has the look.  read my review on those though.  they are terrible.at first glance these things are serious pro grade, they are made of very durable components. both ears swivel and they fit snug to the head. the head band isn\\'t bad, it\\'s a plastic material i notice that when i stretch it to see how flexible it is the pad on the top of the head starts to come unglued. not really a big concern though. they have a long cord, and i\\'ll talk more about it later. it ends with a spin on 1/4 in or a standard 3.5mm.the sound out of these things is pristine. it\\'s not muddy and very clear. they have a good amount of bass.  because of the over ear style they drown a lot of background noise out and they also don\\'t leak noise like a lot of headphones do.pros- heavy duty- awesome sound- comfortable headband- over ear design- not worried about breaking when i through them in my bag- always clear, never muddy, even at high volumes- very clear left and right ear markings- spin on 1/4 plugcons- heavy coil cord- heavy (weight never got annoying though)- looks personally i just love the d\\'addario strings. they sute my needs just right for the takamine acoustic. great quality and price. i\\'ll try to review the strings and not the instrument but that\\'s kinda hard for me to do. i\\'ve been playing guitar since my dad bought me a $7.00, unknown acoustic 46 years ago. that should make me about 58. he put some brand new humpty duty black diamond strings on it which pulled the neck up to where the strings sat around 6\" off the fretboard. well, they weren\\'t very close anyway. the neck had no way to adjust it so imagine learning to play using heavy gauge black diamond strings a ways from the fretboard. i didn\\'t know any better so i thought it was normal for the blood dripping off my bent crooked fingertips.since then i\\'ve been through a multitude of guitars and strings. i always wanted a les paul but my playing never improved enough to justify $2000.00 - $4000.00. i started reading reviews on the epiphone les paul 100 for $249.00 and they were running from 4.5 - 5 stars. i finally, after much self convincing, bought the ebony through amazon. i\\'ve owned strats, telecasters, cheapies, an alvarez i think. i unpacked it out of the box, did a little tuning and this is absolutely, the most beautiful, sweetest thing i\\'ve ever held in my life, (except for the little lady of course). no kidding, i recommend this guitar to anyone even if it cost a couple of grand.strings: the ones that came on there sounded great. i didn\\'t put it down for a couple of weeks. sounds great in the bathroom, good acoustics. i finally got the best out of that set of strings. i always use ernie ball on everything. they\\'ve got a wrench to fit every nut in the house. i saw some hybrids on amazon and had never heard of them. i bought a pack of them along with some super slinkys, regular slinkys, earthwood silk & steels. i put the hybrids on the new les paul. they made it sound even better than it was. chuck barry, the ventures, clapton, set the lp and fender amp right and the sound is just as good. the lower strings have a wonderful rich tone, they\\'re fairly heavy but easy on the fingers. the high strings will talk to you. i can bend the g-string easier than a super slinky. this is the only guitar i\\'ve used them on but they sound great. i imagine i\\'ll stick with them for this machine from now on. of course amazon is always 5 stars in my book. this converts an xlr signal (for me, a shure sm57 mic) into a 1/4 male (i run it into a guitar pedalboard and then an amp).  have no issues with performance but the converter is a little bulky especially once you clip a mic onto that.  could be tight fitting into certain places on a pedalboard but works great overall. okay, so... it\\'s small, easy to dial in a good sound, very inexpensive, made here in the us, and has a wonderful transparency to it.add to that the different ways to configure it (by using the internal dip switches), and you have a compressor as flexible as any i\\'ve used for guitar at half or less of many cost (which sound, imho, no better).it stacks well with the ep booster and another comp/boost in the chain, too.whether you want to drive your amp a little harder or just squash your signal, this product is impossible to beat.i totally adore it. does as described and really enhances your tone. good breadth of tonal variations available. only negative, and it\\'s not huge, is that it can get a little noisy when the presence is increased beyond half. i was using a bass with two single coils which makes noise more of a challenge to begin with. great product. accurate, small, functional, inexpensive, better battery life to previous generations, very good quality, adapts easily to any type of guitar heads. seem to work well. keep the ground switch selected, and it will do just fine. i have used different direct boxes and i recommend this one. i keep all my guitars in my room and i had to many stands cluttering it up. the screws they sent with were plenty long enough and all three that i got are holding guitars to the wall, on drywall nonetheless. so given that if you have a wood wall you should have no problem. they all are sturdy enough, and i have always been suspect of wall hangers. best deal and does the job. small... very small and sits right behind the headstock and very easy to see and read. it is very accurate.  what else can i say except that this is a really great idea and it works!!! if you hate fuzzy distortion then you will love this pedal i had a boss ds 1 and metal zone mt 2 and did not like them much because they\\'re so fizzy they are ok but this pedal sonically sounds so much better to me. it does plexi tones very well on lower gain settings and full on marshall crunch on higher settings if that is what you\\'re looking for then this is for you. it offers rugged construction and true bypass. the only problem i have had is that unity gain is at around 9 o clock this pedal is hot and has lots of head room props to joyo for this mi crunch box clone. this was a gift for a friend who is a fan of the beatles. he was very happy with his gift. very good item if you are a musician you need it! cool for any bass, guitar and any instrument that fit into the hanger im using this with five pedals and it works great. no added noise, no signal loss, and saves the cost and hassle of constantly replacing 9v batteries.comes with a nice assortment of adapters for use with just about any brand of pedal out there.probably not the most durable power supply available, but for the price, it cant be beat. i use this one a lot, its light weight and sturdy. it would be nice to have a counter weight for the long reaches, but can work around that detail. its well made if you\\'re looking for a really durable stand, this is a good one for the desk. it just inconvenient that amazon does list the product detail on the size of the screw head on top. make sure your mic holder fits... fine strings that i have been using for a very long time of my electric guitars. you can get some really nice sound out of these super slinky strings. i really like this stand. it has a nice wide leg base and well padded neck and body holders. it is a nice solid tubuler style guitar stand and either my electric or acoustic guiter fits well in it. i highly recommend it to anyone looking a stand for their guitars. i just finished installing 12 of these and couldn\\'t be any happier with the product.  it is a sturdily built product with everything you need for installation.  i didn\\'t think this was possible, but i actually found a product made in the usa !!!  i will definitely buy more of these as my guitar collection grows.i did not have the mis-matching color issue that others commented on - all i did was contact the seller (in my case brook mays music) and ask if it was at all possible for them to closely match these since all 12 are going on the same wall.  they were extrememly responsive, even sending two emails concerning my request (basically saying they would do their best - but no promises).  well, brook mays came through for me & i received (very quickly i might add) 12 of these that matched perfectly !!!  i will definitely go out of my way to use this seller again.another great experience purchasing items through the amazon site !!! i just bought a tweed blues jr. and love the amp. it\\'s got a great tone, much better than the black one i had 3-4 yrs. ago. i just downsized from a 40 watt blues deluxe reissue and having compared them side by side i can say they sound very, very similar, as they have the same speaker, but the bj is much lighter.that being said the fat switch really makes a lot of difference when taking a solo. i was actually surprised at how much it fattens up the tone, didn\\'t do that on my last one. this pedal works great for that too, it feels very solid and it doesn\\'t make any audible clicking noises that i can hear when engaging it. what makes it better is that it is a kit with most of what you need to power up to 8 pedals.  it comes with various adapters and even has rubber caps to cap of the power outlets you arent using! powers pedals that have negative tip -like boss, maxon, ibanez, etc, etc.  even has one reverse adapter for an oddball positive tip pedal!  also adatper to connect your battery only pedal by connecting to the battery clip!!!one of the best features is that the power plugs are at right angles so they don\\'t stick straight out on pedals that have side jacks...takes up less room on your pedal board.  also the 8 plugs stretch further out than most other daisy chain cables.the other great feature is the power capacity is greater than boss..it can put out up to 1700ma...which is how it can run up to 8 pedals.a great item at a great price. no brainer solution for anyone with a few pedals or more. it\\'s really hard to beat this product for the price.  i found it sturdy, well built, and a great fit for my guitar.  i really appreciate the low, wide stance, which is great insurance against accident prone guitar players such as myself! i have one of these on my guitar and one on my ukulele. i can\\'t imagine life without this pick holder -- before i was always losing picks and then i had to strum with my fingers which i don\\'t like doing. get one of these if you play with a pick! second time buying the 6 pack - great deal for the price. i love having the colored cables makes set up so easy. i also like the xlr connectors on these, haven\\'t had one go bad yet. i have another headstock tuner that i\\'ve had for awhile.  this planet waves pw is about the half the size and works just as well.  the clamp that holds the tuner to the headstock is a little flaky, but the tuner works like a champ.  nicely backlite for those low lighting conditions.  compared to my other tuner, it\\'s rigt on the money.  the other plus is that since it small and my guitar case has a little wiggle room, i don\\'t have to take the tuner off. the only strings i get are ernie ball strings. really reliable, great sound, got no complaints here really. ernie ball knows how to do strings this a great instrument cable. if all you have ever used have been rubber covered try this one. the fabric cover eliminates the knots and twists of &#34;regular&#34; cables. great strings. i use these on a deering goodtime ii and they work well. deering recommends (as i imagine most entry level banjo manufacturers) sticking with only the light gauge, not light pluses or mediums. so stock up. good strings, and not overly prone to corrosion. slips right under the guitar strings and does not impede your guitar playing in any way. a very good design. excellent simple product. fits all of my guitars and stays out the way while playing. easily holds 2 picks at at time on each end. has grooves on ends and one can slide it down so that at least 2 strings fit into the grooves. this is a good product. its not the best strap but, for what i paid for it, its well worth it. ive had it for about a month and so far it seems to be holding up very well. this is a great product for a beginer. almost dropped my bass on the floor a couple days before i got these bad boys. when i put them on i felt confident that i wouldn\\'t have that issue anymore. it\\'s easier to strap up because of the quick release tab. this should be every bassist/guitarist\\'s best friend. as a musician i wanted both a pa and an instrument amp, but i also wanted extra inputs and outputs. this has it all. whether you want to output to a pa or from a pa...... to your guitar amp or from it.....and even play your mp3 player while you play and sing. if you need more inputs, then just output a mixer to it. the tone controls are nice and the bass you can get is quite amazing for a 5.5\" speaker. link to a bass amp or sub-woofer and you definitely have full sound. certainly loud enough for a 1-man-band gig and definitely enough to supply an outdoor party with some music. i know it\\'s a copy of other speaker/amps... but its a behringer. i think it\\'s a wonderful and adequate must-have for any musician. it is very easy to apply, great results and very little effort. i\\'m surprised by the results. never got this shine in my guitar with any other product. i wanted something to keep my guitars from falling after i change guitars. i bought this because it looked pretty good and it was cheap. it has served it\\'s purpose and i use it nearly everyday. very happy with purchase! i use this for my home recording studio. this stand is versatile enough to be used at almost any angle. from playing and singing piano, recording guitar and vocals, and other various positions. sometimes hard to keep the mic firmly in place but that may be a function of my shock mount.cheap and highly recommended. this works very good on a silver flute.  it\\'s soft and will go along time before you feel like you have to launder it.  would purchase again. great set of strings. cant go wrong with elixirs a little over priced but i am hoping to get long life out of them to make up for it. i got 2 of these for grandkids.  they are all right.  i felt as if the uke was well worth the low price.  like any uke, strings take a long time to set --- sometimes feels as if they never will.  probably would be improved with a set of aguilas.  buy a clipon tuner, too.  snarf makes a great one that has both the vibration-sensing mode and a microphone, can be set for various instruments or chromatic, and has a metronome function --- and they are so inexpensive! not an expert at string picking by any means, but they do what i need them to do just fine. my favorite strings for about 3 years now, i like the feel and the sound of this set. i use this strings with an ibanez rg custom with dimarzios. love it. these do definitely have more output. i really don\\'t know what else to say about them. it\\'s all about personal preference so... but if you like earnie ball non cobalt you will probably like these too. oh, one thing i can say is that harmonic squeals and harmonics in general are better defined and sustain longer with these. this cup holder clamps on easily and really holds your drink so you dont have to worry about it. the insert part is made out of thick material so it will smash down when you pack it up. you dont really notice the name on both sides at gigs, just a cold beer in front of you thats always in the same place! i love it. this cable is extra heavy, not like the cheaper ones.  the plugs are of excellent quality also.  the sound that transfers through this cable is remarkably improved over my old cable.  i urge you to purchase if you are looking...you won\\'t be disappointed. btw, i am a verified purchaser, just can\\'t say enough good about this cable...i\\'m really impressed! i\\'ve bought quite a few tuners over the years. these are small, responsive, easy to read, and the fact that they work on vibration means they can be used in a loud setting without interference. these are great!!at first i was turned off by the \\'toyish\\' appearance, but decided to try it after reading the reviews. let me say that in person they look nicer than in the pics, and they perform way better than i expected. this mute allows me to practice without annoying my family and does not harm the violin. it seems well made. actually they\\'re not fender, they are schaller, but that is really good!. looks great in my fender squier. highly recommended! i had the sn1 guitar tuner, this one the sn2 is actually for all instruments if i\\'m not mistaken and it works great. never fails. i love the red, the swivel head, the green.red lights when tuning. just remember to take it off the headstock when youre done using it i\\'m no audiophile but this thing is just as good as my bbe green screamer. it\\'s perfect and i would suggest getting one before the cost goes up. great strings, and they last well! i\\'ve never had a problem with these and i\\'m glad i can get them on here for a decent price. this nylon pick has great play feel.  it is stiff enough to pick individual strings and still feels comfortable stumming chords. an opinion on guitar strings is fairly subjective.  with that said, i\\'ve been stringing my jackson soloist w/ floyd rose with these strings for years.  i\\'ve never had a problem, and i wouldn\\'t buy anything else. strong metal construed.legs open to set up easy. easy to set mic slides in or out up or down.peaces stay tight. i use this pedalwith my acoustic guitar and it just sounds great, for the price and quality sound i can not get a better deal.behringer pedals and joyo pedals are definitely the best for the price and quality.thank u guys. this is not my first guitar. nor am i breathless epiphone supporter shouting how this guitar is the sonic equal of taylors and martins. it\\'s not. here\\'s what it is: an exceedingly well-constucted, amazingly playable guitar. fit, finish, feel and action were all very nice... sound on the other hand? let\\'s face it. it\\'s plywood all around. it sounds like plywood. but that doesn\\'t distract from the fact that it\\'s a great guitar for $100 bucks.it\\'s a fine &#34;first&#34; guitar. it\\'s a great beach/camping/cabin guitar. leave it in your car to practice at lunch. leave it in the office. any guitar is better than no guitar... and this guitar is better than a lot of other entry level guitars.seriously consider changing strings the second you take it out of the box... new, premium strings do make a difference.if your expectations are for a playable, rugged, affordable guitar you won\\'t be disappointed. if sound quality is your primary concern, well... you are going to have to spend more than a hundred bucks to be happy.for my desired application, this guitar was great... i\\'m very happy with it and would buy it again in a heartbeat. germany company, manufacturing is in china... i have always found this to make the product hit or miss but the last two behringer products that are in my hands are very good. it\\'s well made. not much else you can say about it. buy it. it is worth it. packaged very well. for players that want a high quality guitar strap that weighs almost nothing, last forever, stays in place, and has classic good looks there is not a better strap than levy\\'s natural leather, suede strap (without the piping and stiched edge). the dying of the suede side is deep and flawless and the strap is a quality piece of hide without bulk or unnecessary weight from padding.  feels great to the touch and you quickly forget that its even touching your shoulder. it can be a little bit of a chore to get strap locks on, but once on i have never had any worries or failures so that my guitars are nick and ding free. plenty of color choices.  this is a simple, elegant strap that inspires envy.  planet wave has a nice strap that is the only one i\\'ve seen (and owned) that even comes close, but  there is no other suede strap that is even in the same ball park as the levy ms26.  i own 4 and they are admired by everyone who sees them and slips them over their shoulder.  it could cause you to reconsider use of shoulder straps... it did for me. i have a bunch of instruments (synths, back up recordings, ...) plugged straight into my bass amp for home recording/practice.. having this one helps reducing the amount of cabling hanging everywhere. it works fine. it is lightweight and feels sturdy.only drawback: i tried getting straight into it with my musicman active bass, and the preamps saturated in low frequencies. input has to be kept within a small range. i have played guitar for most of 40 years and have used about any type of plectrum made. i have used coins and washers at times.my favorite pick for years was a fender heavy and then i went for the really heavy brands like dunlop or clayton but found they are way too heavy and were eating my tone. i went back to fenders and then found i like the medium best.fender makes these in the coolest colors now so i went with them. price them at a store and you will come back here.these came from go-dps which is no big deal as i shop on amz enough to know they use secondary sellers a lot of the time.however, i ordered a lot of stuff the day i ordered these and the full exhaust system was in my house 5 days later. these didn\\'t show up so i contacted amz which goes back to go-dps. it took nearly a month to receive an envelope containing 12 picks. it didn\\'t kill me not to have them - i have a million picks, i just wanted to see these in my hand.that said, i will definitely buy these again in the future and go for the different colors.great price, great picks. until 5-6 years ago there was a virtual void in high-quality personal digital recorders.  then the zoom h2 came along, and numerous variations on a theme were soon to follow.  i\\'ve owned both the h2 and the h1 and, though both have their strong points, the tascam dr-05 has served me better than either. the h2 has pleasing 4-point sound and the h1, at half the size of the tascam, works well for \"stealth\" as well as video recordings when mounted on a camera.  but both recorders are more complicated than necessary, with tricky menu systems, excessive tiny buttons (6 on one thin side of the h1), and dicey build quality.the tascam addresses these shortcomings with a machine that\\'s a pleasure to use.  there are no shaky, rattling parts, the controls are solid and instantly solved (easily manageable with a single thumb), and the wide-spread mic pattern is ideal for most stereo recordings of music (for dictation, i use a separate, small mic inserted in the topside input).  the machine reminds me of the far costlier sony pcm-50 in terms of ease and convenience of operation. the tascam\\'s 320 kbps mp3 recordings of a grand piano strike my ears as no less authentic and sonically \"present\" than its 96/24 wav files, and tweaking is held to the absolute minimum.  if you don\\'t have $500 to spend and are looking for a woodshedding companion for day-in, day-out use, this is the one. i don\\'t put these on every guitar but on the right guitar they are perfect.  what\\'s the right guitar?  longer scales- like a strat.  i would not put these on a shorter scale (22\") because it would get too flubby.  if you hit the power chords hard you may also want to stear clear-  these require a bit more subtlety in your attack or you will vibrate in and out of tune on the low e when you are pulling off windmills like townshend.  they do allow super  easy string bends for when i feel lazy or for when my fingers are torn up from playing.  ymmv. product does what you would think. i use it on my bass and haven\\'t had a problem with it yet. if you are constantly playing shows, this may not be your first choice, but if you just need something to hold your guitar or bass up, then this is it. you can\\'t beat the price. this little guy worked just as advertised. it\\'s a tremendous tuner for gigging or practice when you forget your tuner or dont\\' feel like bringing it. it won\\'t work the best for getting intonation right, but it hits regular tuning perfectly. super easy to use and a must-have for anybody who gigs out. after trying to rig something up, i decided to just go with this mount for my yeti. it did not disappoint: the fit was perfect, install was easy (use your logic), and the microphone looks sexy as hell on it. as soon as put it on my guitar, i enjoyed the way it got the job done. my first concern was, will this damage my guitar? the answer is no. it is user friendly and guitar friendly. the price is so low, you should own at least one. no problems. just music. at the most competitive price available. this is a very useful item, easy to build and setup, easy to use. i don\\'t have any problem with this stand at all.and all of those people who have problems with the arms that move when you touch them, that is part of the design. it should not be a problem to you, or your guitar.thanks, austin garcia based on other reviews, i made my purchase. this is a great unit, it sounds good and loud enough.two downsides, both are about the noise.1. i live on the 4th floor. as long as i turn the volume up, it acts like a radio.. i mean very loud radio background and i couldn\\'t get ride of it. this is the only thing that annoys me, but i think it depends on where people live.2. when this is not properly tuned, it sounds strange and makes a lot of noise. (other than the radio part.)none of these are major issues, as a mini amp you can\\'t really expect that much, not to mention it\\'s not expensive at all. overall i like it and i would recommend it.by the way, this unit comes with a 9v battery. i love these strings. i\\'m a novice and have been using the strings that came with base which were roundwound strings. i don\\'t like the sound my fingers make when moving between notes. with these flats, the sound is gone. what more, the sound of these strings is a lot more bold and has some awesome tone. it\\'s easy to tell what strings are for notes, but just in case you have a hard time telling thickness for some reason, they are color coded to help with that. i can\\'t speak out about other types of strings, but i love these over roundwounds in both how they play and the sound. i will experiment with other flats over time, but i am very happy with these. works amazingly well, is very precise, and easy to handle. i have seen other devices that would get confused about frequencies and jump back and forth between different notes. not so this one. it is a great, reliable tuner. i have too many guitars and don\\'t play them all so instead of buying an extra case or stand i figured i could use some wall decoration.  this works perfectly and is easily installed with two screws.  definitely recommend. very easy to get the guitar into and seems to protect the instrument very well.  exactly as described in the ad. no sign of wear and tear. and the holes are really tight, minimizing the likelihood of the guitar breaking free occasionally (it never once came undone in all these months, not sth you can say about all guitar straps) on stage xcg4 tubular guitar stand with velveteen padding and security is very helpful tool for any guitarist.i got a lot of them for my guitar collection and have no complain.recommend it. i keep ordering more of these picks.  i love the rubber grip and the mediums are just the right thickness for me.  great product! i got it to have it if i needed it. i have found that i don\\'t really need it that often and rarely use it. if i was really good i can see the need. but this is a keyboard not an organ. these are the best strings i\\'ve ever put on my guitar, i play a really nice morgan monroe creekside and these strings give it the fullness it deserves. the bright highs, the rich mids, and they bend like crazy when i need them too after 35 years of buying stands all i can say is that i should have invented it myself. i have many expensive guitars and i wouldn\\'t use a inexpensive stand before i found this design. so if you\\'re shopping and wonder if it\\'s really good, you can trust me, because i\\'m way over qualified to pass judgement on this and i care about guitars and about amazon shoppers. i was taking lessons from a very qualified instructor and he mentioned that i need a humidifier for my guitar. at first i was not sure what i was looking for. i found the product without too much difficulty. i had learned from my instructor that these are small, placed on the hole of the guitar, and was definitely needed to keep the guitar in good playing condition. i started looking through the computer pages and settled on the herco guitar humidifier because of the recommendations of thew product. now i feel i made a wise choice and will be able to keep my quitar playing good vibrations, and good music! for the price and free shipping, this can\\'t be beat. it\\'s heavy weight, solid construction, and very stable. pay attention to the warnings. if your guitar has polypropylene finish, which most do, you\\'re going to be fine. if you have a very high end guitar, this might not work. i bought this one to replace a shure 8900. it\\'s a big step up from that one. i am pleased with it. the old one had a lot of handling noise. this one has a little but it is very good for the money i paid for it. my next one will be an sm58, but that will be awhile from now. i\\'m very happy with this pg58.update:december 2012the handling noise is definitely something to consider. it would keep me from buying another one of these. other mics i own don\\'t have this problem to this degree. this thing is like a magic spray! hah!seriously... i used this on noisy hinges, car doors, etc.i really bought it to clean the pots (volume controls and knobs) on my guitars, pedals and equipment. it really does work and gets rid of the static noise you get when you turn your volume control on your radio or guitar for example. too much noise with one spot. this was way better.lot of feature.outlets 1&#8211;3 can all be used to power either 9v or 12v pedals. for each outlet, just use the voltage selector switches to choose the voltage you need, plug in your pedal and go!outlet 4 works the same way and gives you a similar choice &#8211; except that it&#8217;s between 9v and 18v.outlets 5 and 6 may only be used one at a time. if you use them both at the same time, you might get some noise. like outlets 1&#8211;3, outlet 5 gives you a choice between 9v and 12v. outlet 6 is a 12v ac outlet for pedals that require ac power.6 isolated outputs delivering 300ma each (centre pin is negative) ac output at connector 6. will power all pedals.most of my pedals are 20 to 30 ma. so potentially i could have 40 plus pedals in a chain. awesomeall the cables you needlike all t-rex fuel tank power supplies, your new chameleon comes with a full set of cables to help you keep your board clutter-free. once you&#8217;ve selected your voltage options, just plug in and play!excellent!don\\'t even think about it.just get it.highly recommend it really great sounding harmonica. beautiful sound and very well made! very happy with this product and the price is incredible! i have a very nice pedal board for my guitar rig, but not enough power for 13 pedals.  this totally solved the problem with no noise or power issues.  very smart idea and well thought out for anyone needing a one stop solution for dc distribution.  a+! 4 stars instead of 5 only because this thing won\\'t tune your guitar or carry your amp. i use this solo, in a duo with a bass player, in a trio with drums and bass. i have a regular gig at a medium sized club that is basically one large room. i use it through a pyle pro self contained pa into which i also plug my martin grp elec/acoustic. the sound quality is excellent. the volume seems limited only bny what the pyle pro will put out. i would have no hesitation using this for bigger rooms with a full band and pa. i haven\\'t heard a hint of feedback and the on/off switch is a plus.the 36.99 price might seem to good to be true but think of the things for which we are paying less for than we used to. i bought a 32&#34; toshiba flat screen for around 230 bucks, think of what that would have cost even five years ago or less. the same is true of a lot of audio gear. a lot of companies are bringing high quality elctronics and music to the market but it\\'s great to have a company like shure make something so good and so affordable. they have always made a high quality product and now they have one that almost anyone can afford. i cannot recommend it strongly enough. with musical instruments standing about on my office floor, i determined to find a better way to keep them available, and so i decided to hang them on the walls. this hanger was very easy to install. it comes with screws and anchors so that it can be attached to drywall itself, or through drywall and into wall studs. i used the pre-drilled holes as a template to mark my wall and the hanger went in easily. but a word of warning: use a level to align the hanger to a vertical position on your wall. if you don\\'t, your guitar will hang a bit cock-eyed. good quality, seem durable enough. sure there are better cables out there, but for the price, these are hard to beat. my new go-to strings. these things last forever for someone who only plays casually. they sound great too. absolutely recommend it. i have gotten comments on how cool it looks, i\\'m finding that i prefer a thicker strap, but this strap works perfectly it does the job to do my home made music demos, nothing professional though. im happy with it after all and recommend but not for professional purposes. the design of this product is innovative and excellent.  i haven\\'t used it for as long as i would generally like before writing amazon reviews of purchased items, and so cannot testify to its reliability, but suffice to say that, for the price, it would be hard to beat.the display is very clear, and the ability to clip to your headstock while tuning is marvelous.  i wonder how i ever lived without it before.for live gigs playing electric, i would prefer a floor tuner running through a pedal board with a patch cable, as noisy environments probably wouldn\\'t be ideal for this tuner.  this is more for your parlor acoustic setup. i have never been much of a fan for coated strings. i normally use daddario ej 16\\'s but i do like these elixirs, after about 4 weeks of playing they are starting to fade, not stay in tune and i notice fuzz on the wound strings at the sound hole. they do feel nice to the touch and a nice tone but pretty expensive for four week turnaround works perfectly for both my martin dreadnought and my fender stratocaster.  solid unit, good material and construction, though it is made in china apparently--but hey thats why its such a bargain! i previously had the uca-202 and it worked great for me for a couple of years but i noticed the audio went dead in one of the rca phono input jacks (i had used those jacks previously with no issues). regardless, i liked the uca-202 so much that i got the uca222 to replace it without hesitation, plus as a bonus, it\\'s purdier! :)  plugged it in just now, fired up the pc, the new uca222 started working immediately...no muss, no fuss!  for the money, i don\\'t think you can find a better deal for enhancing your pc\\'s audio versatility.  i don\\'t know if i\\'ll even bother with the included software as i use a great program called mixcraft (btw, check that out if you\\'re looking for pc recording simplicity but sounds impressive as the other, costlier guys). anyway, two thumbs way up for the uca222! its perfectly done but it seems its not fitting squire fender guitar in terms of e-to-e string spacing, the low e string out of range and not fit in the hole :( i\\'ve been playing the guitar since the 1960\\'s, so i\\'ve gone through plenty of guitar stands.  always found the hanging-type to be the safest & most secure.  for a long time i was using the hamilton chrome hanging stand.  when i first saw these being used by all the guitar players at the church i attend (christ community church, st charles, il), i decided to give them a look.  the build quality is very good and all the sections that come in contact with the guitar (electric or acoustic) are padded with a foam material to prevent scratching/ denting.  it offers a very solid support and i feel safe putting my guitar on it.  this is the only type of stand i prefer to use.  i do wish it wasn\\'t made in china, too much of our money goes to that country (just my opinion).  the bottom line is that i am very happy with this stand and would recommend it to any guitar player who wants a sturdy, well built stand that keeps the guitar safe and should last for ever. this is a great pedal to have in your setup, for those times you want a clean sound that will cut through the mix, yet will not just sound blaringly loud and undefined. i used a boss compression pedal for many years, and the dyna comp was definitely a refreshing step in the right direction. it just sounds more organic, and less sterile than the boss pedal. i also think in this case, less is more, as far as the controls are concerned. great bag, well padded the shoulder strap is nice! perfect! and very good price!what you would come to expect from lanikai! this is a very well built stand, even with its slim design, which also comes with a nice carrying case. very good for light, portable set ups. also holds a big mic, if you position the legs right; completely open with the mic parallel to a leg. that said, do it wrong and plunk. will not likely stand up to a gusty wind, so use it indoors only. paid $7.99 for it. would give it 5 stars, but i know user error, will cause a less careful person, to crash some mics. good for kick drum and cab mics, by the way, anchor it down with a sand bag, if using it for this purpose. these are really great bang for the buck, however, like many people said, they do not work well for all my pedals, round ends don\\'t fit in everything.i mean these are cables.. works as expected. clips onto pretty much any mic stand. the movable head is awesome. for the price you cannot go wrong with this.  holds my les paul and feels secure.  i\\'ve never had any issues with this.  don\\'t bother spending 3-4x as much for something that does the job as well as this.edit - bought another one this christmas for another guitar and this one feels as good and as simple as the first one. thing works fine... easy to understand settings ..sturdy enough.. lights nice an bright. i like it..use with power supply and not batteries..works best but works well,  i have a different brand which has a string and small hook but i find when adjusted correctly i cannot remove it,,  this sling keeps the head loop large so you can get it off without a binch of hassle,, i find the hook to be wide though and could be alot better with a thinner hook. i bought this for my mandolin and was pleasantly surprised how awesome it a find this was. easy to use and handy for any string instruments.only thing i regret is not getting one sooner. it\\'s hard to find a good clip-on tuner that\\'s accurate and visible in all situations. the snark sn-8(b) is my favorite so far.  it\\'s really bright, more accurate that other snarks, and (despite other reviews saying it breaks easily) i\\'ve found it to be sturdy enough considering how flexible it is.  again, it\\'s a clip-on tuner so don\\'t expect razor-sharp accuracy.  but it does a good enough job for what it is.  it\\'s quick and convenient.  if you need something more accurate i recommend investing in a good pedal.  i\\'ve found the swivel to be a nice feature that makes it easy to see the display.  i don\\'t typically use the metronome feature, but it\\'s nice to have it.  overall, my favorite snark model and my favorite clip-on tuner. these strings are great for all sorts of playing styles. i bought a set of 9\\'s and 10\\'s and i also have some d\\'addario 11\\'s. the 9\\'s are super slinky just like the name says. they\\'re great for quick movement around the fret board. my only complaint is that they are at times too thin sounding. i play a lot of rock, and sometimes these just don\\'t pack a punch like the 10\\'s or 11\\'s do. all in all though, these are great strings, and i will definitely continue to buy ernie ball, i\\'ll probably opt for 10\\'s or 11\\'s though. this was the first pedal i ever bought when i started playing guitar 15 years ago.  it\\'s still in my primary set up!  the sound it puts out is very balanced:  you can get a subtle overdrive-like sound out of it, or a high-gain hard rock/80\\'s metal sound out of it.  for those looking for insane crunch, this isn\\'t for you.  anyone that wants a nice, versatile pedal, this is the one you want!'"
      ]
     },
     "execution_count": 76,
     "metadata": {},
     "output_type": "execute_result"
    }
   ],
   "source": [
    "pos_list_to_string"
   ]
  },
  {
   "cell_type": "code",
   "execution_count": 77,
   "metadata": {},
   "outputs": [],
   "source": [
    "#from nltk.tokenize import WhitespaceTokenizer\n",
    "#from nltk.corpus import stopwords\n"
   ]
  },
  {
   "cell_type": "markdown",
   "metadata": {},
   "source": [
    "# Naive Bayes"
   ]
  },
  {
   "cell_type": "code",
   "execution_count": 78,
   "metadata": {},
   "outputs": [],
   "source": [
    "stop = set(stopwords.words('english') + list(string.punctuation))"
   ]
  },
  {
   "cell_type": "code",
   "execution_count": 79,
   "metadata": {},
   "outputs": [],
   "source": [
    "tokenizer = WhitespaceTokenizer()"
   ]
  },
  {
   "cell_type": "code",
   "execution_count": 80,
   "metadata": {},
   "outputs": [],
   "source": [
    "filtered_pos_list = [w for w in tokenizer.tokenize(pos_list_to_string) if w not in stop]\n",
    "filtered_neg_list = [w for w in tokenizer.tokenize(neg_list_to_string) if w not in stop]"
   ]
  },
  {
   "cell_type": "code",
   "execution_count": 81,
   "metadata": {
    "scrolled": true
   },
   "outputs": [
    {
     "data": {
      "text/plain": [
       "['basic,',\n",
       " 'black',\n",
       " 'electric',\n",
       " 'guitar',\n",
       " 'cable',\n",
       " 'works',\n",
       " 'great.',\n",
       " 'far',\n",
       " 'connections',\n",
       " 'ends',\n",
       " 'solid',\n",
       " 'sound',\n",
       " 'amp',\n",
       " 'great!',\n",
       " 'nice',\n",
       " 'rubbery',\n",
       " '10',\n",
       " 'feet',\n",
       " 'long',\n",
       " 'enough.',\n",
       " 'problems',\n",
       " 'arise',\n",
       " 'later',\n",
       " 'cable,',\n",
       " 'update',\n",
       " 'review,',\n",
       " 'problems',\n",
       " 'whatsoever',\n",
       " 'cable.',\n",
       " 'use']"
      ]
     },
     "execution_count": 81,
     "metadata": {},
     "output_type": "execute_result"
    }
   ],
   "source": [
    "filtered_pos_list[:30]"
   ]
  },
  {
   "cell_type": "code",
   "execution_count": 82,
   "metadata": {},
   "outputs": [],
   "source": [
    "filtered_pos_list2 = [w.strip(string.punctuation) for w in filtered_pos_list]"
   ]
  },
  {
   "cell_type": "code",
   "execution_count": 83,
   "metadata": {
    "scrolled": true
   },
   "outputs": [
    {
     "data": {
      "text/plain": [
       "['basic',\n",
       " 'black',\n",
       " 'electric',\n",
       " 'guitar',\n",
       " 'cable',\n",
       " 'works',\n",
       " 'great',\n",
       " 'far',\n",
       " 'connections',\n",
       " 'ends',\n",
       " 'solid',\n",
       " 'sound',\n",
       " 'amp',\n",
       " 'great',\n",
       " 'nice',\n",
       " 'rubbery',\n",
       " '10',\n",
       " 'feet',\n",
       " 'long',\n",
       " 'enough',\n",
       " 'problems',\n",
       " 'arise',\n",
       " 'later',\n",
       " 'cable',\n",
       " 'update',\n",
       " 'review',\n",
       " 'problems',\n",
       " 'whatsoever',\n",
       " 'cable',\n",
       " 'use']"
      ]
     },
     "execution_count": 83,
     "metadata": {},
     "output_type": "execute_result"
    }
   ],
   "source": [
    "filtered_pos_list2[:30]"
   ]
  },
  {
   "cell_type": "code",
   "execution_count": 84,
   "metadata": {},
   "outputs": [],
   "source": [
    "filtered_neg_list2 = [w.strip(string.punctuation) for w in filtered_neg_list]"
   ]
  },
  {
   "cell_type": "code",
   "execution_count": 85,
   "metadata": {},
   "outputs": [],
   "source": [
    "fd_pos = nltk.FreqDist(filtered_pos_list2)\n",
    "fd_neg = nltk.FreqDist(filtered_neg_list2)"
   ]
  },
  {
   "cell_type": "code",
   "execution_count": 86,
   "metadata": {},
   "outputs": [
    {
     "data": {
      "text/plain": [
       "FreqDist({'guitar': 70, 'great': 53, 'strings': 41, 'one': 39, 'good': 38, 'use': 36, 'well': 35, 'it': 35, 'like': 35, 'sound': 32, ...})"
      ]
     },
     "execution_count": 86,
     "metadata": {},
     "output_type": "execute_result"
    }
   ],
   "source": [
    "fd_pos"
   ]
  },
  {
   "cell_type": "code",
   "execution_count": 87,
   "metadata": {
    "scrolled": true
   },
   "outputs": [
    {
     "data": {
      "text/plain": [
       "[('guitar', 70),\n",
       " ('great', 53),\n",
       " ('strings', 41),\n",
       " ('one', 39),\n",
       " ('good', 38),\n",
       " ('use', 36),\n",
       " ('well', 35),\n",
       " ('it', 35),\n",
       " ('like', 35),\n",
       " ('sound', 32),\n",
       " ('really', 31),\n",
       " ('would', 22),\n",
       " ('works', 21),\n",
       " ('easy', 21),\n",
       " ('price', 21)]"
      ]
     },
     "execution_count": 87,
     "metadata": {},
     "output_type": "execute_result"
    }
   ],
   "source": [
    "fd_pos.most_common(15)"
   ]
  },
  {
   "cell_type": "code",
   "execution_count": 88,
   "metadata": {
    "scrolled": true
   },
   "outputs": [
    {
     "data": {
      "text/plain": [
       "[('guitar', 69),\n",
       " ('one', 60),\n",
       " ('sound', 56),\n",
       " ('like', 52),\n",
       " ('get', 50),\n",
       " ('it', 43),\n",
       " ('great', 42),\n",
       " ('use', 39),\n",
       " ('pedal', 39),\n",
       " ('amp', 38)]"
      ]
     },
     "execution_count": 88,
     "metadata": {},
     "output_type": "execute_result"
    }
   ],
   "source": [
    "fd_neg.most_common(10)"
   ]
  },
  {
   "cell_type": "code",
   "execution_count": 89,
   "metadata": {},
   "outputs": [],
   "source": [
    "def word_features(words):\n",
    "    return dict([(word, True) for word in words.split()])"
   ]
  },
  {
   "cell_type": "code",
   "execution_count": 90,
   "metadata": {},
   "outputs": [],
   "source": [
    "#the filtered pos list 2 is a list of values where it contains only the text\n",
    "#with no stop words and no punctuations"
   ]
  },
  {
   "cell_type": "code",
   "execution_count": 91,
   "metadata": {},
   "outputs": [],
   "source": [
    "positive_features = [(word_features(f), 'pos') for f in filtered_pos_list2]\n",
    "negative_features = [(word_features(f), 'neg') for f in filtered_neg_list2]\n",
    "labeledwords = positive_features + negative_features"
   ]
  },
  {
   "cell_type": "code",
   "execution_count": 92,
   "metadata": {},
   "outputs": [
    {
     "name": "stdout",
     "output_type": "stream",
     "text": [
      "({'not': True}, 'neg')\n"
     ]
    }
   ],
   "source": [
    "print(negative_features[10])"
   ]
  },
  {
   "cell_type": "code",
   "execution_count": 93,
   "metadata": {},
   "outputs": [
    {
     "data": {
      "text/plain": [
       "list"
      ]
     },
     "execution_count": 93,
     "metadata": {},
     "output_type": "execute_result"
    }
   ],
   "source": [
    "type(negative_features)"
   ]
  },
  {
   "cell_type": "code",
   "execution_count": 94,
   "metadata": {},
   "outputs": [
    {
     "data": {
      "text/plain": [
       "4230"
      ]
     },
     "execution_count": 94,
     "metadata": {},
     "output_type": "execute_result"
    }
   ],
   "source": [
    "len(positive_features)"
   ]
  },
  {
   "cell_type": "code",
   "execution_count": 95,
   "metadata": {},
   "outputs": [
    {
     "data": {
      "text/plain": [
       "6792"
      ]
     },
     "execution_count": 95,
     "metadata": {},
     "output_type": "execute_result"
    }
   ],
   "source": [
    "len(negative_features)"
   ]
  },
  {
   "cell_type": "code",
   "execution_count": 96,
   "metadata": {
    "scrolled": true
   },
   "outputs": [
    {
     "data": {
      "text/plain": [
       "[({'basic': True}, 'pos'),\n",
       " ({'black': True}, 'pos'),\n",
       " ({'electric': True}, 'pos'),\n",
       " ({'guitar': True}, 'pos'),\n",
       " ({'cable': True}, 'pos'),\n",
       " ({'works': True}, 'pos'),\n",
       " ({'great': True}, 'pos'),\n",
       " ({'far': True}, 'pos'),\n",
       " ({'connections': True}, 'pos'),\n",
       " ({'ends': True}, 'pos'),\n",
       " ({'solid': True}, 'pos'),\n",
       " ({'sound': True}, 'pos'),\n",
       " ({'amp': True}, 'pos'),\n",
       " ({'great': True}, 'pos'),\n",
       " ({'nice': True}, 'pos'),\n",
       " ({'rubbery': True}, 'pos'),\n",
       " ({'10': True}, 'pos'),\n",
       " ({'feet': True}, 'pos'),\n",
       " ({'long': True}, 'pos'),\n",
       " ({'enough': True}, 'pos'),\n",
       " ({'problems': True}, 'pos'),\n",
       " ({'arise': True}, 'pos'),\n",
       " ({'later': True}, 'pos'),\n",
       " ({'cable': True}, 'pos'),\n",
       " ({'update': True}, 'pos'),\n",
       " ({'review': True}, 'pos'),\n",
       " ({'problems': True}, 'pos'),\n",
       " ({'whatsoever': True}, 'pos'),\n",
       " ({'cable': True}, 'pos'),\n",
       " ({'use': True}, 'pos'),\n",
       " ({'music': True}, 'pos'),\n",
       " ({'stand': True}, 'pos'),\n",
       " ({'acoustic': True}, 'pos'),\n",
       " ({'bass': True}, 'pos'),\n",
       " ({'electric': True}, 'pos'),\n",
       " ({'bass': True}, 'pos'),\n",
       " ({'instruments': True}, 'pos'),\n",
       " ({'quite': True}, 'pos'),\n",
       " ({'large': True}, 'pos'),\n",
       " ({'secures': True}, 'pos'),\n",
       " ({'well': True}, 'pos'),\n",
       " ({'easily': True}, 'pos'),\n",
       " ({'accessed': True}, 'pos'),\n",
       " ({'also': True}, 'pos'),\n",
       " ({'use': True}, 'pos'),\n",
       " ({'acoustic': True}, 'pos'),\n",
       " ({'tenor': True}, 'pos'),\n",
       " ({'guitar': True}, 'pos'),\n",
       " ({'end': True}, 'pos'),\n",
       " ({'scale': True}, 'pos'),\n",
       " ({'size': True}, 'pos'),\n",
       " ({'works': True}, 'pos'),\n",
       " ({'beautifully': True}, 'pos'),\n",
       " ({'it': True}, 'pos'),\n",
       " ({'breaks': True}, 'pos'),\n",
       " ({'reasonable': True}, 'pos'),\n",
       " ({'size': True}, 'pos'),\n",
       " ({'transport': True}, 'pos'),\n",
       " ({'used': True}, 'pos'),\n",
       " ({'while': True}, 'pos'),\n",
       " ({'behringer': True}, 'pos'),\n",
       " ({'8ch': True}, 'pos'),\n",
       " ({'rack': True}, 'pos'),\n",
       " ({'mount': True}, 'pos'),\n",
       " ({'rarely': True}, 'pos'),\n",
       " ({'gets': True}, 'pos'),\n",
       " ({'used': True}, 'pos'),\n",
       " ({'also': True}, 'pos'),\n",
       " ({'every': True}, 'pos'),\n",
       " ({'single': True}, 'pos'),\n",
       " ({'bass': True}, 'pos'),\n",
       " ({'guitar': True}, 'pos'),\n",
       " ({'amplifier': True}, 'pos'),\n",
       " ({'stage': True}, 'pos'),\n",
       " ({'soundman': True}, 'pos'),\n",
       " ({'balanced': True}, 'pos'),\n",
       " ({'direct': True}, 'pos'),\n",
       " ({'output': True}, 'pos'),\n",
       " ({'right': True}, 'pos'),\n",
       " ({'xlr': True}, 'pos'),\n",
       " ({'connector': True}, 'pos'),\n",
       " ({'right': True}, 'pos'),\n",
       " ({'amp': True}, 'pos'),\n",
       " ({'still': True}, 'pos'),\n",
       " ({'use': True}, 'pos'),\n",
       " ({'practice': True}, 'pos'),\n",
       " ({'home': True}, 'pos'),\n",
       " ({\"i've\": True}, 'pos'),\n",
       " ({'swapping': True}, 'pos'),\n",
       " ({'back': True}, 'pos'),\n",
       " ({'forth': True}, 'pos'),\n",
       " ({'evans': True}, 'pos'),\n",
       " ({'remo': True}, 'pos'),\n",
       " ({'while': True}, 'pos'),\n",
       " ({'really': True}, 'pos'),\n",
       " ({'liking': True}, 'pos'),\n",
       " ({'emad': True}, 'pos'),\n",
       " ({'kick': True}, 'pos'),\n",
       " ({'head': True}, 'pos'),\n",
       " ({'decided': True}, 'pos'),\n",
       " ({'lean': True}, 'pos'),\n",
       " ({'toward': True}, 'pos'),\n",
       " ({'evans': True}, 'pos'),\n",
       " ({'consistency': True}, 'pos'),\n",
       " ({'setup.i': True}, 'pos'),\n",
       " ({'consulted': True}, 'pos'),\n",
       " ({'online': True}, 'pos'),\n",
       " ({'forum': True}, 'pos'),\n",
       " ({'find': True}, 'pos'),\n",
       " ({'would': True}, 'pos'),\n",
       " ({'closest': True}, 'pos'),\n",
       " ({'compatible': True}, 'pos'),\n",
       " ({'drumhead': True}, 'pos'),\n",
       " ({'really': True}, 'pos'),\n",
       " ({'liked': True}, 'pos'),\n",
       " ({'remo': True}, 'pos'),\n",
       " ({'evans': True}, 'pos'),\n",
       " ({'line': True}, 'pos'),\n",
       " ({'led': True}, 'pos'),\n",
       " ({'g2': True}, 'pos'),\n",
       " ({'series': True}, 'pos'),\n",
       " ({'from': True}, 'pos'),\n",
       " ({\"remo's\": True}, 'pos'),\n",
       " ({'emperor': True}, 'pos'),\n",
       " ({'series': True}, 'pos'),\n",
       " ({'2': True}, 'pos'),\n",
       " ({'plies': True}, 'pos'),\n",
       " ({'7mm': True}, 'pos'),\n",
       " ({'free': True}, 'pos'),\n",
       " ({'floating': True}, 'pos'),\n",
       " ({'film)honestly': True}, 'pos'),\n",
       " ({'think': True}, 'pos'),\n",
       " ({\"i'm\": True}, 'pos'),\n",
       " ({'going': True}, 'pos'),\n",
       " ({'stick': True}, 'pos'),\n",
       " ({'evans': True}, 'pos'),\n",
       " ({'though!i': True}, 'pos'),\n",
       " ({'ordered': True}, 'pos'),\n",
       " ({'pack': True}, 'pos'),\n",
       " ({'shortly': True}, 'pos'),\n",
       " ({'announcement': True}, 'pos'),\n",
       " ({'level': True}, 'pos'),\n",
       " ({'360': True}, 'pos'),\n",
       " ({'sizing': True}, 'pos'),\n",
       " ({'wanted': True}, 'pos'),\n",
       " ({'give': True}, 'pos'),\n",
       " ({'try': True}, 'pos'),\n",
       " ({'fears': True}, 'pos'),\n",
       " ({'getting': True}, 'pos'),\n",
       " ({'old': True}, 'pos'),\n",
       " ({'stock': True}, 'pos'),\n",
       " ({'unfounded': True}, 'pos'),\n",
       " ({'set': True}, 'pos'),\n",
       " ({'got': True}, 'pos'),\n",
       " ({'new': True}, 'pos'),\n",
       " ({'enough': True}, 'pos'),\n",
       " ({'l360': True}, 'pos'),\n",
       " ({'sized.i': True}, 'pos'),\n",
       " ({'got': True}, 'pos'),\n",
       " ({'on': True}, 'pos'),\n",
       " ({'tuning': True}, 'pos'),\n",
       " ({'seemed': True}, 'pos'),\n",
       " ({'pretty': True}, 'pos'),\n",
       " ({'easy': True}, 'pos'),\n",
       " ({'use': True}, 'pos'),\n",
       " ({'drum': True}, 'pos'),\n",
       " ({'dial': True}, 'pos'),\n",
       " ({'ballpark': True}, 'pos'),\n",
       " ({'start': True}, 'pos'),\n",
       " ({'tuning': True}, 'pos'),\n",
       " ({'process': True}, 'pos'),\n",
       " ({'went': True}, 'pos'),\n",
       " ({'smoothly': True}, 'pos'),\n",
       " ({'sure': True}, 'pos'),\n",
       " ({'placebo': True}, 'pos'),\n",
       " ({'effect': True}, 'pos'),\n",
       " ({'seemed': True}, 'pos'),\n",
       " ({'able': True}, 'pos'),\n",
       " ({'get': True}, 'pos'),\n",
       " ({'little': True}, 'pos'),\n",
       " ({'low': True}, 'pos'),\n",
       " ({'range': True}, 'pos'),\n",
       " ({'floor': True}, 'pos'),\n",
       " ({'tom': True}, 'pos'),\n",
       " ({'well': True}, 'pos'),\n",
       " ({'deeper': True}, 'pos'),\n",
       " ({'resonant': True}, 'pos'),\n",
       " ({'808': True}, 'pos'),\n",
       " ({'kick.the': True}, 'pos'),\n",
       " ({'coating': True}, 'pos'),\n",
       " ({'seems': True}, 'pos'),\n",
       " ({'hold': True}, 'pos'),\n",
       " ({'better': True}, 'pos'),\n",
       " ({'evans': True}, 'pos'),\n",
       " ({'heads': True}, 'pos'),\n",
       " ({'well': True}, 'pos'),\n",
       " ({'remo': True}, 'pos'),\n",
       " ({'tends': True}, 'pos'),\n",
       " ({'flatten': True}, 'pos'),\n",
       " ({'out': True}, 'pos'),\n",
       " ({'within': True}, 'pos'),\n",
       " ({'hours': True}, 'pos'),\n",
       " ({'play': True}, 'pos'),\n",
       " ({'evans': True}, 'pos'),\n",
       " ({'lasts': True}, 'pos'),\n",
       " ({'longer': True}, 'pos'),\n",
       " ({'finished': True}, 'pos'),\n",
       " ({'feel': True}, 'pos'),\n",
       " ({'them': True}, 'pos'),\n",
       " ({'strap': True}, 'pos'),\n",
       " ({'great': True}, 'pos'),\n",
       " ({'glad': True}, 'pos'),\n",
       " ({'find': True}, 'pos'),\n",
       " ({'well': True}, 'pos'),\n",
       " ({'made': True}, 'pos'),\n",
       " ({'wide': True}, 'pos'),\n",
       " ({'strap': True}, 'pos'),\n",
       " ({'bass': True}, 'pos'),\n",
       " ({'strap': True}, 'pos'),\n",
       " ({'spreads': True}, 'pos'),\n",
       " ({'weight': True}, 'pos'),\n",
       " ({'even': True}, 'pos'),\n",
       " ({'reduces': True}, 'pos'),\n",
       " ({'shoulder': True}, 'pos'),\n",
       " ({'back': True}, 'pos'),\n",
       " ({'pain,he': True}, 'pos'),\n",
       " ({'loves': True}, 'pos'),\n",
       " ({'it': True}, 'pos'),\n",
       " ({'job': True}, 'pos'),\n",
       " ({'bought': True}, 'pos'),\n",
       " ({'73': True}, 'pos'),\n",
       " ({'mm': True}, 'pos'),\n",
       " ({'picks': True}, 'pos'),\n",
       " ({'would': True}, 'pos'),\n",
       " ({'consider': True}, 'pos'),\n",
       " ({'medium': True}, 'pos'),\n",
       " ({'thickness': True}, 'pos'),\n",
       " ({'like': True}, 'pos'),\n",
       " ({'lighter': True}, 'pos'),\n",
       " ({'get': True}, 'pos'),\n",
       " ({'smaller': True}, 'pos'),\n",
       " ({'thickness': True}, 'pos'),\n",
       " ({'like': True}, 'pos'),\n",
       " ({'heavy': True}, 'pos'),\n",
       " ({'go': True}, 'pos'),\n",
       " ({'larger': True}, 'pos'),\n",
       " ({'thickness': True}, 'pos'),\n",
       " ({'73': True}, 'pos'),\n",
       " ({'mm': True}, 'pos'),\n",
       " ({'right': True}, 'pos'),\n",
       " ({'me': True}, 'pos'),\n",
       " ({'really': True}, 'pos'),\n",
       " ({'like': True}, 'pos'),\n",
       " ({'them': True}, 'pos'),\n",
       " ({'finished': True}, 'pos'),\n",
       " ({'setting': True}, 'pos'),\n",
       " ({'up': True}, 'pos'),\n",
       " ({'works': True}, 'pos'),\n",
       " ({'perfect': True}, 'pos'),\n",
       " ({'stout': True}, 'pos'),\n",
       " ({'stable': True}, 'pos'),\n",
       " ({'even': True}, 'pos'),\n",
       " ({'looks': True}, 'pos'),\n",
       " ({'good': True}, 'pos'),\n",
       " ({'holding': True}, 'pos'),\n",
       " ({'gibson': True}, 'pos'),\n",
       " ({'les': True}, 'pos'),\n",
       " ({'paul': True}, 'pos'),\n",
       " ({'trustworthy': True}, 'pos'),\n",
       " ({'great': True}, 'pos'),\n",
       " ({'price': True}, 'pos'),\n",
       " ({'wayne': True}, 'pos'),\n",
       " ({'headphones': True}, 'pos'),\n",
       " ({'wonderful': True}, 'pos'),\n",
       " ({'wear': True}, 'pos'),\n",
       " ({'sound': True}, 'pos'),\n",
       " ({'great': True}, 'pos'),\n",
       " ({\"that's\": True}, 'pos'),\n",
       " ({'enough': True}, 'pos'),\n",
       " ({'days': True}, 'pos'),\n",
       " ({'head': True}, 'pos'),\n",
       " ({'band': True}, 'pos'),\n",
       " ({'connected': True}, 'pos'),\n",
       " ({'outside': True}, 'pos'),\n",
       " ({'muff': True}, 'pos'),\n",
       " ({'fit': True}, 'pos'),\n",
       " ({'head': True}, 'pos'),\n",
       " ({'wide': True}, 'pos'),\n",
       " ({'pioneer': True}, 'pos'),\n",
       " ({'hdj': True}, 'pos'),\n",
       " ({'2000': True}, 'pos'),\n",
       " ({'look': True}, 'pos'),\n",
       " ({'read': True}, 'pos'),\n",
       " ({'review': True}, 'pos'),\n",
       " ({'though': True}, 'pos'),\n",
       " ({'terrible.at': True}, 'pos'),\n",
       " ({'first': True}, 'pos'),\n",
       " ({'glance': True}, 'pos'),\n",
       " ({'things': True}, 'pos'),\n",
       " ({'serious': True}, 'pos'),\n",
       " ({'pro': True}, 'pos'),\n",
       " ({'grade': True}, 'pos'),\n",
       " ({'made': True}, 'pos'),\n",
       " ({'durable': True}, 'pos'),\n",
       " ({'components': True}, 'pos'),\n",
       " ({'ears': True}, 'pos'),\n",
       " ({'swivel': True}, 'pos'),\n",
       " ({'fit': True}, 'pos'),\n",
       " ({'snug': True}, 'pos'),\n",
       " ({'head': True}, 'pos'),\n",
       " ({'head': True}, 'pos'),\n",
       " ({'band': True}, 'pos'),\n",
       " ({'bad': True}, 'pos'),\n",
       " ({'plastic': True}, 'pos'),\n",
       " ({'material': True}, 'pos'),\n",
       " ({'notice': True}, 'pos'),\n",
       " ({'stretch': True}, 'pos'),\n",
       " ({'see': True}, 'pos'),\n",
       " ({'flexible': True}, 'pos'),\n",
       " ({'pad': True}, 'pos'),\n",
       " ({'top': True}, 'pos'),\n",
       " ({'head': True}, 'pos'),\n",
       " ({'starts': True}, 'pos'),\n",
       " ({'come': True}, 'pos'),\n",
       " ({'unglued': True}, 'pos'),\n",
       " ({'really': True}, 'pos'),\n",
       " ({'big': True}, 'pos'),\n",
       " ({'concern': True}, 'pos'),\n",
       " ({'though': True}, 'pos'),\n",
       " ({'long': True}, 'pos'),\n",
       " ({'cord': True}, 'pos'),\n",
       " ({\"i'll\": True}, 'pos'),\n",
       " ({'talk': True}, 'pos'),\n",
       " ({'later': True}, 'pos'),\n",
       " ({'ends': True}, 'pos'),\n",
       " ({'spin': True}, 'pos'),\n",
       " ({'1/4': True}, 'pos'),\n",
       " ({'standard': True}, 'pos'),\n",
       " ({'3.5mm.the': True}, 'pos'),\n",
       " ({'sound': True}, 'pos'),\n",
       " ({'things': True}, 'pos'),\n",
       " ({'pristine': True}, 'pos'),\n",
       " ({'muddy': True}, 'pos'),\n",
       " ({'clear': True}, 'pos'),\n",
       " ({'good': True}, 'pos'),\n",
       " ({'amount': True}, 'pos'),\n",
       " ({'bass': True}, 'pos'),\n",
       " ({'ear': True}, 'pos'),\n",
       " ({'style': True}, 'pos'),\n",
       " ({'drown': True}, 'pos'),\n",
       " ({'lot': True}, 'pos'),\n",
       " ({'background': True}, 'pos'),\n",
       " ({'noise': True}, 'pos'),\n",
       " ({'also': True}, 'pos'),\n",
       " ({'leak': True}, 'pos'),\n",
       " ({'noise': True}, 'pos'),\n",
       " ({'like': True}, 'pos'),\n",
       " ({'lot': True}, 'pos'),\n",
       " ({'headphones': True}, 'pos'),\n",
       " ({'do.pros': True}, 'pos'),\n",
       " ({'heavy': True}, 'pos'),\n",
       " ({'duty': True}, 'pos'),\n",
       " ({'awesome': True}, 'pos'),\n",
       " ({'sound': True}, 'pos'),\n",
       " ({'comfortable': True}, 'pos'),\n",
       " ({'headband': True}, 'pos'),\n",
       " ({'ear': True}, 'pos'),\n",
       " ({'design': True}, 'pos'),\n",
       " ({'worried': True}, 'pos'),\n",
       " ({'breaking': True}, 'pos'),\n",
       " ({'bag': True}, 'pos'),\n",
       " ({'always': True}, 'pos'),\n",
       " ({'clear': True}, 'pos'),\n",
       " ({'never': True}, 'pos'),\n",
       " ({'muddy': True}, 'pos'),\n",
       " ({'even': True}, 'pos'),\n",
       " ({'high': True}, 'pos'),\n",
       " ({'volumes': True}, 'pos'),\n",
       " ({'clear': True}, 'pos'),\n",
       " ({'left': True}, 'pos'),\n",
       " ({'right': True}, 'pos'),\n",
       " ({'ear': True}, 'pos'),\n",
       " ({'markings': True}, 'pos'),\n",
       " ({'spin': True}, 'pos'),\n",
       " ({'1/4': True}, 'pos'),\n",
       " ({'plugcons': True}, 'pos'),\n",
       " ({'heavy': True}, 'pos'),\n",
       " ({'coil': True}, 'pos'),\n",
       " ({'cord': True}, 'pos'),\n",
       " ({'heavy': True}, 'pos'),\n",
       " ({'weight': True}, 'pos'),\n",
       " ({'never': True}, 'pos'),\n",
       " ({'got': True}, 'pos'),\n",
       " ({'annoying': True}, 'pos'),\n",
       " ({'though': True}, 'pos'),\n",
       " ({'looks': True}, 'pos'),\n",
       " ({'personally': True}, 'pos'),\n",
       " ({'love': True}, 'pos'),\n",
       " ({\"d'addario\": True}, 'pos'),\n",
       " ({'strings': True}, 'pos'),\n",
       " ({'sute': True}, 'pos'),\n",
       " ({'needs': True}, 'pos'),\n",
       " ({'right': True}, 'pos'),\n",
       " ({'takamine': True}, 'pos'),\n",
       " ({'acoustic': True}, 'pos'),\n",
       " ({'great': True}, 'pos'),\n",
       " ({'quality': True}, 'pos'),\n",
       " ({'price': True}, 'pos'),\n",
       " ({\"i'll\": True}, 'pos'),\n",
       " ({'try': True}, 'pos'),\n",
       " ({'review': True}, 'pos'),\n",
       " ({'strings': True}, 'pos'),\n",
       " ({'instrument': True}, 'pos'),\n",
       " ({\"that's\": True}, 'pos'),\n",
       " ({'kinda': True}, 'pos'),\n",
       " ({'hard': True}, 'pos'),\n",
       " ({'do': True}, 'pos'),\n",
       " ({\"i've\": True}, 'pos'),\n",
       " ({'playing': True}, 'pos'),\n",
       " ({'guitar': True}, 'pos'),\n",
       " ({'since': True}, 'pos'),\n",
       " ({'dad': True}, 'pos'),\n",
       " ({'bought': True}, 'pos'),\n",
       " ({'7.00': True}, 'pos'),\n",
       " ({'unknown': True}, 'pos'),\n",
       " ({'acoustic': True}, 'pos'),\n",
       " ({'46': True}, 'pos'),\n",
       " ({'years': True}, 'pos'),\n",
       " ({'ago': True}, 'pos'),\n",
       " ({'make': True}, 'pos'),\n",
       " ({'58': True}, 'pos'),\n",
       " ({'put': True}, 'pos'),\n",
       " ({'brand': True}, 'pos'),\n",
       " ({'new': True}, 'pos'),\n",
       " ({'humpty': True}, 'pos'),\n",
       " ({'duty': True}, 'pos'),\n",
       " ({'black': True}, 'pos'),\n",
       " ({'diamond': True}, 'pos'),\n",
       " ({'strings': True}, 'pos'),\n",
       " ({'pulled': True}, 'pos'),\n",
       " ({'neck': True}, 'pos'),\n",
       " ({'strings': True}, 'pos'),\n",
       " ({'sat': True}, 'pos'),\n",
       " ({'around': True}, 'pos'),\n",
       " ({'6': True}, 'pos'),\n",
       " ({'fretboard': True}, 'pos'),\n",
       " ({'well': True}, 'pos'),\n",
       " ({'close': True}, 'pos'),\n",
       " ({'anyway': True}, 'pos'),\n",
       " ({'neck': True}, 'pos'),\n",
       " ({'way': True}, 'pos'),\n",
       " ({'adjust': True}, 'pos'),\n",
       " ({'imagine': True}, 'pos'),\n",
       " ({'learning': True}, 'pos'),\n",
       " ({'play': True}, 'pos'),\n",
       " ({'using': True}, 'pos'),\n",
       " ({'heavy': True}, 'pos'),\n",
       " ({'gauge': True}, 'pos'),\n",
       " ({'black': True}, 'pos'),\n",
       " ({'diamond': True}, 'pos'),\n",
       " ({'strings': True}, 'pos'),\n",
       " ({'ways': True}, 'pos'),\n",
       " ({'fretboard': True}, 'pos'),\n",
       " ({'know': True}, 'pos'),\n",
       " ({'better': True}, 'pos'),\n",
       " ({'thought': True}, 'pos'),\n",
       " ({'normal': True}, 'pos'),\n",
       " ({'blood': True}, 'pos'),\n",
       " ({'dripping': True}, 'pos'),\n",
       " ({'bent': True}, 'pos'),\n",
       " ({'crooked': True}, 'pos'),\n",
       " ({'fingertips.since': True}, 'pos'),\n",
       " ({\"i've\": True}, 'pos'),\n",
       " ({'multitude': True}, 'pos'),\n",
       " ({'guitars': True}, 'pos'),\n",
       " ({'strings': True}, 'pos'),\n",
       " ({'always': True}, 'pos'),\n",
       " ({'wanted': True}, 'pos'),\n",
       " ({'les': True}, 'pos'),\n",
       " ({'paul': True}, 'pos'),\n",
       " ({'playing': True}, 'pos'),\n",
       " ({'never': True}, 'pos'),\n",
       " ({'improved': True}, 'pos'),\n",
       " ({'enough': True}, 'pos'),\n",
       " ({'justify': True}, 'pos'),\n",
       " ({'2000.00': True}, 'pos'),\n",
       " ({'4000.00': True}, 'pos'),\n",
       " ({'started': True}, 'pos'),\n",
       " ({'reading': True}, 'pos'),\n",
       " ({'reviews': True}, 'pos'),\n",
       " ({'epiphone': True}, 'pos'),\n",
       " ({'les': True}, 'pos'),\n",
       " ({'paul': True}, 'pos'),\n",
       " ({'100': True}, 'pos'),\n",
       " ({'249.00': True}, 'pos'),\n",
       " ({'running': True}, 'pos'),\n",
       " ({'4.5': True}, 'pos'),\n",
       " ({'5': True}, 'pos'),\n",
       " ({'stars': True}, 'pos'),\n",
       " ({'finally': True}, 'pos'),\n",
       " ({'much': True}, 'pos'),\n",
       " ({'self': True}, 'pos'),\n",
       " ({'convincing': True}, 'pos'),\n",
       " ({'bought': True}, 'pos'),\n",
       " ({'ebony': True}, 'pos'),\n",
       " ({'amazon': True}, 'pos'),\n",
       " ({\"i've\": True}, 'pos'),\n",
       " ({'owned': True}, 'pos'),\n",
       " ({'strats': True}, 'pos'),\n",
       " ({'telecasters': True}, 'pos'),\n",
       " ({'cheapies': True}, 'pos'),\n",
       " ({'alvarez': True}, 'pos'),\n",
       " ({'think': True}, 'pos'),\n",
       " ({'unpacked': True}, 'pos'),\n",
       " ({'box': True}, 'pos'),\n",
       " ({'little': True}, 'pos'),\n",
       " ({'tuning': True}, 'pos'),\n",
       " ({'absolutely': True}, 'pos'),\n",
       " ({'beautiful': True}, 'pos'),\n",
       " ({'sweetest': True}, 'pos'),\n",
       " ({'thing': True}, 'pos'),\n",
       " ({\"i've\": True}, 'pos'),\n",
       " ({'ever': True}, 'pos'),\n",
       " ({'held': True}, 'pos'),\n",
       " ({'life': True}, 'pos'),\n",
       " ({'except': True}, 'pos'),\n",
       " ({'little': True}, 'pos'),\n",
       " ({'lady': True}, 'pos'),\n",
       " ({'course': True}, 'pos'),\n",
       " ({'kidding': True}, 'pos'),\n",
       " ({'recommend': True}, 'pos'),\n",
       " ({'guitar': True}, 'pos'),\n",
       " ({'anyone': True}, 'pos'),\n",
       " ({'even': True}, 'pos'),\n",
       " ({'cost': True}, 'pos'),\n",
       " ({'couple': True}, 'pos'),\n",
       " ({'grand.strings': True}, 'pos'),\n",
       " ({'ones': True}, 'pos'),\n",
       " ({'came': True}, 'pos'),\n",
       " ({'sounded': True}, 'pos'),\n",
       " ({'great': True}, 'pos'),\n",
       " ({'put': True}, 'pos'),\n",
       " ({'couple': True}, 'pos'),\n",
       " ({'weeks': True}, 'pos'),\n",
       " ({'sounds': True}, 'pos'),\n",
       " ({'great': True}, 'pos'),\n",
       " ({'bathroom': True}, 'pos'),\n",
       " ({'good': True}, 'pos'),\n",
       " ({'acoustics': True}, 'pos'),\n",
       " ({'finally': True}, 'pos'),\n",
       " ({'got': True}, 'pos'),\n",
       " ({'best': True}, 'pos'),\n",
       " ({'set': True}, 'pos'),\n",
       " ({'strings': True}, 'pos'),\n",
       " ({'always': True}, 'pos'),\n",
       " ({'use': True}, 'pos'),\n",
       " ({'ernie': True}, 'pos'),\n",
       " ({'ball': True}, 'pos'),\n",
       " ({'everything': True}, 'pos'),\n",
       " ({\"they've\": True}, 'pos'),\n",
       " ({'got': True}, 'pos'),\n",
       " ({'wrench': True}, 'pos'),\n",
       " ({'fit': True}, 'pos'),\n",
       " ({'every': True}, 'pos'),\n",
       " ({'nut': True}, 'pos'),\n",
       " ({'house': True}, 'pos'),\n",
       " ({'saw': True}, 'pos'),\n",
       " ({'hybrids': True}, 'pos'),\n",
       " ({'amazon': True}, 'pos'),\n",
       " ({'never': True}, 'pos'),\n",
       " ({'heard': True}, 'pos'),\n",
       " ({'them': True}, 'pos'),\n",
       " ({'bought': True}, 'pos'),\n",
       " ({'pack': True}, 'pos'),\n",
       " ({'along': True}, 'pos'),\n",
       " ({'super': True}, 'pos'),\n",
       " ({'slinkys': True}, 'pos'),\n",
       " ({'regular': True}, 'pos'),\n",
       " ({'slinkys': True}, 'pos'),\n",
       " ({'earthwood': True}, 'pos'),\n",
       " ({'silk': True}, 'pos'),\n",
       " ({'steels': True}, 'pos'),\n",
       " ({'put': True}, 'pos'),\n",
       " ({'hybrids': True}, 'pos'),\n",
       " ({'new': True}, 'pos'),\n",
       " ({'les': True}, 'pos'),\n",
       " ({'paul': True}, 'pos'),\n",
       " ({'made': True}, 'pos'),\n",
       " ({'sound': True}, 'pos'),\n",
       " ({'even': True}, 'pos'),\n",
       " ({'better': True}, 'pos'),\n",
       " ({'was': True}, 'pos'),\n",
       " ({'chuck': True}, 'pos'),\n",
       " ({'barry': True}, 'pos'),\n",
       " ({'ventures': True}, 'pos'),\n",
       " ({'clapton': True}, 'pos'),\n",
       " ({'set': True}, 'pos'),\n",
       " ({'lp': True}, 'pos'),\n",
       " ({'fender': True}, 'pos'),\n",
       " ({'amp': True}, 'pos'),\n",
       " ({'right': True}, 'pos'),\n",
       " ({'sound': True}, 'pos'),\n",
       " ({'good': True}, 'pos'),\n",
       " ({'lower': True}, 'pos'),\n",
       " ({'strings': True}, 'pos'),\n",
       " ({'wonderful': True}, 'pos'),\n",
       " ({'rich': True}, 'pos'),\n",
       " ({'tone': True}, 'pos'),\n",
       " ({\"they're\": True}, 'pos'),\n",
       " ({'fairly': True}, 'pos'),\n",
       " ({'heavy': True}, 'pos'),\n",
       " ({'easy': True}, 'pos'),\n",
       " ({'fingers': True}, 'pos'),\n",
       " ({'high': True}, 'pos'),\n",
       " ({'strings': True}, 'pos'),\n",
       " ({'talk': True}, 'pos'),\n",
       " ({'you': True}, 'pos'),\n",
       " ({'bend': True}, 'pos'),\n",
       " ({'g-string': True}, 'pos'),\n",
       " ({'easier': True}, 'pos'),\n",
       " ({'super': True}, 'pos'),\n",
       " ({'slinky': True}, 'pos'),\n",
       " ({'guitar': True}, 'pos'),\n",
       " ({\"i've\": True}, 'pos'),\n",
       " ({'used': True}, 'pos'),\n",
       " ({'sound': True}, 'pos'),\n",
       " ({'great': True}, 'pos'),\n",
       " ({'imagine': True}, 'pos'),\n",
       " ({\"i'll\": True}, 'pos'),\n",
       " ({'stick': True}, 'pos'),\n",
       " ({'machine': True}, 'pos'),\n",
       " ({'on': True}, 'pos'),\n",
       " ({'course': True}, 'pos'),\n",
       " ({'amazon': True}, 'pos'),\n",
       " ({'always': True}, 'pos'),\n",
       " ({'5': True}, 'pos'),\n",
       " ({'stars': True}, 'pos'),\n",
       " ({'book': True}, 'pos'),\n",
       " ({'converts': True}, 'pos'),\n",
       " ({'xlr': True}, 'pos'),\n",
       " ({'signal': True}, 'pos'),\n",
       " ({'for': True}, 'pos'),\n",
       " ({'me': True}, 'pos'),\n",
       " ({'shure': True}, 'pos'),\n",
       " ({'sm57': True}, 'pos'),\n",
       " ({'mic': True}, 'pos'),\n",
       " ({'1/4': True}, 'pos'),\n",
       " ({'male': True}, 'pos'),\n",
       " ({'i': True}, 'pos'),\n",
       " ({'run': True}, 'pos'),\n",
       " ({'guitar': True}, 'pos'),\n",
       " ({'pedalboard': True}, 'pos'),\n",
       " ({'amp': True}, 'pos'),\n",
       " ({'issues': True}, 'pos'),\n",
       " ({'performance': True}, 'pos'),\n",
       " ({'converter': True}, 'pos'),\n",
       " ({'little': True}, 'pos'),\n",
       " ({'bulky': True}, 'pos'),\n",
       " ({'especially': True}, 'pos'),\n",
       " ({'clip': True}, 'pos'),\n",
       " ({'mic': True}, 'pos'),\n",
       " ({'onto': True}, 'pos'),\n",
       " ({'that': True}, 'pos'),\n",
       " ({'could': True}, 'pos'),\n",
       " ({'tight': True}, 'pos'),\n",
       " ({'fitting': True}, 'pos'),\n",
       " ({'certain': True}, 'pos'),\n",
       " ({'places': True}, 'pos'),\n",
       " ({'pedalboard': True}, 'pos'),\n",
       " ({'works': True}, 'pos'),\n",
       " ({'great': True}, 'pos'),\n",
       " ({'overall': True}, 'pos'),\n",
       " ({'okay': True}, 'pos'),\n",
       " ({'so': True}, 'pos'),\n",
       " ({'small': True}, 'pos'),\n",
       " ({'easy': True}, 'pos'),\n",
       " ({'dial': True}, 'pos'),\n",
       " ({'good': True}, 'pos'),\n",
       " ({'sound': True}, 'pos'),\n",
       " ({'inexpensive': True}, 'pos'),\n",
       " ({'made': True}, 'pos'),\n",
       " ({'us': True}, 'pos'),\n",
       " ({'wonderful': True}, 'pos'),\n",
       " ({'transparency': True}, 'pos'),\n",
       " ({'it.add': True}, 'pos'),\n",
       " ({'different': True}, 'pos'),\n",
       " ({'ways': True}, 'pos'),\n",
       " ({'configure': True}, 'pos'),\n",
       " ({'by': True}, 'pos'),\n",
       " ({'using': True}, 'pos'),\n",
       " ({'internal': True}, 'pos'),\n",
       " ({'dip': True}, 'pos'),\n",
       " ({'switches': True}, 'pos'),\n",
       " ({'compressor': True}, 'pos'),\n",
       " ({'flexible': True}, 'pos'),\n",
       " ({\"i've\": True}, 'pos'),\n",
       " ({'used': True}, 'pos'),\n",
       " ({'guitar': True}, 'pos'),\n",
       " ({'half': True}, 'pos'),\n",
       " ({'less': True}, 'pos'),\n",
       " ({'many': True}, 'pos'),\n",
       " ({'cost': True}, 'pos'),\n",
       " ({'which': True}, 'pos'),\n",
       " ({'sound': True}, 'pos'),\n",
       " ({'imho': True}, 'pos'),\n",
       " ({'better).it': True}, 'pos'),\n",
       " ({'stacks': True}, 'pos'),\n",
       " ({'well': True}, 'pos'),\n",
       " ({'ep': True}, 'pos'),\n",
       " ({'booster': True}, 'pos'),\n",
       " ({'another': True}, 'pos'),\n",
       " ({'comp/boost': True}, 'pos'),\n",
       " ({'chain': True}, 'pos'),\n",
       " ({'too.whether': True}, 'pos'),\n",
       " ({'want': True}, 'pos'),\n",
       " ({'drive': True}, 'pos'),\n",
       " ({'amp': True}, 'pos'),\n",
       " ({'little': True}, 'pos'),\n",
       " ({'harder': True}, 'pos'),\n",
       " ({'squash': True}, 'pos'),\n",
       " ({'signal': True}, 'pos'),\n",
       " ({'product': True}, 'pos'),\n",
       " ({'impossible': True}, 'pos'),\n",
       " ({'beat.i': True}, 'pos'),\n",
       " ({'totally': True}, 'pos'),\n",
       " ({'adore': True}, 'pos'),\n",
       " ({'it': True}, 'pos'),\n",
       " ({'described': True}, 'pos'),\n",
       " ({'really': True}, 'pos'),\n",
       " ({'enhances': True}, 'pos'),\n",
       " ({'tone': True}, 'pos'),\n",
       " ({'good': True}, 'pos'),\n",
       " ({'breadth': True}, 'pos'),\n",
       " ({'tonal': True}, 'pos'),\n",
       " ({'variations': True}, 'pos'),\n",
       " ({'available': True}, 'pos'),\n",
       " ({'negative': True}, 'pos'),\n",
       " ({'huge': True}, 'pos'),\n",
       " ({'get': True}, 'pos'),\n",
       " ({'little': True}, 'pos'),\n",
       " ({'noisy': True}, 'pos'),\n",
       " ({'presence': True}, 'pos'),\n",
       " ({'increased': True}, 'pos'),\n",
       " ({'beyond': True}, 'pos'),\n",
       " ({'half': True}, 'pos'),\n",
       " ({'using': True}, 'pos'),\n",
       " ({'bass': True}, 'pos'),\n",
       " ({'two': True}, 'pos'),\n",
       " ({'single': True}, 'pos'),\n",
       " ({'coils': True}, 'pos'),\n",
       " ({'makes': True}, 'pos'),\n",
       " ({'noise': True}, 'pos'),\n",
       " ({'challenge': True}, 'pos'),\n",
       " ({'begin': True}, 'pos'),\n",
       " ({'with': True}, 'pos'),\n",
       " ({'great': True}, 'pos'),\n",
       " ({'product': True}, 'pos'),\n",
       " ({'accurate': True}, 'pos'),\n",
       " ({'small': True}, 'pos'),\n",
       " ({'functional': True}, 'pos'),\n",
       " ({'inexpensive': True}, 'pos'),\n",
       " ({'better': True}, 'pos'),\n",
       " ({'battery': True}, 'pos'),\n",
       " ({'life': True}, 'pos'),\n",
       " ({'previous': True}, 'pos'),\n",
       " ({'generations': True}, 'pos'),\n",
       " ({'good': True}, 'pos'),\n",
       " ({'quality': True}, 'pos'),\n",
       " ({'adapts': True}, 'pos'),\n",
       " ({'easily': True}, 'pos'),\n",
       " ({'type': True}, 'pos'),\n",
       " ({'guitar': True}, 'pos'),\n",
       " ({'heads': True}, 'pos'),\n",
       " ({'seem': True}, 'pos'),\n",
       " ({'work': True}, 'pos'),\n",
       " ({'well': True}, 'pos'),\n",
       " ({'keep': True}, 'pos'),\n",
       " ({'ground': True}, 'pos'),\n",
       " ({'switch': True}, 'pos'),\n",
       " ({'selected': True}, 'pos'),\n",
       " ({'fine': True}, 'pos'),\n",
       " ({'used': True}, 'pos'),\n",
       " ({'different': True}, 'pos'),\n",
       " ({'direct': True}, 'pos'),\n",
       " ({'boxes': True}, 'pos'),\n",
       " ({'recommend': True}, 'pos'),\n",
       " ({'one': True}, 'pos'),\n",
       " ({'keep': True}, 'pos'),\n",
       " ({'guitars': True}, 'pos'),\n",
       " ({'room': True}, 'pos'),\n",
       " ({'many': True}, 'pos'),\n",
       " ({'stands': True}, 'pos'),\n",
       " ({'cluttering': True}, 'pos'),\n",
       " ({'up': True}, 'pos'),\n",
       " ({'screws': True}, 'pos'),\n",
       " ({'sent': True}, 'pos'),\n",
       " ({'plenty': True}, 'pos'),\n",
       " ({'long': True}, 'pos'),\n",
       " ({'enough': True}, 'pos'),\n",
       " ({'three': True}, 'pos'),\n",
       " ({'got': True}, 'pos'),\n",
       " ({'holding': True}, 'pos'),\n",
       " ({'guitars': True}, 'pos'),\n",
       " ({'wall': True}, 'pos'),\n",
       " ({'drywall': True}, 'pos'),\n",
       " ({'nonetheless': True}, 'pos'),\n",
       " ({'given': True}, 'pos'),\n",
       " ({'wood': True}, 'pos'),\n",
       " ({'wall': True}, 'pos'),\n",
       " ({'problem': True}, 'pos'),\n",
       " ({'sturdy': True}, 'pos'),\n",
       " ({'enough': True}, 'pos'),\n",
       " ({'always': True}, 'pos'),\n",
       " ({'suspect': True}, 'pos'),\n",
       " ({'wall': True}, 'pos'),\n",
       " ({'hangers': True}, 'pos'),\n",
       " ({'best': True}, 'pos'),\n",
       " ({'deal': True}, 'pos'),\n",
       " ({'job': True}, 'pos'),\n",
       " ({'small': True}, 'pos'),\n",
       " ({'small': True}, 'pos'),\n",
       " ({'sits': True}, 'pos'),\n",
       " ({'right': True}, 'pos'),\n",
       " ({'behind': True}, 'pos'),\n",
       " ({'headstock': True}, 'pos'),\n",
       " ({'easy': True}, 'pos'),\n",
       " ({'see': True}, 'pos'),\n",
       " ({'read': True}, 'pos'),\n",
       " ({'accurate': True}, 'pos'),\n",
       " ({'else': True}, 'pos'),\n",
       " ({'say': True}, 'pos'),\n",
       " ({'except': True}, 'pos'),\n",
       " ({'really': True}, 'pos'),\n",
       " ({'great': True}, 'pos'),\n",
       " ({'idea': True}, 'pos'),\n",
       " ({'works': True}, 'pos'),\n",
       " ({'hate': True}, 'pos'),\n",
       " ({'fuzzy': True}, 'pos'),\n",
       " ({'distortion': True}, 'pos'),\n",
       " ({'love': True}, 'pos'),\n",
       " ({'pedal': True}, 'pos'),\n",
       " ({'boss': True}, 'pos'),\n",
       " ({'ds': True}, 'pos'),\n",
       " ({'1': True}, 'pos'),\n",
       " ({'metal': True}, 'pos'),\n",
       " ({'zone': True}, 'pos'),\n",
       " ({'mt': True}, 'pos'),\n",
       " ({'2': True}, 'pos'),\n",
       " ({'like': True}, 'pos'),\n",
       " ({'much': True}, 'pos'),\n",
       " ({\"they're\": True}, 'pos'),\n",
       " ({'fizzy': True}, 'pos'),\n",
       " ({'ok': True}, 'pos'),\n",
       " ({'pedal': True}, 'pos'),\n",
       " ({'sonically': True}, 'pos'),\n",
       " ({'sounds': True}, 'pos'),\n",
       " ({'much': True}, 'pos'),\n",
       " ({'better': True}, 'pos'),\n",
       " ({'me': True}, 'pos'),\n",
       " ({'plexi': True}, 'pos'),\n",
       " ({'tones': True}, 'pos'),\n",
       " ({'well': True}, 'pos'),\n",
       " ({'lower': True}, 'pos'),\n",
       " ({'gain': True}, 'pos'),\n",
       " ({'settings': True}, 'pos'),\n",
       " ({'full': True}, 'pos'),\n",
       " ({'marshall': True}, 'pos'),\n",
       " ({'crunch': True}, 'pos'),\n",
       " ({'higher': True}, 'pos'),\n",
       " ({'settings': True}, 'pos'),\n",
       " ({'looking': True}, 'pos'),\n",
       " ({'you': True}, 'pos'),\n",
       " ({'offers': True}, 'pos'),\n",
       " ({'rugged': True}, 'pos'),\n",
       " ({'construction': True}, 'pos'),\n",
       " ({'true': True}, 'pos'),\n",
       " ({'bypass': True}, 'pos'),\n",
       " ({'problem': True}, 'pos'),\n",
       " ({'unity': True}, 'pos'),\n",
       " ({'gain': True}, 'pos'),\n",
       " ({'around': True}, 'pos'),\n",
       " ({'9': True}, 'pos'),\n",
       " ({'clock': True}, 'pos'),\n",
       " ({'pedal': True}, 'pos'),\n",
       " ({'hot': True}, 'pos'),\n",
       " ({'lots': True}, 'pos'),\n",
       " ({'head': True}, 'pos'),\n",
       " ({'room': True}, 'pos'),\n",
       " ({'props': True}, 'pos'),\n",
       " ({'joyo': True}, 'pos'),\n",
       " ({'mi': True}, 'pos'),\n",
       " ({'crunch': True}, 'pos'),\n",
       " ({'box': True}, 'pos'),\n",
       " ({'clone': True}, 'pos'),\n",
       " ({'gift': True}, 'pos'),\n",
       " ({'friend': True}, 'pos'),\n",
       " ({'fan': True}, 'pos'),\n",
       " ({'beatles': True}, 'pos'),\n",
       " ({'happy': True}, 'pos'),\n",
       " ({'gift': True}, 'pos'),\n",
       " ({'good': True}, 'pos'),\n",
       " ({'item': True}, 'pos'),\n",
       " ({'musician': True}, 'pos'),\n",
       " ({'need': True}, 'pos'),\n",
       " ({'it': True}, 'pos'),\n",
       " ({'cool': True}, 'pos'),\n",
       " ({'bass': True}, 'pos'),\n",
       " ({'guitar': True}, 'pos'),\n",
       " ({'instrument': True}, 'pos'),\n",
       " ({'fit': True}, 'pos'),\n",
       " ({'hanger': True}, 'pos'),\n",
       " ({'im': True}, 'pos'),\n",
       " ({'using': True}, 'pos'),\n",
       " ({'five': True}, 'pos'),\n",
       " ({'pedals': True}, 'pos'),\n",
       " ({'works': True}, 'pos'),\n",
       " ({'great': True}, 'pos'),\n",
       " ({'added': True}, 'pos'),\n",
       " ({'noise': True}, 'pos'),\n",
       " ({'signal': True}, 'pos'),\n",
       " ({'loss': True}, 'pos'),\n",
       " ({'saves': True}, 'pos'),\n",
       " ({'cost': True}, 'pos'),\n",
       " ({'hassle': True}, 'pos'),\n",
       " ({'constantly': True}, 'pos'),\n",
       " ({'replacing': True}, 'pos'),\n",
       " ({'9v': True}, 'pos'),\n",
       " ({'batteries.comes': True}, 'pos'),\n",
       " ({'nice': True}, 'pos'),\n",
       " ({'assortment': True}, 'pos'),\n",
       " ({'adapters': True}, 'pos'),\n",
       " ({'use': True}, 'pos'),\n",
       " ({'brand': True}, 'pos'),\n",
       " ({'pedal': True}, 'pos'),\n",
       " ({'there.probably': True}, 'pos'),\n",
       " ({'durable': True}, 'pos'),\n",
       " ({'power': True}, 'pos'),\n",
       " ({'supply': True}, 'pos'),\n",
       " ({'available': True}, 'pos'),\n",
       " ({'price': True}, 'pos'),\n",
       " ({'cant': True}, 'pos'),\n",
       " ({'beat': True}, 'pos'),\n",
       " ({'use': True}, 'pos'),\n",
       " ({'one': True}, 'pos'),\n",
       " ({'lot': True}, 'pos'),\n",
       " ({'light': True}, 'pos'),\n",
       " ({'weight': True}, 'pos'),\n",
       " ({'sturdy': True}, 'pos'),\n",
       " ({'would': True}, 'pos'),\n",
       " ({'nice': True}, 'pos'),\n",
       " ({'counter': True}, 'pos'),\n",
       " ({'weight': True}, 'pos'),\n",
       " ({'long': True}, 'pos'),\n",
       " ({'reaches': True}, 'pos'),\n",
       " ({'work': True}, 'pos'),\n",
       " ({'around': True}, 'pos'),\n",
       " ({'detail': True}, 'pos'),\n",
       " ({'well': True}, 'pos'),\n",
       " ({'made': True}, 'pos'),\n",
       " ({'looking': True}, 'pos'),\n",
       " ({'really': True}, 'pos'),\n",
       " ({'durable': True}, 'pos'),\n",
       " ({'stand': True}, 'pos'),\n",
       " ({'good': True}, 'pos'),\n",
       " ({'one': True}, 'pos'),\n",
       " ({'desk': True}, 'pos'),\n",
       " ({'inconvenient': True}, 'pos'),\n",
       " ({'amazon': True}, 'pos'),\n",
       " ({'list': True}, 'pos'),\n",
       " ({'product': True}, 'pos'),\n",
       " ({'detail': True}, 'pos'),\n",
       " ({'size': True}, 'pos'),\n",
       " ({'screw': True}, 'pos'),\n",
       " ({'head': True}, 'pos'),\n",
       " ({'top': True}, 'pos'),\n",
       " ({'make': True}, 'pos'),\n",
       " ({'sure': True}, 'pos'),\n",
       " ({'mic': True}, 'pos'),\n",
       " ({'holder': True}, 'pos'),\n",
       " ({'fits': True}, 'pos'),\n",
       " ({'fine': True}, 'pos'),\n",
       " ({'strings': True}, 'pos'),\n",
       " ({'using': True}, 'pos'),\n",
       " ({'long': True}, 'pos'),\n",
       " ({'time': True}, 'pos'),\n",
       " ({'electric': True}, 'pos'),\n",
       " ({'guitars': True}, 'pos'),\n",
       " ({'get': True}, 'pos'),\n",
       " ({'really': True}, 'pos'),\n",
       " ({'nice': True}, 'pos'),\n",
       " ({'sound': True}, 'pos'),\n",
       " ({'super': True}, 'pos'),\n",
       " ({'slinky': True}, 'pos'),\n",
       " ({'strings': True}, 'pos'),\n",
       " ({'really': True}, 'pos'),\n",
       " ({'like': True}, 'pos'),\n",
       " ({'stand': True}, 'pos'),\n",
       " ({'nice': True}, 'pos'),\n",
       " ({'wide': True}, 'pos'),\n",
       " ({'leg': True}, 'pos'),\n",
       " ...]"
      ]
     },
     "execution_count": 96,
     "metadata": {},
     "output_type": "execute_result"
    }
   ],
   "source": [
    "labeledwords"
   ]
  },
  {
   "cell_type": "code",
   "execution_count": 97,
   "metadata": {},
   "outputs": [],
   "source": [
    "random.shuffle(labeledwords)"
   ]
  },
  {
   "cell_type": "code",
   "execution_count": 98,
   "metadata": {
    "scrolled": true
   },
   "outputs": [
    {
     "data": {
      "text/plain": [
       "11022"
      ]
     },
     "execution_count": 98,
     "metadata": {},
     "output_type": "execute_result"
    }
   ],
   "source": [
    "len(labeledwords)"
   ]
  },
  {
   "cell_type": "code",
   "execution_count": 99,
   "metadata": {},
   "outputs": [],
   "source": [
    "train_set, test_set = labeledwords[2000:], labeledwords[:500]\n",
    "classifier = nltk.NaiveBayesClassifier.train(train_set)"
   ]
  },
  {
   "cell_type": "code",
   "execution_count": 100,
   "metadata": {
    "scrolled": true
   },
   "outputs": [
    {
     "name": "stdout",
     "output_type": "stream",
     "text": [
      "pos\n"
     ]
    }
   ],
   "source": [
    "print(classifier.classify(word_features('This is the best guitar i have ever found on online')))"
   ]
  },
  {
   "cell_type": "code",
   "execution_count": 101,
   "metadata": {},
   "outputs": [
    {
     "name": "stdout",
     "output_type": "stream",
     "text": [
      "neg\n"
     ]
    }
   ],
   "source": [
    "print(classifier.classify(word_features(\"It doesn't suits with black coating, it is even hard to play music on it\")))"
   ]
  },
  {
   "cell_type": "code",
   "execution_count": 102,
   "metadata": {},
   "outputs": [
    {
     "data": {
      "text/plain": [
       "0.62"
      ]
     },
     "execution_count": 102,
     "metadata": {},
     "output_type": "execute_result"
    }
   ],
   "source": [
    "naive_acc=nltk.classify.accuracy(classifier, test_set)\n",
    "naive_acc"
   ]
  },
  {
   "cell_type": "code",
   "execution_count": 103,
   "metadata": {},
   "outputs": [
    {
     "name": "stdout",
     "output_type": "stream",
     "text": [
      "Accuracy score of naive bayes classifier 0.62\n"
     ]
    }
   ],
   "source": [
    "print(f\"Accuracy score of naive bayes classifier {nltk.classify.accuracy(classifier, test_set)}\")\n"
   ]
  },
  {
   "cell_type": "code",
   "execution_count": 104,
   "metadata": {
    "scrolled": false
   },
   "outputs": [
    {
     "name": "stdout",
     "output_type": "stream",
     "text": [
      "Most Informative Features\n",
      "                   cheap = True              neg : pos    =      8.1 : 1.0\n",
      "              distortion = True              neg : pos    =      8.1 : 1.0\n",
      "                       5 = True              pos : neg    =      6.9 : 1.0\n",
      "                    wall = True              pos : neg    =      6.9 : 1.0\n",
      "                      9v = True              pos : neg    =      5.9 : 1.0\n",
      "               headstock = True              pos : neg    =      5.9 : 1.0\n",
      "                    pack = True              pos : neg    =      5.9 : 1.0\n"
     ]
    }
   ],
   "source": [
    "classifier.show_most_informative_features(7)"
   ]
  },
  {
   "cell_type": "markdown",
   "metadata": {},
   "source": [
    "# Conclusions"
   ]
  },
  {
   "cell_type": "code",
   "execution_count": 105,
   "metadata": {},
   "outputs": [],
   "source": [
    "y=[opinion_lexicon_acc,naive_acc]\n",
    "x=['opinion_lexicon','naive_bayes']\n",
    "color=['red','green']"
   ]
  },
  {
   "cell_type": "code",
   "execution_count": 106,
   "metadata": {},
   "outputs": [
    {
     "data": {
      "text/plain": [
       "<BarContainer object of 2 artists>"
      ]
     },
     "execution_count": 106,
     "metadata": {},
     "output_type": "execute_result"
    },
    {
     "data": {
      "image/png": "[encoded data removed]",
      "text/plain": [
       "<Figure size 432x288 with 1 Axes>"
      ]
     },
     "metadata": {
      "needs_background": "light"
     },
     "output_type": "display_data"
    }
   ],
   "source": [
    "plt.bar(x=x,height=y,color=color)"
   ]
  },
  {
   "cell_type": "code",
   "execution_count": null,
   "metadata": {},
   "outputs": [],
   "source": []
  }
 ],
 "metadata": {
  "kernelspec": {
   "display_name": "nlp",
   "language": "python",
   "name": "nlp"
  },
  "language_info": {
   "codemirror_mode": {
    "name": "ipython",
    "version": 3
   },
   "file_extension": ".py",
   "mimetype": "text/x-python",
   "name": "python",
   "nbconvert_exporter": "python",
   "pygments_lexer": "ipython3",
   "version": "3.9.7"
  }
 },
 "nbformat": 4,
 "nbformat_minor": 2
}
